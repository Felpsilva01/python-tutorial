{
 "cells": [
  {
   "cell_type": "code",
   "execution_count": null,
   "metadata": {},
   "outputs": [],
   "source": [
    "'''\n",
    "Exercício Python 074: \n",
    "Crie um programa que vai gerar cinco números aleatórios e colocar em uma tupla. \n",
    "Depois disso, mostre a listagem de números gerados e também indique o menor e o maior valor que estão na tupla.\n",
    "'''"
   ]
  },
  {
   "cell_type": "code",
   "execution_count": 3,
   "metadata": {},
   "outputs": [
    {
     "name": "stdout",
     "output_type": "stream",
     "text": [
      "Os números gerados foram [4, 31, 34, 37, 48]\n",
      "O maior é 48\n",
      "O menor é 4\n"
     ]
    }
   ],
   "source": [
    "import random\n",
    "\n",
    "numerosAleatorios = tuple(random.randint(1, 100) for _ in range(5))\n",
    "\n",
    "print(f'Os números gerados foram {sorted(numerosAleatorios)}\\nO maior é {max(numerosAleatorios)}\\nO menor é {min(numerosAleatorios)}')"
   ]
  }
 ],
 "metadata": {
  "kernelspec": {
   "display_name": "Python 3",
   "language": "python",
   "name": "python3"
  },
  "language_info": {
   "codemirror_mode": {
    "name": "ipython",
    "version": 3
   },
   "file_extension": ".py",
   "mimetype": "text/x-python",
   "name": "python",
   "nbconvert_exporter": "python",
   "pygments_lexer": "ipython3",
   "version": "3.9.0"
  }
 },
 "nbformat": 4,
 "nbformat_minor": 2
}
