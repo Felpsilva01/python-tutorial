{
 "cells": [
  {
   "cell_type": "code",
   "execution_count": null,
   "metadata": {},
   "outputs": [],
   "source": [
    "'''\n",
    "Exercício Python 073: Crie uma tupla preenchida com os 20 primeiros \n",
    "colocados da Tabela do Campeonato Brasileiro de Futebol, na ordem de colocação. Depois mostre:\n",
    "a) Os 5 primeiros times.\n",
    "b) Os últimos 4 colocados.\n",
    "c) Times em ordem alfabética. \n",
    "d) Em que posição está o time da Chapecoense.'''"
   ]
  },
  {
   "cell_type": "code",
   "execution_count": 17,
   "metadata": {},
   "outputs": [
    {
     "name": "stdout",
     "output_type": "stream",
     "text": [
      "BRASILEIRÃO 2021\n",
      "-=-=-=-=-=-=-=-=-=-=-=-=\n",
      "Os 5 Primeiros time são: ('Atlético-MG', 'Flamengo', 'Palmeiras', 'Fortaleza', 'Corinthians')\n",
      "-=-=-=-=-=-=-=-=-=-=-=-=\n",
      "Os 4 últimos colocado são: ('Grêmio', 'Bahia', 'Sport', 'Chapecoense') \n",
      "-=-=-=-=-=-=-=-=-=-=-=-=\n",
      "Times em ordem alfabética: ['América-MG', 'Athletico-PR', 'Atlético-GO', 'Atlético-MG', 'Bahia', 'Ceará', 'Chapecoense', 'Corinthians', 'Cuiabá', 'Flamengo', 'Fluminense', 'Fortaleza', 'Grêmio', 'Internacional', 'Juventude', 'Palmeiras', 'RB Bragantino', 'Santos', 'Sport', 'São Paulo']\n",
      "-=-=-=-=-=-=-=-=-=-=-=-=\n",
      "A Chapecoense terminou em: 20\n"
     ]
    }
   ],
   "source": [
    "brasileirao = (\"Atlético-MG\", \"Flamengo\", \"Palmeiras\", \"Fortaleza\", \"Corinthians\", \"RB Bragantino\", \"Fluminense\", \"América-MG\", \"Atlético-GO\", \"Santos\", \"Ceará\", \"Internacional\", \"São Paulo\", \"Athletico-PR\", \"Cuiabá\", \"Juventude\", \"Grêmio\", \"Bahia\", \"Sport\", \"Chapecoense\")\n",
    "\n",
    "print(\"BRASILEIRÃO 2021\")\n",
    "\n",
    "print(\"-=-=\" * 6)\n",
    "print(f\"Os 5 Primeiros time são: {brasileirao[0:5]}\")\n",
    "print(\"-=-=\" * 6)\n",
    "print(f\"Os 4 últimos colocado são: {brasileirao[-4:]} \")\n",
    "print(\"-=-=\" * 6)\n",
    "print(f\"Times em ordem alfabética: {sorted(brasileirao)}\")\n",
    "print(\"-=-=\" * 6)\n",
    "print(f\"A Chapecoense terminou em:\", brasileirao.index(\"Chapecoense\") + 1)\n"
   ]
  }
 ],
 "metadata": {
  "kernelspec": {
   "display_name": "Python 3",
   "language": "python",
   "name": "python3"
  },
  "language_info": {
   "codemirror_mode": {
    "name": "ipython",
    "version": 3
   },
   "file_extension": ".py",
   "mimetype": "text/x-python",
   "name": "python",
   "nbconvert_exporter": "python",
   "pygments_lexer": "ipython3",
   "version": "3.9.0"
  }
 },
 "nbformat": 4,
 "nbformat_minor": 2
}
