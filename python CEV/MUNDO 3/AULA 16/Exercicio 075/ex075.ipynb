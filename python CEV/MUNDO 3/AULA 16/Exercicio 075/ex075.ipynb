{
 "cells": [
  {
   "cell_type": "code",
   "execution_count": null,
   "metadata": {},
   "outputs": [],
   "source": [
    "'''\n",
    "Exercício Python 075: \n",
    "Desenvolva um programa que leia quatro valores pelo teclado e guarde-os em uma tupla. No final, mostre:\n",
    "\n",
    "A) Quantas vezes apareceu o valor 9.\n",
    "B) Em que posição foi digitado o primeiro valor 3.\n",
    "C) Quais foram os números pares.'''"
   ]
  },
  {
   "cell_type": "code",
   "execution_count": 12,
   "metadata": {},
   "outputs": [
    {
     "name": "stdout",
     "output_type": "stream",
     "text": [
      "O valor 9 apareceu 2 vezes;\n",
      "O primeiro '3' foi digitado na 2º vez;\n",
      "São pares: ().\n"
     ]
    }
   ],
   "source": [
    "# Solução simples\n",
    "\n",
    "lisValores = []\n",
    "pares = []\n",
    "for i in range(4):\n",
    "    valor = int(input(\"Digite um valor: \"))\n",
    "    if valor % 2 == 0:\n",
    "        pares.append(valor)\n",
    "    lisValores.append(valor)\n",
    "\n",
    "valores = tuple(lisValores)\n",
    "\n",
    "if valores.count(9) is not None and valores.count(9) > 1:\n",
    "     print(f\"O valor 9 apareceu {valores.count(9)} vezes;\")\n",
    "elif valores.count(9) is not None and valores.count(9) == 1:\n",
    "     print(f\"O valor 9 apareceu uma vez;\")\n",
    "else:\n",
    "     print(\"Não apareceu nenhum '9'\")\n",
    "\n",
    "if valores.index(3) is not None:\n",
    "     print(f\"O primeiro '3' foi digitado na {valores.index(3)+1}º vez;\")\n",
    "else:\n",
    "     print(\"Não foi digitado nenhum '3'\")\n",
    "\n",
    "print(f\"São pares: {tuple(pares)}.\")\n"
   ]
  },
  {
   "cell_type": "code",
   "execution_count": 6,
   "metadata": {},
   "outputs": [
    {
     "name": "stdout",
     "output_type": "stream",
     "text": [
      "Valores digitados: (1, 2, 3, 4)\n",
      "A) O valor 9 apareceu 0 vezes.\n",
      "B) O primeiro valor 3 foi digitado na posição 3.\n",
      "C) Números pares: (2, 4)\n"
     ]
    }
   ],
   "source": [
    "# Solução mais avançada\n",
    "\n",
    "# Função para encontrar a posição do primeiro valor 3 na tupla\n",
    "def encontrar_primeiro_3(tupla):\n",
    "    for i, valor in enumerate(tupla):\n",
    "        if valor == 3:\n",
    "            return i\n",
    "    return None\n",
    "\n",
    "# Função para encontrar os números pares na tupla\n",
    "def encontrar_numeros_pares(tupla):\n",
    "    return tuple(x for x in tupla if x % 2 == 0)\n",
    "\n",
    "# Ler quatro valores digitados pelo usuário\n",
    "valores = tuple(int(input(f\"Digite o {i+1}º valor: \")) for i in range(4))\n",
    "\n",
    "# Mostrar a tupla de valores\n",
    "print(\"Valores digitados:\", valores)\n",
    "\n",
    "# Contar quantas vezes o valor 9 apareceu na tupla\n",
    "apareceu_9 = valores.count(9)\n",
    "\n",
    "# Encontrar a posição do primeiro valor 3\n",
    "posicao_primeiro_3 = encontrar_primeiro_3(valores)\n",
    "\n",
    "# Encontrar os números pares\n",
    "numeros_pares = encontrar_numeros_pares(valores)\n",
    "\n",
    "# Mostrar resultados\n",
    "print(f\"A) O valor 9 apareceu {apareceu_9} vezes.\")\n",
    "if posicao_primeiro_3 is not None:\n",
    "    print(f\"B) O primeiro valor 3 foi digitado na posição {posicao_primeiro_3 + 1}.\")\n",
    "else:\n",
    "    print(\"B) O valor 3 não foi digitado.\")\n",
    "print(\"C) Números pares:\", numeros_pares)\n"
   ]
  }
 ],
 "metadata": {
  "kernelspec": {
   "display_name": "Python 3",
   "language": "python",
   "name": "python3"
  },
  "language_info": {
   "codemirror_mode": {
    "name": "ipython",
    "version": 3
   },
   "file_extension": ".py",
   "mimetype": "text/x-python",
   "name": "python",
   "nbconvert_exporter": "python",
   "pygments_lexer": "ipython3",
   "version": "3.9.0"
  }
 },
 "nbformat": 4,
 "nbformat_minor": 2
}
