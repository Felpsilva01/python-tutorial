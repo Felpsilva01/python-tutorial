{
 "cells": [
  {
   "cell_type": "code",
   "execution_count": null,
   "metadata": {},
   "outputs": [],
   "source": [
    "'''\n",
    "Exercício Python 077: Crie um programa que tenha uma tupla com várias palavras (não usar acentos). \n",
    "Depois disso, você deve mostrar, para cada palavra, quais são as suas vogais.\n",
    "'''"
   ]
  },
  {
   "cell_type": "code",
   "execution_count": null,
   "metadata": {},
   "outputs": [],
   "source": [
    "palavras = ('python', 'programacao', 'exercicio', 'tupla', 'vogais')"
   ]
  },
  {
   "cell_type": "code",
   "execution_count": 4,
   "metadata": {},
   "outputs": [
    {
     "name": "stdout",
     "output_type": "stream",
     "text": [
      "As vogais em \"python\" são: o\n",
      "As vogais em \"programacao\" são: o a a a o\n",
      "As vogais em \"exercicio\" são: e e i i o\n",
      "As vogais em \"tupla\" são: u a\n",
      "As vogais em \"vogais\" são: o a i\n"
     ]
    }
   ],
   "source": [
    "# Definindo a tupla com as palavras\n",
    "palavras = ('python', 'programacao', 'exercicio', 'tupla', 'vogais')\n",
    "\n",
    "# Iterando sobre cada palavra na tupla\n",
    "for palavra in palavras:\n",
    "    vogais = ''\n",
    "    # Iterando sobre cada letra na palavra\n",
    "    for letra in palavra:\n",
    "        # Verificando se a letra é uma vogal\n",
    "        if letra.lower() in 'aeiou':\n",
    "            vogais += letra + ' '\n",
    "    # Imprimindo as vogais da palavra\n",
    "    print(f'As vogais em \"{palavra}\" são: {vogais.strip()}')\n"
   ]
  }
 ],
 "metadata": {
  "kernelspec": {
   "display_name": "Python 3",
   "language": "python",
   "name": "python3"
  },
  "language_info": {
   "codemirror_mode": {
    "name": "ipython",
    "version": 3
   },
   "file_extension": ".py",
   "mimetype": "text/x-python",
   "name": "python",
   "nbconvert_exporter": "python",
   "pygments_lexer": "ipython3",
   "version": "3.9.0"
  }
 },
 "nbformat": 4,
 "nbformat_minor": 2
}
