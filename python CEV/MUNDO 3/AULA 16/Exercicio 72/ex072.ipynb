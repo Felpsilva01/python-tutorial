{
 "cells": [
  {
   "cell_type": "code",
   "execution_count": null,
   "metadata": {},
   "outputs": [],
   "source": [
    "'''\n",
    "Exercício Python 072: \n",
    "Crie um programa que tenha uma dupla totalmente preenchida com uma contagem por extenso, \n",
    "de zero até vinte. Seu programa deverá ler um número pelo teclado (entre 0 e 20) e mostrá-lo por extenso.\n",
    "'''"
   ]
  },
  {
   "cell_type": "code",
   "execution_count": 5,
   "metadata": {},
   "outputs": [
    {
     "name": "stdout",
     "output_type": "stream",
     "text": [
      "55 é maior que 20! Digite novamente...\n",
      "O número 10 se escreve: 'dez'\n"
     ]
    }
   ],
   "source": [
    "numExtenso = (\"zero\", \"um\", \"dois\", \"três\", \"quatro\", \"cinco\",\n",
    "            \"seis\", \"sete\", \"oito\", \"nove\", \"dez\", \"onze\",\n",
    "            \"doze\", \"treze\", \"quatorze\", \"quinze\", \"dezesseis\",\n",
    "            \"dezessete\", \"dezoito\", \"dezenove\", \"vinte\")\n",
    "\n",
    "while True:\n",
    "    num = int(input(\"Digite um número de 0 a 20\"))\n",
    "    if num > 20:\n",
    "        print(f\"{num} é maior que 20! Digite novamente...\")\n",
    "        continue\n",
    "    if 0 <= num <= 20:\n",
    "        break\n",
    "\n",
    "print(f\"O número {num} se escreve: '{numExtenso[num]}'\")"
   ]
  }
 ],
 "metadata": {
  "kernelspec": {
   "display_name": "Python 3",
   "language": "python",
   "name": "python3"
  },
  "language_info": {
   "codemirror_mode": {
    "name": "ipython",
    "version": 3
   },
   "file_extension": ".py",
   "mimetype": "text/x-python",
   "name": "python",
   "nbconvert_exporter": "python",
   "pygments_lexer": "ipython3",
   "version": "3.9.0"
  }
 },
 "nbformat": 4,
 "nbformat_minor": 2
}
