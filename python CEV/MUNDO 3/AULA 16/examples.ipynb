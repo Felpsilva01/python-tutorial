{
 "cells": [
  {
   "cell_type": "code",
   "execution_count": 1,
   "metadata": {},
   "outputs": [
    {
     "name": "stdout",
     "output_type": "stream",
     "text": [
      "('Pudim', 'Pizza', 'Suco', 'Hamburguer')\n",
      "Eu vou comer Hamburguer que está em 0\n",
      "Eu vou comer Suco que está em 1\n",
      "Eu vou comer Pizza que está em 2\n",
      "Eu vou comer Pudim que está em 3\n"
     ]
    }
   ],
   "source": [
    "lanche = ('Hamburguer', 'Suco', 'Pizza', 'Pudim')\n",
    "print(lanche[::-1])\n",
    "\n",
    "for pos, comid in enumerate(lanche):\n",
    "    print(f\"Eu vou comer {comid} que está em {pos}\")"
   ]
  },
  {
   "cell_type": "code",
   "execution_count": 2,
   "metadata": {},
   "outputs": [
    {
     "name": "stdout",
     "output_type": "stream",
     "text": [
      "(2, 5, 4, 5, 8, 1, 2)\n"
     ]
    }
   ],
   "source": [
    "a = (2, 5, 4)\n",
    "b = (5, 8, 1, 2)\n",
    "c = a + b\n",
    "\n",
    "print(c)\n"
   ]
  },
  {
   "cell_type": "code",
   "execution_count": null,
   "metadata": {},
   "outputs": [],
   "source": []
  }
 ],
 "metadata": {
  "kernelspec": {
   "display_name": "Python 3",
   "language": "python",
   "name": "python3"
  },
  "language_info": {
   "codemirror_mode": {
    "name": "ipython",
    "version": 3
   },
   "file_extension": ".py",
   "mimetype": "text/x-python",
   "name": "python",
   "nbconvert_exporter": "python",
   "pygments_lexer": "ipython3",
   "version": "3.9.0"
  }
 },
 "nbformat": 4,
 "nbformat_minor": 2
}
