{
 "cells": [
  {
   "cell_type": "code",
   "execution_count": null,
   "metadata": {},
   "outputs": [],
   "source": [
    "'''\n",
    "Exercício Python 076:\n",
    "Crie um programa que tenha uma tupla única com nomes de produtos e seus respectivos preços, \n",
    "na sequência. No final, mostre uma listagem de preços, organizando os dados em forma tabular.\n",
    "'''"
   ]
  },
  {
   "cell_type": "code",
   "execution_count": 1,
   "metadata": {},
   "outputs": [
    {
     "name": "stdout",
     "output_type": "stream",
     "text": [
      "------------------------------\n",
      "Listagem de Preços\n",
      "------------------------------\n",
      "Produto         Preço (R$)\n",
      "------------------------------\n",
      "Arroz                10.99\n",
      "Feijão                5.99\n",
      "Macarrão              3.49\n",
      "Carne                25.99\n",
      "Leite                 4.50\n",
      "------------------------------\n"
     ]
    }
   ],
   "source": [
    "# Tupla com nomes de produtos e seus respectivos preços\n",
    "produtos_precos = (\n",
    "    (\"Arroz\", 29.99),\n",
    "    (\"Feijão\", 15.99),\n",
    "    (\"Macarrão\", 5.49),\n",
    "    (\"Carne\", 32.99),\n",
    "    (\"Leite\", 6.50)\n",
    ")\n",
    "\n",
    "# Mostrar os preços em forma tabular\n",
    "print(\"-\" * 30)\n",
    "print(\"Listagem de Preços\")\n",
    "print(\"-\" * 30)\n",
    "print(\"{:<15} {:>10}\".format(\"Produto\", \"Preço (R$)\"))\n",
    "print(\"-\" * 30)\n",
    "for produto, preco in produtos_precos:\n",
    "    print(\"{:<15} {:>10.2f}\".format(produto, preco))\n",
    "print(\"-\" * 30)"
   ]
  }
 ],
 "metadata": {
  "kernelspec": {
   "display_name": "Python 3",
   "language": "python",
   "name": "python3"
  },
  "language_info": {
   "codemirror_mode": {
    "name": "ipython",
    "version": 3
   },
   "file_extension": ".py",
   "mimetype": "text/x-python",
   "name": "python",
   "nbconvert_exporter": "python",
   "pygments_lexer": "ipython3",
   "version": "3.9.0"
  }
 },
 "nbformat": 4,
 "nbformat_minor": 2
}
