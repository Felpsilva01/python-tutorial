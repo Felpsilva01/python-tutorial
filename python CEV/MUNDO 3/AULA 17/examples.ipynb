{
 "cells": [
  {
   "cell_type": "code",
   "execution_count": 28,
   "metadata": {},
   "outputs": [
    {
     "name": "stdout",
     "output_type": "stream",
     "text": [
      "Essa é a lista original\n",
      "[1, 3, 5, 7, 9, 11, 13, 15, 17, 19]\n",
      "Alterei o 5 por 6 e adicionei o 21 ao fim\n",
      "[1, 3, 6, 7, 9, 11, 13, 15, 17, 19, 21]\n",
      "A dicionei o 0 ao segundo indice, ordeneie do maior para o menor e removi o último item (0)\n",
      "[21, 19, 17, 15, 13, 11, 9, 7, 6, 3, 1]\n"
     ]
    }
   ],
   "source": [
    "num = list(range(1, 20, 2))\n",
    "print(f\"Essa é a lista original\\n{num}\")\n",
    "num[2] = 6\n",
    "num.append(21)\n",
    "print(f\"Alterei o 5 por 6 e adicionei o 21 ao fim\\n{num}\")\n",
    "num.insert(0, 0)\n",
    "num.sort(reverse=True)\n",
    "num.pop()\n",
    "print(f\"A dicionei o 0 ao segundo indice, ordeneie do maior para o menor e removi o último item (0)\\n{num}\")"
   ]
  },
  {
   "cell_type": "code",
   "execution_count": 29,
   "metadata": {},
   "outputs": [
    {
     "name": "stdout",
     "output_type": "stream",
     "text": [
      "No indice 0 está a;\n",
      "No indice 1 está b;\n",
      "No indice 2 está c;\n",
      "No indice 3 está d;\n",
      "No indice 4 está e;\n",
      "No indice 5 está 5;\n",
      "No indice 6 está 10;\n",
      "No indice 7 está 15;\n",
      "No indice 8 está 20;\n",
      "No indice 9 está 25;\n",
      "No indice 10 está 30;\n",
      "No indice 11 está 35;\n",
      "No indice 12 está 40;\n",
      "No indice 13 está 45;\n",
      "No indice 14 está 50;\n"
     ]
    }
   ],
   "source": [
    "valores = []\n",
    "\n",
    "for cont in range(5):\n",
    "    valores.append(str(input(\"Digite uma letra\")))\n",
    "\n",
    "\n",
    "for i in range(5, 51, 5):\n",
    "    valores.append(i)\n",
    "\n",
    "for i, v in enumerate(valores):\n",
    "    print(f'No indice {i} está {v};')"
   ]
  },
  {
   "cell_type": "code",
   "execution_count": 32,
   "metadata": {},
   "outputs": [
    {
     "name": "stdout",
     "output_type": "stream",
     "text": [
      "Lista A: [2, 3, 8, 7]\n",
      "Lista B: [2, 3, 8, 7]\n",
      "Lista B: [2, 3, 5, 7]\n"
     ]
    }
   ],
   "source": [
    "# liga uma lista a outra\n",
    "a = [2, 3 , 4, 7]\n",
    "b = a\n",
    "b[2] = 8\n",
    "print(f'Lista A: {a}')\n",
    "print(f'Lista B: {b}')\n",
    "# para copiar basta\n",
    "b = a[:]\n",
    "b[2] = 5\n",
    "\n",
    "print(f'Lista B: {b}')"
   ]
  }
 ],
 "metadata": {
  "kernelspec": {
   "display_name": "Python 3",
   "language": "python",
   "name": "python3"
  },
  "language_info": {
   "codemirror_mode": {
    "name": "ipython",
    "version": 3
   },
   "file_extension": ".py",
   "mimetype": "text/x-python",
   "name": "python",
   "nbconvert_exporter": "python",
   "pygments_lexer": "ipython3",
   "version": "3.9.0"
  }
 },
 "nbformat": 4,
 "nbformat_minor": 2
}
