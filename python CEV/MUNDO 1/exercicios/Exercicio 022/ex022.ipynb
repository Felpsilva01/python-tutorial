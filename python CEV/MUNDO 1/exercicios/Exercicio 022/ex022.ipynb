{
 "cells": [
  {
   "cell_type": "markdown",
   "metadata": {},
   "source": [
    "Crie um programa que leia o nome completo de uma pessoa e mostre: \n",
    "- O nome com todas as letras maiúsculas e minúsculas.\n",
    "- Quantas letras ao todo (sem considerar espaços).\n",
    "- Quantas letras tem o primeiro nome."
   ]
  },
  {
   "cell_type": "code",
   "execution_count": 9,
   "metadata": {},
   "outputs": [
    {
     "name": "stdout",
     "output_type": "stream",
     "text": [
      "=-=-==-=-==-=-==-=-= Analisador de Texto =-=-==-=-==-=-==-=-==-=-=\n",
      "\n",
      "Seja bem vindo(a) Luis Felipe Gonzaga da Silva\n",
      "Nome com tudo uppercute: LUIS FELIPE GONZAGA DA SILVA\n",
      "O seu nome tem 24 letras\n",
      "Seu primeiro nome é: Luis e têm 4 letras\n",
      "\n",
      "=-=-==-=-==-=-==-=-==-=-==-=-==-=-==-=-==-=-==-=-==-=-==-=-==-=-=\n"
     ]
    }
   ],
   "source": [
    "nomeCompletoPessoa = str(input(\"Digite o seu nome completo: \"))\n",
    "nomeCompletoPessoaSemEspaco = nomeCompletoPessoa.replace(\" \", \"\")\n",
    "divisaoDoNome = nomeCompletoPessoa.split()\n",
    "print(\"=-=-=\" * 4, \"Analisador de Texto\", \"=-=-=\" * 5)\n",
    "print(f\"\\nSeja bem vindo(a) {nomeCompletoPessoa}\")\n",
    "print(f\"Nome com tudo uppercute: {nomeCompletoPessoa.upper()}\")\n",
    "print(f\"O seu nome tem {len(nomeCompletoPessoaSemEspaco)} letras\")\n",
    "print(f\"Seu primeiro nome é: {divisaoDoNome[0]} e têm {len(divisaoDoNome[0])} letras\\n\")\n",
    "print(\"=-=-=\" * 13)"
   ]
  }
 ],
 "metadata": {
  "kernelspec": {
   "display_name": "Python 3",
   "language": "python",
   "name": "python3"
  },
  "language_info": {
   "codemirror_mode": {
    "name": "ipython",
    "version": 3
   },
   "file_extension": ".py",
   "mimetype": "text/x-python",
   "name": "python",
   "nbconvert_exporter": "python",
   "pygments_lexer": "ipython3",
   "version": "3.9.0"
  }
 },
 "nbformat": 4,
 "nbformat_minor": 2
}
