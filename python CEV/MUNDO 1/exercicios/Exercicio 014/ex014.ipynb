{
 "cells": [
  {
   "cell_type": "markdown",
   "metadata": {},
   "source": [
    "Digite um programa que converta uma temperatura digita em C e converta para F"
   ]
  },
  {
   "cell_type": "code",
   "execution_count": 3,
   "metadata": {},
   "outputs": [
    {
     "name": "stdout",
     "output_type": "stream",
     "text": [
      "A temperatura em graus celcius é de 20.0 \n",
      " A temperatura em Fahrenheit é de 68.0\n"
     ]
    }
   ],
   "source": [
    "temperatura_graus = float(input('Digite a temperatura em graus celcius: '))\n",
    "Fahrenheit = (9/5) * temperatura_graus + 32\n",
    "\n",
    "print(f\"A temperatura em graus celcius é de {temperatura_graus} \\nA temperatura em Fahrenheit é de {Fahrenheit}\")"
   ]
  }
 ],
 "metadata": {
  "kernelspec": {
   "display_name": "Python 3",
   "language": "python",
   "name": "python3"
  },
  "language_info": {
   "codemirror_mode": {
    "name": "ipython",
    "version": 3
   },
   "file_extension": ".py",
   "mimetype": "text/x-python",
   "name": "python",
   "nbconvert_exporter": "python",
   "pygments_lexer": "ipython3",
   "version": "3.9.0"
  }
 },
 "nbformat": 4,
 "nbformat_minor": 2
}
