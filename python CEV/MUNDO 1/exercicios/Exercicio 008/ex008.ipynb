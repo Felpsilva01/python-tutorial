{
 "cells": [
  {
   "cell_type": "code",
   "execution_count": 3,
   "metadata": {},
   "outputs": [
    {
     "name": "stdout",
     "output_type": "stream",
     "text": [
      "Seja bem-vindo(a) ao conversor de medidas do Fe\n",
      "A medida selecionada foi 1\n",
      "1 metros é igual a 0.001km\n",
      "1 metros é igual a 0.01hm\n",
      "1 metros é igual a 0.1dam\n",
      "1 metros é igual a 10dm\n",
      "1 metros é igual a 100cm\n",
      "1 metros é igual a 1000mm\n"
     ]
    }
   ],
   "source": [
    "print(\"Seja bem-vindo(a) ao conversor de medidas do Fe\")\n",
    "\n",
    "metros = float(input(\"Digite a medida em metros: \"))\n",
    "\n",
    "print(f\"A medida selecionada foi {metros}\")\n",
    "\n",
    "print(f\"{metros} metros é igual a {metros/1000}km\")\n",
    "print(f\"{metros} metros é igual a {metros/100}hm\")\n",
    "print(f\"{metros} metros é igual a {metros/10}dam\")\n",
    "print(f\"{metros} metros é igual a {metros*10}dm\")\n",
    "print(f\"{metros} metros é igual a {metros*100}cm\")\n",
    "print(f\"{metros} metros é igual a {metros*1000}mm\")\n"
   ]
  }
 ],
 "metadata": {
  "kernelspec": {
   "display_name": "Python 3",
   "language": "python",
   "name": "python3"
  },
  "language_info": {
   "codemirror_mode": {
    "name": "ipython",
    "version": 3
   },
   "file_extension": ".py",
   "mimetype": "text/x-python",
   "name": "python",
   "nbconvert_exporter": "python",
   "pygments_lexer": "ipython3",
   "version": "3.9.0"
  }
 },
 "nbformat": 4,
 "nbformat_minor": 2
}
