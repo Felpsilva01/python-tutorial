{
 "cells": [
  {
   "cell_type": "markdown",
   "metadata": {},
   "source": [
    "Desenvolva um programa que leia as duas notas de um aluno, calcule e mostre a sua média"
   ]
  },
  {
   "cell_type": "code",
   "execution_count": 7,
   "metadata": {},
   "outputs": [
    {
     "name": "stdout",
     "output_type": "stream",
     "text": [
      "A média do aluno é de: 6.12\n"
     ]
    }
   ],
   "source": [
    "nota01 = float(input('Ditite a primeira nota: '))\n",
    "nota02 = float(input('Digite a segunda nota: '))\n",
    "\n",
    "media = (nota01 + nota02)/2\n",
    "\n",
    "print(f'A média do aluno é de: {media:.2f}')"
   ]
  }
 ],
 "metadata": {
  "kernelspec": {
   "display_name": "Python 3",
   "language": "python",
   "name": "python3"
  },
  "language_info": {
   "codemirror_mode": {
    "name": "ipython",
    "version": 3
   },
   "file_extension": ".py",
   "mimetype": "text/x-python",
   "name": "python",
   "nbconvert_exporter": "python",
   "pygments_lexer": "ipython3",
   "version": "3.9.0"
  }
 },
 "nbformat": 4,
 "nbformat_minor": 2
}
