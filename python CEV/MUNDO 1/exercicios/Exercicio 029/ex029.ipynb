{
 "cells": [
  {
   "cell_type": "code",
   "execution_count": null,
   "metadata": {},
   "outputs": [],
   "source": [
    "'''\n",
    "Escreva um programa que leia a velocidade de um carro.\n",
    "Se ele ultrapassar 80Km/h, mostre uma mensagem dizendo que ele foi multado.\n",
    "A multa vai custar R$7,00 por cada Km acima do limite.\n",
    "'''"
   ]
  },
  {
   "cell_type": "code",
   "execution_count": 15,
   "metadata": {},
   "outputs": [
    {
     "name": "stdout",
     "output_type": "stream",
     "text": [
      "Você ultrapassou o limite de velodidade de 80km/h\n",
      "Você atingiu 180km/h passando 100km/h acima do permitido\n",
      "Você deve pagar R$:1956.00!!!\n"
     ]
    }
   ],
   "source": [
    "limiteRadar = 80 # define o limite de velocidade\n",
    "valorPorKm = 7 # define o valor da multa por km\n",
    "valorBase = 1256 # valor base da multa\n",
    "velocidadeAutomovel = int(input(\"Digite a velocidade do automovel: \"))\n",
    "multa = ((velocidadeAutomovel - limiteRadar) * valorPorKm) + valorBase\n",
    "\n",
    "if velocidadeAutomovel > limiteRadar:\n",
    "    print(f\"Você ultrapassou o limite de velodidade de {limiteRadar}km/h\")\n",
    "    print(f\"Você atingiu {velocidadeAutomovel}km/h passando {velocidadeAutomovel - limiteRadar}km/h acima do permitido\")\n",
    "    print(f\"Você deve pagar R$:{multa:.2f}!!!\")\n",
    "else:\n",
    "    print(\"Tenha um bom dia e dirija com segurança!\")"
   ]
  }
 ],
 "metadata": {
  "kernelspec": {
   "display_name": "Python 3",
   "language": "python",
   "name": "python3"
  },
  "language_info": {
   "codemirror_mode": {
    "name": "ipython",
    "version": 3
   },
   "file_extension": ".py",
   "mimetype": "text/x-python",
   "name": "python",
   "nbconvert_exporter": "python",
   "pygments_lexer": "ipython3",
   "version": "3.9.0"
  }
 },
 "nbformat": 4,
 "nbformat_minor": 2
}
