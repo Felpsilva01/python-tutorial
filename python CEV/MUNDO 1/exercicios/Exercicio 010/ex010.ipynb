{
 "cells": [
  {
   "cell_type": "markdown",
   "metadata": {},
   "source": [
    "Crie um programa que leia quanto dinheiro uma pessoa tem na carteira e mostre quantos Dólares ela pode comprar."
   ]
  },
  {
   "cell_type": "code",
   "execution_count": 1,
   "metadata": {},
   "outputs": [
    {
     "name": "stdout",
     "output_type": "stream",
     "text": [
      "Conversor de moedas Casa Brasil\n",
      "Você têm R$: 20.00\n",
      "O valor do dólar americano hoje é de 4.87 Real brasileiro\n",
      "Com 20.00 reais você consegue comprar U$4.11 totais\n"
     ]
    }
   ],
   "source": [
    "print(\"Conversor de moedas Casa Brasil\")\n",
    "\n",
    "real = float(input(\"Digite o valor em reais que deseja cambiar: \"))\n",
    "print(f\"Você têm R$: {real:.2f}\")\n",
    "dolar = 4.87\n",
    "print(f'O valor do dólar americano hoje é de {dolar} Real brasileiro')\n",
    "\n",
    "cambio = real / dolar\n",
    "\n",
    "print(f'Com {real:.2f} reais você consegue comprar U${cambio:.2f} totais')"
   ]
  }
 ],
 "metadata": {
  "kernelspec": {
   "display_name": "Python 3",
   "language": "python",
   "name": "python3"
  },
  "language_info": {
   "codemirror_mode": {
    "name": "ipython",
    "version": 3
   },
   "file_extension": ".py",
   "mimetype": "text/x-python",
   "name": "python",
   "nbconvert_exporter": "python",
   "pygments_lexer": "ipython3",
   "version": "3.9.0"
  }
 },
 "nbformat": 4,
 "nbformat_minor": 2
}
