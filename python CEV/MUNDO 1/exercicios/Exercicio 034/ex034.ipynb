{
 "cells": [
  {
   "cell_type": "code",
   "execution_count": null,
   "metadata": {},
   "outputs": [],
   "source": [
    "'''\n",
    "Exercício Python 034: Escreva um programa que pergunte o salário de um funcionário e calcule o valor do seu aumento. \n",
    "Para salários superiores a R$1250,00, calcule um aumento de 10%. Para os inferiores ou iguais, o aumento é de 15%.\n",
    "'''"
   ]
  },
  {
   "cell_type": "code",
   "execution_count": 4,
   "metadata": {},
   "outputs": [
    {
     "name": "stdout",
     "output_type": "stream",
     "text": [
      "Quem ganhava R$9000.00 passa a ganhar 9900.00 reais\n"
     ]
    }
   ],
   "source": [
    "salario = float(input(\"Digite o salário do funcionário: \"))\n",
    "aumento = 0\n",
    "\n",
    "if salario >= 1250:\n",
    "    aumento = (salario * 0.1) + salario\n",
    "    print(f\"Quem ganhava R${salario:.2f} passa a ganhar {aumento:.2f} reais\")\n",
    "else:\n",
    "    aumento = (salario * 0.15) + salario\n",
    "    print(f\"Quem ganhava R$:{salario:.2f} passa a ganhar {aumento:.2f} reais\")"
   ]
  }
 ],
 "metadata": {
  "kernelspec": {
   "display_name": "Python 3",
   "language": "python",
   "name": "python3"
  },
  "language_info": {
   "codemirror_mode": {
    "name": "ipython",
    "version": 3
   },
   "file_extension": ".py",
   "mimetype": "text/x-python",
   "name": "python",
   "nbconvert_exporter": "python",
   "pygments_lexer": "ipython3",
   "version": "3.9.0"
  }
 },
 "nbformat": 4,
 "nbformat_minor": 2
}
