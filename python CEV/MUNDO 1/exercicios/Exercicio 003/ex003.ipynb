{
 "cells": [
  {
   "cell_type": "markdown",
   "metadata": {},
   "source": [
    "Crie um programa que leia dois números e mostre a soma entre eles"
   ]
  },
  {
   "cell_type": "code",
   "execution_count": 4,
   "metadata": {},
   "outputs": [
    {
     "name": "stdout",
     "output_type": "stream",
     "text": [
      "A soma dos números 5 e 2 que você digitou é 7\n"
     ]
    }
   ],
   "source": [
    "numero1 = int(input('Digite um número inteiro qualquer: '))\n",
    "numero2 = int(input('Digite outro número inteiro qualquer podendo ser igual ao anterior: '))\n",
    "soma = numero1 + numero2\n",
    "\n",
    "print(f'A soma dos números {numero1} e {numero2} que você digitou é {soma}')"
   ]
  }
 ],
 "metadata": {
  "kernelspec": {
   "display_name": "Python 3",
   "language": "python",
   "name": "python3"
  },
  "language_info": {
   "codemirror_mode": {
    "name": "ipython",
    "version": 3
   },
   "file_extension": ".py",
   "mimetype": "text/x-python",
   "name": "python",
   "nbconvert_exporter": "python",
   "pygments_lexer": "ipython3",
   "version": "3.9.0"
  }
 },
 "nbformat": 4,
 "nbformat_minor": 2
}
