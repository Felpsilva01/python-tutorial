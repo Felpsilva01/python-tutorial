{
 "cells": [
  {
   "cell_type": "code",
   "execution_count": null,
   "metadata": {},
   "outputs": [],
   "source": [
    "'''\n",
    "Exercício Python 033: Faça um programa que leia três números e mostre qual é o maior e qual é o menor.\n",
    "'''"
   ]
  },
  {
   "cell_type": "code",
   "execution_count": 6,
   "metadata": {},
   "outputs": [
    {
     "name": "stdout",
     "output_type": "stream",
     "text": [
      "10 20 15\n",
      "O maior valor é o segundo número: '20'\n"
     ]
    }
   ],
   "source": [
    "primeiroNumero = int(input(\"Digite o primeiro numero: \"))\n",
    "segundoNumero = int(input(\"Digite o segundo numero: \"))\n",
    "terceiroNumero = int(input(\"Digite o terceiro numero: \"))\n",
    "print(primeiroNumero, segundoNumero, terceiroNumero)\n",
    "if primeiroNumero > segundoNumero and primeiroNumero > terceiroNumero:\n",
    "    print(f\"O maior valor é o primeiro numero: '{primeiroNumero}'\")\n",
    "elif segundoNumero > primeiroNumero and segundoNumero > terceiroNumero:\n",
    "    print(f\"O maior valor é o segundo número: '{segundoNumero}'\")\n",
    "else:\n",
    "    print(f\"O maior valor digitado é o terceiro: '{terceiroNumero}'\")"
   ]
  },
  {
   "cell_type": "code",
   "execution_count": 7,
   "metadata": {},
   "outputs": [
    {
     "name": "stdout",
     "output_type": "stream",
     "text": [
      "O maior número é 1020.0\n",
      "O menor número é 100.0\n"
     ]
    }
   ],
   "source": [
    "# Solicita os três números ao usuário\n",
    "num1 = float(input(\"Digite o primeiro número: \"))\n",
    "num2 = float(input(\"Digite o segundo número: \"))\n",
    "num3 = float(input(\"Digite o terceiro número: \"))\n",
    "\n",
    "# Encontra o maior e o menor usando as funções min e max\n",
    "maior = max(num1, num2, num3)\n",
    "menor = min(num1, num2, num3)\n",
    "\n",
    "# Exibe o resultado\n",
    "print(f\"O maior número é {maior}\")\n",
    "print(f\"O menor número é {menor}\")\n"
   ]
  }
 ],
 "metadata": {
  "kernelspec": {
   "display_name": "Python 3",
   "language": "python",
   "name": "python3"
  },
  "language_info": {
   "codemirror_mode": {
    "name": "ipython",
    "version": 3
   },
   "file_extension": ".py",
   "mimetype": "text/x-python",
   "name": "python",
   "nbconvert_exporter": "python",
   "pygments_lexer": "ipython3",
   "version": "3.9.0"
  }
 },
 "nbformat": 4,
 "nbformat_minor": 2
}
