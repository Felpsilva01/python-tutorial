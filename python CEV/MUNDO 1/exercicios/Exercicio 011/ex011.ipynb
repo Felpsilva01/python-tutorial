{
 "cells": [
  {
   "cell_type": "markdown",
   "metadata": {},
   "source": [
    "Faça um programa que leia a largura e a altura de uma parede em metros, calcule a sua área e a quantidade de tinta necessária para pintá-la, sabendo que cada litro de tinta, pinta uma área de 2m²"
   ]
  },
  {
   "cell_type": "code",
   "execution_count": 5,
   "metadata": {},
   "outputs": [
    {
     "name": "stdout",
     "output_type": "stream",
     "text": [
      "-------------------------\n",
      "Programa amigo do pintor\n",
      "\n",
      "Sua parede têm 2.0m de altura e 10.0m de largura e uma área de 20.0m²\n",
      "Você precisará de 10.0 litros de tinta para pintar sua parede inteira!\n",
      "-------------------------\n"
     ]
    }
   ],
   "source": [
    "print(\"-\"*25)\n",
    "print('Programa amigo do pintor\\n')\n",
    "\n",
    "altura = float(input(\"Digite a altura da parede: \"))\n",
    "largura = float(input(\"Digite a largura da parede: \"))\n",
    "area = altura * largura\n",
    "\n",
    "print(f'Sua parede têm {altura}m de altura e {largura}m de largura e uma área de {area}m²')\n",
    "print(f'Você precisará de {area/2} litros de tinta para pintar sua parede inteira!')\n",
    "\n",
    "print(\"-\"*25)"
   ]
  }
 ],
 "metadata": {
  "kernelspec": {
   "display_name": "Python 3",
   "language": "python",
   "name": "python3"
  },
  "language_info": {
   "codemirror_mode": {
    "name": "ipython",
    "version": 3
   },
   "file_extension": ".py",
   "mimetype": "text/x-python",
   "name": "python",
   "nbconvert_exporter": "python",
   "pygments_lexer": "ipython3",
   "version": "3.9.0"
  }
 },
 "nbformat": 4,
 "nbformat_minor": 2
}
