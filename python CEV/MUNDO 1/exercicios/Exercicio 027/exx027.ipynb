{
 "cells": [
  {
   "cell_type": "markdown",
   "metadata": {},
   "source": [
    "Faça um programa que leia o nome completo de uma pessoa, mostrando em seguida o primeiro e o último nome separadamente.\n"
   ]
  },
  {
   "cell_type": "code",
   "execution_count": 6,
   "metadata": {},
   "outputs": [
    {
     "name": "stdout",
     "output_type": "stream",
     "text": [
      "Muito prazer em te conhecer Luis Felipe Gonzaga Da Silva!\n",
      "Seu primeiro nome é LUIS.\n",
      "Seu último nome é SILVA.\n"
     ]
    }
   ],
   "source": [
    "nome = str(input(\"Digite seu nome completo: \")).strip().upper()\n",
    "listaNome = nome.split(' ')\n",
    "print(f'Muito prazer em te conhecer {nome.lower().title()}!')\n",
    "print(f'''Seu primeiro nome é {listaNome[0]}.\n",
    "Seu último nome é {listaNome[-1]}.''')"
   ]
  }
 ],
 "metadata": {
  "kernelspec": {
   "display_name": "Python 3",
   "language": "python",
   "name": "python3"
  },
  "language_info": {
   "codemirror_mode": {
    "name": "ipython",
    "version": 3
   },
   "file_extension": ".py",
   "mimetype": "text/x-python",
   "name": "python",
   "nbconvert_exporter": "python",
   "pygments_lexer": "ipython3",
   "version": "3.9.0"
  }
 },
 "nbformat": 4,
 "nbformat_minor": 2
}
