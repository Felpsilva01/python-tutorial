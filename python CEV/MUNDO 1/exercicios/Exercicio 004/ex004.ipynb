{
 "cells": [
  {
   "cell_type": "markdown",
   "metadata": {},
   "source": [
    "Faça um programa que leia algo pelo teclado e mostre na tela o seu tipo primitivo e todas as informações possíveis sobre ele."
   ]
  },
  {
   "cell_type": "code",
   "execution_count": 17,
   "metadata": {},
   "outputs": [
    {
     "name": "stdout",
     "output_type": "stream",
     "text": [
      "O Tipo primitivo desses caracteres é:  <class 'str'>\n",
      "O(s) Conjunto(s) de caractere(s) \"99\" é alfabético? False\n",
      "O(s) Conjunto(s) de caractere(s) \"99\" é numérico? True\n",
      "O(s) Conjunto(s) de caractere(s) \"99\" é Alfa-numérico? True\n",
      "O(s) Conjunto(s) de caractere(s) \"99\" é numérico?\n",
      "O(s) Conjunto(s) de caractere(s) \"99\" têm espaços entre si? False\n",
      "O(s) Conjunto(s) de caractere(s) \"99\" esta tudo em MAIUSCULO? False\n"
     ]
    }
   ],
   "source": [
    "algo = input('Digite algo: ')\n",
    "print(f'O Tipo primitivo desses caracteres é: ', type(algo))\n",
    "print(f'O(s) Conjunto(s) de caractere(s) \"{algo}\" é alfabético?', algo.isalpha())\n",
    "print(f'O(s) Conjunto(s) de caractere(s) \"{algo}\" é numérico?', algo.isnumeric())\n",
    "print(f'O(s) Conjunto(s) de caractere(s) \"{algo}\" é Alfa-numérico?', algo.isalnum())\n",
    "print(f'O(s) Conjunto(s) de caractere(s) \"{algo}\" é numérico?')\n",
    "print(f'O(s) Conjunto(s) de caractere(s) \"{algo}\" têm espaços entre si?', algo.isspace())\n",
    "print(f'O(s) Conjunto(s) de caractere(s) \"{algo}\" esta tudo em MAIUSCULO?', algo.isupper())\n",
    "\n"
   ]
  }
 ],
 "metadata": {
  "kernelspec": {
   "display_name": "Python 3",
   "language": "python",
   "name": "python3"
  },
  "language_info": {
   "codemirror_mode": {
    "name": "ipython",
    "version": 3
   },
   "file_extension": ".py",
   "mimetype": "text/x-python",
   "name": "python",
   "nbconvert_exporter": "python",
   "pygments_lexer": "ipython3",
   "version": "3.9.0"
  }
 },
 "nbformat": 4,
 "nbformat_minor": 2
}
