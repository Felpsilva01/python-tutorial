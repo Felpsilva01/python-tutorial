{
 "cells": [
  {
   "cell_type": "markdown",
   "metadata": {},
   "source": [
    "O mesmo professor do desafio 019 quer sortear a ordem de apresentação de trabalhos dos alunos. Faça um programa que leia o nome dos quatro alunos e mostre a ordem sorteada.\n"
   ]
  },
  {
   "cell_type": "code",
   "execution_count": 7,
   "metadata": {},
   "outputs": [
    {
     "name": "stdout",
     "output_type": "stream",
     "text": [
      "Este são os alunos ['um', 'dois', 'tres', 'quatro']\n",
      "Esses são os alunos: ['um', 'tres', 'quatro', 'dois']\n"
     ]
    }
   ],
   "source": [
    "import random\n",
    "\n",
    "AlunoUm = str(input(\"Digite o nome do Aluno: \"))\n",
    "AlunoDois = str(input(\"Digite o nome do Aluno: \"))\n",
    "AlunoTres = str(input(\"Digite o nome do Aluno: \"))\n",
    "AlunoQuatro = str(input(\"Digite o nome do Aluno: \"))\n",
    "listaAlunos = [AlunoUm, AlunoDois, AlunoTres, AlunoQuatro]\n",
    "print(f'Este são os alunos {listaAlunos}')\n",
    "random.shuffle(listaAlunos)\n",
    "\n",
    "print(f\"Esses são os alunos escolhidos: {listaAlunos}\")\n"
   ]
  },
  {
   "cell_type": "markdown",
   "metadata": {},
   "source": [
    "Time de futebol na sala"
   ]
  },
  {
   "cell_type": "code",
   "execution_count": 19,
   "metadata": {},
   "outputs": [
    {
     "name": "stdout",
     "output_type": "stream",
     "text": [
      "Alunos para Futsal\n",
      "\n",
      "David Palmer\n",
      "Mark Bailey\n",
      "Michael Davis\n",
      "Mike Guerra\n",
      "Mary Jones\n",
      "Rebecca Meadows\n",
      "Wendy Porter\n",
      "Crystal Carlson\n",
      "Donald Case\n",
      "Victoria Steele\n",
      "\n",
      "Time A: ['Rebecca Meadows', 'Michael Davis', 'Mike Guerra', 'Crystal Carlson', 'Mary Jones']\n",
      "Time B: ['David Palmer', 'Victoria Steele', 'Mark Bailey', 'Donald Case', 'Wendy Porter']\n"
     ]
    }
   ],
   "source": [
    "from faker import Faker\n",
    "import random\n",
    "\n",
    "fake = Faker()\n",
    "\n",
    "listaAluno = []\n",
    "print(\"Alunos para Futsal\\n\")\n",
    "for _ in range(10):\n",
    "    nome = fake.name()\n",
    "    listaAluno.append(nome)\n",
    "    print(nome)\n",
    "\n",
    "random.shuffle(listaAluno)\n",
    "timeA = listaAluno[0:5]\n",
    "timeB = listaAluno[5:10]\n",
    "print(f\"\\nTime A: {timeA}\\nTime B: {timeB}\")"
   ]
  }
 ],
 "metadata": {
  "kernelspec": {
   "display_name": "Python 3",
   "language": "python",
   "name": "python3"
  },
  "language_info": {
   "codemirror_mode": {
    "name": "ipython",
    "version": 3
   },
   "file_extension": ".py",
   "mimetype": "text/x-python",
   "name": "python",
   "nbconvert_exporter": "python",
   "pygments_lexer": "ipython3",
   "version": "3.9.0"
  }
 },
 "nbformat": 4,
 "nbformat_minor": 2
}
