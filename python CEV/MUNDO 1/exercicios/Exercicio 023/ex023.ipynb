{
 "cells": [
  {
   "cell_type": "markdown",
   "metadata": {},
   "source": [
    "Faça um programa que leia um número de 0 a 9999 e mostre na tela cada um dos dígitos separados.\n"
   ]
  },
  {
   "cell_type": "code",
   "execution_count": 2,
   "metadata": {},
   "outputs": [
    {
     "name": "stdout",
     "output_type": "stream",
     "text": [
      "Milhar: 9\n",
      "Centena: 8\n",
      "Dezena: 0\n",
      "Unidade: 2\n"
     ]
    }
   ],
   "source": [
    "numero = int(input(\"Digite um numero entre 0 e 9999: \"))\n",
    "\n",
    "if 0 <= numero <= 9999:\n",
    "    milhar = numero // 1000\n",
    "    centena = (numero % 1000) // 100\n",
    "    dezena = (numero % 100) // 10\n",
    "    unidade = numero % 10\n",
    "\n",
    "    print(f'Milhar: {milhar}')\n",
    "    print(f'Centena: {centena}')\n",
    "    print(f'Dezena: {dezena}')\n",
    "    print(f'Unidade: {unidade}')\n",
    "else:\n",
    "    print(\"Número fora do intervalo pedido.\")"
   ]
  }
 ],
 "metadata": {
  "kernelspec": {
   "display_name": "Python 3",
   "language": "python",
   "name": "python3"
  },
  "language_info": {
   "codemirror_mode": {
    "name": "ipython",
    "version": 3
   },
   "file_extension": ".py",
   "mimetype": "text/x-python",
   "name": "python",
   "nbconvert_exporter": "python",
   "pygments_lexer": "ipython3",
   "version": "3.9.0"
  }
 },
 "nbformat": 4,
 "nbformat_minor": 2
}
