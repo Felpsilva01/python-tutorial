{
 "cells": [
  {
   "cell_type": "markdown",
   "metadata": {},
   "source": [
    "Crie um algoritimo que leia um número e mostre o seu dobro, triplo e raíz quadrada"
   ]
  },
  {
   "cell_type": "code",
   "execution_count": 4,
   "metadata": {},
   "outputs": [
    {
     "name": "stdout",
     "output_type": "stream",
     "text": [
      "O dobro de 81 é: 162\n",
      "O triplo de 81 é: 243\n",
      "A metade de 81 é: 40.5\n",
      "A raíz quadrade de 81 é: 9.0\n",
      "A raíz quadrade de 81 é: 9.0\n"
     ]
    }
   ],
   "source": [
    "import math\n",
    "num = int(input(\"Digite um número inteiro qualquer: \"))\n",
    "print(f'O dobro de {num} é: {num*2}')\n",
    "print(f'O triplo de {num} é: {num*3}')\n",
    "print(f'A metade de {num} é: {num/2}')\n",
    "# print(f'A raíz quadrade de {num} é: {math.sqrt(num)}')\n",
    "print(f'A raíz quadrade de {num} é: {num**0.5}')"
   ]
  }
 ],
 "metadata": {
  "kernelspec": {
   "display_name": "Python 3",
   "language": "python",
   "name": "python3"
  },
  "language_info": {
   "codemirror_mode": {
    "name": "ipython",
    "version": 3
   },
   "file_extension": ".py",
   "mimetype": "text/x-python",
   "name": "python",
   "nbconvert_exporter": "python",
   "pygments_lexer": "ipython3",
   "version": "3.9.0"
  }
 },
 "nbformat": 4,
 "nbformat_minor": 2
}
