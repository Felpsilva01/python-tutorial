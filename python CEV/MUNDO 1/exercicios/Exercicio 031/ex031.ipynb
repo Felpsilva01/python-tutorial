{
 "cells": [
  {
   "cell_type": "code",
   "execution_count": null,
   "metadata": {},
   "outputs": [],
   "source": [
    "\"\"\"\n",
    "Exercício Python 031: Desenvolva um programa que pergunte a distância de uma viagem em Km. \n",
    "Calcule o preço da passagem, cobrando R$0,50 por Km para viagens de até 200Km e R$0,45 parta viagens mais longas.\n",
    "\"\"\""
   ]
  },
  {
   "cell_type": "code",
   "execution_count": 4,
   "metadata": {},
   "outputs": [
    {
     "name": "stdout",
     "output_type": "stream",
     "text": [
      "Você pagará 180.00 pela viagem de 400km's\n"
     ]
    }
   ],
   "source": [
    "distanciaViagem = int(input(\"Qual a distância da viagem: \"))\n",
    "preço = 0\n",
    "if distanciaViagem > 200:\n",
    "    preço = distanciaViagem * 0.45\n",
    "    print(f\"Você pagará {preço:.2f} pela viagem de {distanciaViagem}km\")\n",
    "else:\n",
    "    preço = distanciaViagem * 0.5\n",
    "    print(f\"Você pagará R$:{preço:.2f} pela viagem de {distanciaViagem}km\")"
   ]
  }
 ],
 "metadata": {
  "kernelspec": {
   "display_name": "Python 3",
   "language": "python",
   "name": "python3"
  },
  "language_info": {
   "codemirror_mode": {
    "name": "ipython",
    "version": 3
   },
   "file_extension": ".py",
   "mimetype": "text/x-python",
   "name": "python",
   "nbconvert_exporter": "python",
   "pygments_lexer": "ipython3",
   "version": "3.9.0"
  }
 },
 "nbformat": 4,
 "nbformat_minor": 2
}
