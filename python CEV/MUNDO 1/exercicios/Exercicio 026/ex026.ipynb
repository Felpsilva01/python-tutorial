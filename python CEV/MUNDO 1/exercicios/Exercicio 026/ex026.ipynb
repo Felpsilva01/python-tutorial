{
 "cells": [
  {
   "cell_type": "markdown",
   "metadata": {},
   "source": [
    "Faça um programa que leia uma frase pelo teclado e mostre quantas vezes aparece a letra \"A\", em que posição ela aparece a primeira vez e em que posição ela aparece a última vez.\n"
   ]
  },
  {
   "cell_type": "code",
   "execution_count": 13,
   "metadata": {},
   "outputs": [
    {
     "name": "stdout",
     "output_type": "stream",
     "text": [
      "A letra \"A\" aparece 2 vezes\n",
      "A primeira letra \"A\" apareceu na 1 posição\n",
      "A última letra \"A\" apareceu na 3 posição\n"
     ]
    }
   ],
   "source": [
    "frase = str(input(\"Digite uma frase: \")).upper().strip()\n",
    "contador = frase.count(\"A\")\n",
    "primeiraPosicao = frase.index(\"A\")\n",
    "ultimaPosicao = frase.index(\"A\", -1)\n",
    "print(f'A letra \"A\" aparece {contador} vezes')\n",
    "print(f'A primeira letra \"A\" apareceu na {primeiraPosicao + 1} posição')\n",
    "print(f'A última letra \"A\" apareceu na {ultimaPosicao + 1} posição')"
   ]
  }
 ],
 "metadata": {
  "kernelspec": {
   "display_name": "Python 3",
   "language": "python",
   "name": "python3"
  },
  "language_info": {
   "codemirror_mode": {
    "name": "ipython",
    "version": 3
   },
   "file_extension": ".py",
   "mimetype": "text/x-python",
   "name": "python",
   "nbconvert_exporter": "python",
   "pygments_lexer": "ipython3",
   "version": "3.9.0"
  }
 },
 "nbformat": 4,
 "nbformat_minor": 2
}
