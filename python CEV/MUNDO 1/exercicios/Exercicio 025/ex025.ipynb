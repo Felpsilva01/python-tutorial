{
 "cells": [
  {
   "cell_type": "markdown",
   "metadata": {},
   "source": [
    "Crie um programa que leia o nome de uma pessoa e diga se ela tem \"SILVA\" no nome."
   ]
  },
  {
   "cell_type": "code",
   "execution_count": 6,
   "metadata": {},
   "outputs": [
    {
     "name": "stdout",
     "output_type": "stream",
     "text": [
      "LUIS FELIPE GONZAGA DA SILVO\n",
      "Seu nome Luis Felipe Gonzaga Da Silvo não tem o sobrenome 'Silva'\n"
     ]
    }
   ],
   "source": [
    "nomePessoa = str(input(\"Digite seu nome completo: \")).strip().upper()\n",
    "print(nomePessoa)\n",
    "\n",
    "if \"SILVA\" in nomePessoa:\n",
    "    print(f\"Seu nome contém o sobre nome 'Silva'\")\n",
    "else:\n",
    "    print(f\"Seu nome {nomePessoa.lower().title()} não tem o sobrenome 'Silva'\")"
   ]
  }
 ],
 "metadata": {
  "kernelspec": {
   "display_name": "Python 3",
   "language": "python",
   "name": "python3"
  },
  "language_info": {
   "codemirror_mode": {
    "name": "ipython",
    "version": 3
   },
   "file_extension": ".py",
   "mimetype": "text/x-python",
   "name": "python",
   "nbconvert_exporter": "python",
   "pygments_lexer": "ipython3",
   "version": "3.9.0"
  }
 },
 "nbformat": 4,
 "nbformat_minor": 2
}
