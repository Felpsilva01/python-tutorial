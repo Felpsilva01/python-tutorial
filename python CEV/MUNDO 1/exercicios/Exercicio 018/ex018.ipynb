{
 "cells": [
  {
   "cell_type": "markdown",
   "metadata": {},
   "source": [
    "Faça um programa que leia um ângulo qualquer e mostre na tela o valor do seno, cosseno e tangente desse ângulo.\n"
   ]
  },
  {
   "cell_type": "code",
   "execution_count": 12,
   "metadata": {},
   "outputs": [
    {
     "name": "stdout",
     "output_type": "stream",
     "text": [
      "-=-=--=-=--=-=--=-=--=-=--=-=--=-=--=-=--=-=--=-=--=-=--=-=--=-=--=-=--=-=--=-=--=-=--=-=--=-=--=-=--=-=--=-=--=-=--=-=--=-=-\n",
      "Expositor de angulos\n",
      "Seno do angulo 30.0: 0.17\n",
      "Cosseno do angulo 30.0: 0.98\n",
      "Tangente do angulo 30.0: 0.18\n",
      "\n"
     ]
    }
   ],
   "source": [
    "import math   \n",
    "def introducao():\n",
    "    print('-=-=-' * 25)\n",
    "\n",
    "introducao()\n",
    "print('Expositor de angulos')\n",
    "# função para converter graus para radianos\n",
    "def grausParaRadianos(anguloGraus):\n",
    "    return math.radians(anguloGraus)\n",
    "\n",
    "def calcularFuncoesTri(anguloGraus):\n",
    "    anguloRadianos = grausParaRadianos(anguloGraus)\n",
    "\n",
    "    seno = math.sin(anguloRadianos)\n",
    "    cosseno = math.cos(anguloRadianos)\n",
    "\n",
    "    tangente = None\n",
    "    if math.cos(anguloRadianos) != 0:\n",
    "        tangente = math.tan(anguloRadianos)\n",
    "\n",
    "    return seno, cosseno, tangente\n",
    "\n",
    "anguloGraus = float(input('Digite o angulo: '))\n",
    "\n",
    "print(f'Seno do angulo {anguloGraus}: {seno:.2f}')\n",
    "print(f'Cosseno do angulo {anguloGraus}: {cosseno:.2f}')\n",
    "\n",
    "if tangente is not None:\n",
    "    print(f'Tangente do angulo {anguloGraus}: {tangente:.2f}')\n",
    "else:\n",
    "    print(f'A tangente é indefinida para este ângulo {anguloGraus}')\n",
    "\n",
    "print()"
   ]
  },
  {
   "cell_type": "code",
   "execution_count": 1,
   "metadata": {},
   "outputs": [
    {
     "name": "stdout",
     "output_type": "stream",
     "text": [
      "Seno do ângulo: 0.50\n",
      "Cosseno do ângulo: 0.87\n",
      "Tangente do ângulo: 0.58\n"
     ]
    }
   ],
   "source": [
    "import math\n",
    "\n",
    "# Função para converter graus para radianos\n",
    "def graus_para_radianos(angulo_graus):\n",
    "    return math.radians(angulo_graus)\n",
    "\n",
    "# Função para calcular seno, cosseno e tangente de um ângulo\n",
    "def calcular_funcoes_trigonometricas(angulo_graus):\n",
    "    angulo_radianos = graus_para_radianos(angulo_graus)\n",
    "\n",
    "    seno = math.sin(angulo_radianos)\n",
    "    cosseno = math.cos(angulo_radianos)\n",
    "    \n",
    "    # A função tan() pode produzir valores infinitos para certos ângulos, então verificamos isso\n",
    "    tangente = None\n",
    "    if math.cos(angulo_radianos) != 0:\n",
    "        tangente = math.tan(angulo_radianos)\n",
    "\n",
    "    return seno, cosseno, tangente\n",
    "\n",
    "# Solicitar ao usuário para inserir o ângulo\n",
    "angulo_graus = float(input(\"Digite o valor do ângulo em graus: \"))\n",
    "\n",
    "# Calcular seno, cosseno e tangente\n",
    "seno, cosseno, tangente = calcular_funcoes_trigonometricas(angulo_graus)\n",
    "\n",
    "# Exibir resultados\n",
    "print(f\"Seno do ângulo: {seno:.2f}\")\n",
    "print(f\"Cosseno do ângulo: {cosseno:.2f}\")\n",
    "\n",
    "if tangente is not None:\n",
    "    print(f\"Tangente do ângulo: {tangente:.2f}\")\n",
    "else:\n",
    "    print(\"A tangente é indefinida para este ângulo.\")\n"
   ]
  }
 ],
 "metadata": {
  "kernelspec": {
   "display_name": "Python 3",
   "language": "python",
   "name": "python3"
  },
  "language_info": {
   "codemirror_mode": {
    "name": "ipython",
    "version": 3
   },
   "file_extension": ".py",
   "mimetype": "text/x-python",
   "name": "python",
   "nbconvert_exporter": "python",
   "pygments_lexer": "ipython3",
   "version": "3.9.0"
  }
 },
 "nbformat": 4,
 "nbformat_minor": 2
}
