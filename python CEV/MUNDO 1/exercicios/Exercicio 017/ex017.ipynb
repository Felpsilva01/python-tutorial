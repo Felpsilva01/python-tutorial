{
 "cells": [
  {
   "cell_type": "markdown",
   "metadata": {},
   "source": [
    "Faça um programa que leia o comprimento do cateto oposto e do cateto adjacente de um triângulo retângulo. Calcule e mostre o comprimento da hipotenusa."
   ]
  },
  {
   "cell_type": "code",
   "execution_count": 2,
   "metadata": {},
   "outputs": [
    {
     "name": "stdout",
     "output_type": "stream",
     "text": [
      "Bem-vindo ao calculador automatico de hipotenusa\n",
      "\n",
      "\n",
      "Você nos informou que os lados medem: 4.0 e 3.0\n",
      "Sabendo disso, podemos obter o valor da hipotenusa.\n",
      "\n",
      "\n",
      "Existem algumas maneiras de obtermos esse valor: 5.00\n",
      "Utilizando a função sqrt: 5.0\n",
      "Utilizando a função hypot: 5.0\n"
     ]
    }
   ],
   "source": [
    "import math\n",
    "\n",
    "print('Bem-vindo ao calculador automatico de hipotenusa')\n",
    "print('\\n')\n",
    "\n",
    "catetoOposto = float(input('Digite o cateto oposto: '))\n",
    "catetoAdjacente = float(input('Digite o cateto adjacente: '))\n",
    "formulaHipotenusa = (catetoOposto ** 2 + catetoAdjacente **2)**0.5\n",
    "print(f'Você nos informou que os lados medem: {catetoAdjacente} e {catetoOposto}\\nSabendo disso, podemos obter o valor da hipotenusa.')\n",
    "print('\\n')\n",
    "\n",
    "# utilizando a formula matemática\n",
    "print(f'Existem algumas maneiras de obtermos esse valor: {formulaHipotenusa:.2f}')\n",
    "\n",
    "# utilizando a função sqrt de math\n",
    "print(f'Utilizando a função sqrt: {math.sqrt(catetoAdjacente**2 + catetoOposto**2)}')\n",
    "\n",
    "# utilizando a função hypot de math\n",
    "print(f'Utilizando a função hypot: {math.hypot(catetoAdjacente, catetoOposto)}')\n"
   ]
  }
 ],
 "metadata": {
  "kernelspec": {
   "display_name": "Python 3",
   "language": "python",
   "name": "python3"
  },
  "language_info": {
   "codemirror_mode": {
    "name": "ipython",
    "version": 3
   },
   "file_extension": ".py",
   "mimetype": "text/x-python",
   "name": "python",
   "nbconvert_exporter": "python",
   "pygments_lexer": "ipython3",
   "version": "3.9.0"
  }
 },
 "nbformat": 4,
 "nbformat_minor": 2
}
