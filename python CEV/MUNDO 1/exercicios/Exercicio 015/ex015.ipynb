{
 "cells": [
  {
   "cell_type": "markdown",
   "metadata": {},
   "source": [
    " Escreva um programa que pergunte a quantidade de Km percorridos por um carro alugado e a quantidade de dias pelos quais ele foi alugado. Calcule o preço a pagar, sabendo que o carro custa R$60 por dia e R$0,15 por Km rodado."
   ]
  },
  {
   "cell_type": "code",
   "execution_count": 6,
   "metadata": {},
   "outputs": [
    {
     "name": "stdout",
     "output_type": "stream",
     "text": [
      "-=--=--=--=--=--=--=--=--=--=--=--=--=--=--=--=--=--=--=--=--=--=--=--=--=--=--=--=--=--=-\n",
      "Alugel de Carros mcQueen\n",
      "\n",
      "Parabéns por alugar seu carro conosco.\n",
      "Calcule agora qual foi seu gasto!\n",
      "\n",
      "Você nos informou que:\n",
      "Andou 1000Km com o carro e ficou 10 dias com ele!\n",
      "\n",
      "Sabendo disso, seu gasto foi de R$:750.00\n",
      "-=--=--=--=--=--=--=--=--=--=--=--=--=--=--=--=--=--=--=--=--=--=--=--=--=--=--=--=--=--=-\n"
     ]
    }
   ],
   "source": [
    "print(\"-=-\" * 30)\n",
    "print(\"Alugel de Carros mcQueen\\n\\nParabéns por alugar seu carro conosco.\\nCalcule agora qual foi seu gasto!\\n\")\n",
    "\n",
    "km = float(input(\"Qual foi a quilometragem gasta? \"))\n",
    "dias = int(input(\"Quantos dias você ficou com o carro? \"))\n",
    "print(f'Você nos informou que:\\nAndou {km:.0f}Km com o carro e ficou {dias} dias com ele!\\n')\n",
    "print(f'Sabendo disso, seu gasto foi de R$:{(km*0.15)+(dias*60):.2f}')\n",
    "\n",
    "\n",
    "print(\"-=-\" * 30)"
   ]
  }
 ],
 "metadata": {
  "kernelspec": {
   "display_name": "Python 3",
   "language": "python",
   "name": "python3"
  },
  "language_info": {
   "codemirror_mode": {
    "name": "ipython",
    "version": 3
   },
   "file_extension": ".py",
   "mimetype": "text/x-python",
   "name": "python",
   "nbconvert_exporter": "python",
   "pygments_lexer": "ipython3",
   "version": "3.9.0"
  }
 },
 "nbformat": 4,
 "nbformat_minor": 2
}
