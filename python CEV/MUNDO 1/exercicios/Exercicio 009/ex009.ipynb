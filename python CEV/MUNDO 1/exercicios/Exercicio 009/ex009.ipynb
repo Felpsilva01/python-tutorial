{
 "cells": [
  {
   "cell_type": "markdown",
   "metadata": {},
   "source": [
    "Faça um programa que leia um numero inteiro qualquer e mostre na tela sua tabuada"
   ]
  },
  {
   "cell_type": "code",
   "execution_count": 2,
   "metadata": {},
   "outputs": [
    {
     "name": "stdout",
     "output_type": "stream",
     "text": [
      "Tabuada do 99:\n",
      "99 x 1 = 99\n",
      "99 x 2 = 198\n",
      "99 x 3 = 297\n",
      "99 x 4 = 396\n",
      "99 x 5 = 495\n",
      "99 x 6 = 594\n",
      "99 x 7 = 693\n",
      "99 x 8 = 792\n",
      "99 x 9 = 891\n",
      "99 x 10 = 990\n"
     ]
    }
   ],
   "source": [
    "# Solicita ao usuário que insira um número inteiro\n",
    "numero = int(input(\"Digite um número inteiro: \"))\n",
    "\n",
    "# Imprime a tabuada do número inserido até 10\n",
    "print(f\"Tabuada do {numero}:\")\n",
    "\n",
    "for i in range(1, 11):\n",
    "    resultado = numero * i\n",
    "    print(f\"{numero} x {i} = {resultado}\")\n"
   ]
  }
 ],
 "metadata": {
  "kernelspec": {
   "display_name": "Python 3",
   "language": "python",
   "name": "python3"
  },
  "language_info": {
   "codemirror_mode": {
    "name": "ipython",
    "version": 3
   },
   "file_extension": ".py",
   "mimetype": "text/x-python",
   "name": "python",
   "nbconvert_exporter": "python",
   "pygments_lexer": "ipython3",
   "version": "3.9.0"
  }
 },
 "nbformat": 4,
 "nbformat_minor": 2
}
