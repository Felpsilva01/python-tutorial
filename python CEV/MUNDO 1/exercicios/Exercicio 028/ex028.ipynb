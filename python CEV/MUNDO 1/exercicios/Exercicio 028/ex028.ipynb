{
 "cells": [
  {
   "cell_type": "code",
   "execution_count": null,
   "metadata": {},
   "outputs": [],
   "source": [
    "'''Escreva um programa que faça o computador \"pensar\" em um número inteiro entre 0 e 5\n",
    " e peça para o usuário tentar descobrir qual foi o número escolhido pelo computador. \n",
    " O programa deverá escrever na tela se o usuário venceu ou perdeu.'''"
   ]
  },
  {
   "cell_type": "code",
   "execution_count": 113,
   "metadata": {},
   "outputs": [
    {
     "name": "stdout",
     "output_type": "stream",
     "text": [
      "-=--=--=--=--=--=--=--=--=--=--=--=--=--=--=--=--=--=--=--=-\n",
      "Vou pensar em um número entre 0 e 25. Tente adivinhar...\n",
      "-=--=--=--=--=--=--=--=--=--=--=--=--=--=--=--=--=--=--=--=-\n",
      "Verificando...\n",
      "Você errou! Eu pensei em 0 tente novamente.\n"
     ]
    }
   ],
   "source": [
    "import random\n",
    "import time\n",
    "tempoDeEspera = 5\n",
    "numeroLimite = 25 #Define o numero que é o limite da advinhação\n",
    "print('-=-' * 20)\n",
    "print(f\"Vou pensar em um número entre 0 e {numeroLimite}. Tente adivinhar...\")\n",
    "print('-=-' * 20)\n",
    "numeroEscolhido = random.randint(0, numeroLimite)\n",
    "# print(numeroEscolhido)\n",
    "if numeroLimite > 50:\n",
    "    print(\"Vou te dar uma dica\")\n",
    "    if numeroEscolhido >= 50:\n",
    "        print(\"Pensei em um numero maior ou igual a 50\")\n",
    "    else:\n",
    "        print(\"Pensei eu um numero menor que 50\")\n",
    "\n",
    "numeroChute = int(input(\"Em qual numero eu pensei: \"))\n",
    "print(\"Verificando...\")\n",
    "time.sleep(2)\n",
    "if numeroEscolhido == numeroChute:\n",
    "    print(f\"Você acertou, eu pensei em {numeroEscolhido}!!\")\n",
    "else:\n",
    "    print(f\"Você errou! Eu pensei em {numeroEscolhido} tente novamente.\")"
   ]
  },
  {
   "cell_type": "code",
   "execution_count": 3,
   "metadata": {},
   "outputs": [
    {
     "name": "stdout",
     "output_type": "stream",
     "text": [
      "-=--=--=--=--=--=--=--=--=--=--=--=--=--=--=--=--=--=--=--=-\n",
      "Vou pensar em um número entre 0 e 100. Tente adivinhar...\n",
      "-=--=--=--=--=--=--=--=--=--=--=--=--=--=--=--=--=--=--=--=-\n"
     ]
    }
   ],
   "source": [
    "import random\n",
    "import time\n",
    "numeroLimite = 100 #Define o numero que é o limite da advinhação\n",
    "print('-=-' * 20)\n",
    "print(f\"Vou pensar em um número entre 0 e {numeroLimite}. Tente adivinhar...\")\n",
    "print('-=-' * 20)\n",
    "\n",
    "numeroEscolhido = random.randint(0, numeroLimite)\n",
    "\n",
    "numeroChute = int(input(\"Digite seu chute: \"))\n",
    "\n",
    "if numeroEscolhido == numeroChute:\n",
    "    print(f\"O numero que pensei era {numeroEscolhido}\")\n",
    "    print(f\"Você acertou!\")\n",
    "elif numeroEscolhido < numeroChute:\n",
    "    print(f\"O numero que pensei é menor que {numeroChute}\")\n",
    "else:\n",
    "    print(f\"O numero que pensei é maior que {numeroChute}\")"
   ]
  }
 ],
 "metadata": {
  "kernelspec": {
   "display_name": "Python 3",
   "language": "python",
   "name": "python3"
  },
  "language_info": {
   "codemirror_mode": {
    "name": "ipython",
    "version": 3
   },
   "file_extension": ".py",
   "mimetype": "text/x-python",
   "name": "python",
   "nbconvert_exporter": "python",
   "pygments_lexer": "ipython3",
   "version": "3.9.0"
  }
 },
 "nbformat": 4,
 "nbformat_minor": 2
}
