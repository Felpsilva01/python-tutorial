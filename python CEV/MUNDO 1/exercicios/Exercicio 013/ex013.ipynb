{
 "cells": [
  {
   "cell_type": "markdown",
   "metadata": {},
   "source": [
    "Faça um algoritimo que leia o salário de um funcionário e mostre seu novo salário, com 15% de aumento;"
   ]
  },
  {
   "cell_type": "code",
   "execution_count": 3,
   "metadata": {},
   "outputs": [
    {
     "name": "stdout",
     "output_type": "stream",
     "text": [
      "=-==-==-==-==-==-==-==-==-==-==-==-==-==-==-==-==-==-==-==-==-==-==-==-==-=\n",
      "Aumento salarial 2024\n",
      "O salário com base 2023 é de R$:4319.43\n",
      "O novo salário com aumento de 15% é de R$:4967.34\n",
      "=-==-==-==-==-==-==-==-==-==-==-==-==-==-==-==-==-==-==-==-==-==-==-==-==-=\n"
     ]
    }
   ],
   "source": [
    "print('=-=' * 25)\n",
    "print(\"Aumento salarial 2024\")\n",
    "\n",
    "salario_atual = float(input(\"Digite o salário atual R$: \"))\n",
    "aumento = int(input(\"Digite a porcentagem do aumento: \"))\n",
    "novo_salario = salario_atual + (salario_atual*aumento/100)\n",
    "\n",
    "print(f\"O salário com base 2023 é de R$:{salario_atual:.2f}\\nO novo salário com aumento de {aumento}% é de R$:{novo_salario:.2f}\")\n",
    "\n",
    "print('=-=' * 25)"
   ]
  }
 ],
 "metadata": {
  "kernelspec": {
   "display_name": "Python 3",
   "language": "python",
   "name": "python3"
  },
  "language_info": {
   "codemirror_mode": {
    "name": "ipython",
    "version": 3
   },
   "file_extension": ".py",
   "mimetype": "text/x-python",
   "name": "python",
   "nbconvert_exporter": "python",
   "pygments_lexer": "ipython3",
   "version": "3.9.0"
  }
 },
 "nbformat": 4,
 "nbformat_minor": 2
}
