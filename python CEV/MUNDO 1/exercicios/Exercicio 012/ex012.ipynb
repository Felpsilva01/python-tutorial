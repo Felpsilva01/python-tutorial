{
 "cells": [
  {
   "cell_type": "markdown",
   "metadata": {},
   "source": [
    "Faça um algoritimo que leia o preço de um produto e mostre seu novo preço com, 5% de desconto;"
   ]
  },
  {
   "cell_type": "code",
   "execution_count": 4,
   "metadata": {},
   "outputs": [
    {
     "name": "stdout",
     "output_type": "stream",
     "text": [
      "=-==-==-==-==-==-==-==-==-==-==-==-==-==-==-==-==-==-==-==-==-==-==-==-==-=\n",
      "Lojão das promoções\n",
      "\n",
      "O Valor original deste produto é de R$:100.00\n",
      "Aproveitando o desconto de 5% você leva por R$:95.0\n",
      "=-==-==-==-==-==-==-==-==-==-==-==-==-==-==-==-==-==-==-==-==-==-==-==-==-=\n"
     ]
    }
   ],
   "source": [
    "print(\"=-=\" *25)\n",
    "print(\"Lojão das promoções\\n\")\n",
    "produto = float(input(\"Digite em reais o valor do produto: R$:\"))\n",
    "desconto = produto * (5/100)\n",
    "preço = produto - desconto\n",
    "print(f\"O Valor original deste produto é de R$:{produto:.2f}\")\n",
    "print(f\"Aproveitando o desconto de 5% você leva por R$:{preço:.2f}\")\n",
    "\n",
    "\n",
    "\n",
    "print(\"=-=\" *25)"
   ]
  }
 ],
 "metadata": {
  "kernelspec": {
   "display_name": "Python 3",
   "language": "python",
   "name": "python3"
  },
  "language_info": {
   "codemirror_mode": {
    "name": "ipython",
    "version": 3
   },
   "file_extension": ".py",
   "mimetype": "text/x-python",
   "name": "python",
   "nbconvert_exporter": "python",
   "pygments_lexer": "ipython3",
   "version": "3.9.0"
  }
 },
 "nbformat": 4,
 "nbformat_minor": 2
}
