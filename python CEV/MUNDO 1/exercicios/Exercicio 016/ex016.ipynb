{
 "cells": [
  {
   "cell_type": "markdown",
   "metadata": {},
   "source": [
    "Crie um programa que leia um número Real qualquer pelo teclado e mostre na tela a sua porção Inteira.\n",
    "\n",
    "Ex: Digite um número: 6.127\n",
    "O número 6.127 tem a parte Inteira 6."
   ]
  },
  {
   "cell_type": "code",
   "execution_count": 10,
   "metadata": {},
   "outputs": [
    {
     "name": "stdout",
     "output_type": "stream",
     "text": [
      "=-==-==-==-==-==-==-==-==-==-==-==-==-==-==-==-==-==-==-==-==-==-==-==-==-=\n",
      "Você digitou o número 11.75\n",
      "Sua parte inteira é 11\n",
      "Outra maneira de obter a parte inteira do número é com a função trunc: 11\n",
      "Outra maneira de obter a parte inteira é utilizando o operador // de divisão inteira: 11\n",
      "Caso deseja arredondar, pode-se usar a função round() 12\n",
      "=-==-==-==-==-==-==-==-==-==-==-==-==-==-==-==-==-==-==-==-==-==-==-==-==-=\n"
     ]
    }
   ],
   "source": [
    "import math\n",
    "print('=-=' * 25)\n",
    "\n",
    "numReal = float(input(\"Digite um número real: \"))\n",
    "numInteiro = numReal // 1\n",
    "print(f'Você digitou o número {numReal}\\nSua parte inteira é {int(numReal)}')\n",
    "print(f'Outra maneira de obter a parte inteira do número é com a função trunc: {math.trunc(numReal)}')\n",
    "print(f'Outra maneira de obter a parte inteira é utilizando o operador // de divisão inteira: {numInteiro:.0f}')\n",
    "print(f'Caso deseja arredondar, pode-se usar a função round() {round(numReal)}')\n",
    "\n",
    "print('=-=' * 25)\n"
   ]
  }
 ],
 "metadata": {
  "kernelspec": {
   "display_name": "Python 3",
   "language": "python",
   "name": "python3"
  },
  "language_info": {
   "codemirror_mode": {
    "name": "ipython",
    "version": 3
   },
   "file_extension": ".py",
   "mimetype": "text/x-python",
   "name": "python",
   "nbconvert_exporter": "python",
   "pygments_lexer": "ipython3",
   "version": "3.9.0"
  }
 },
 "nbformat": 4,
 "nbformat_minor": 2
}
