{
 "cells": [
  {
   "cell_type": "markdown",
   "metadata": {},
   "source": [
    "Faça um programa que leia um número inteiro e mostre na tela seu antecessor e sucessor."
   ]
  },
  {
   "cell_type": "code",
   "execution_count": 3,
   "metadata": {},
   "outputs": [
    {
     "name": "stdout",
     "output_type": "stream",
     "text": [
      "Agora que você escolheu o 50\n",
      "Vamos descobrir qual o antecessor e o sucessor deste número\n",
      "O sucessor de 50 é 51 e o antecessor é 49\n"
     ]
    }
   ],
   "source": [
    "numero = input(\"Digite um número inteiro qualquer: \")\n",
    "print(f\"Agora que você escolheu o {numero}\")\n",
    "print(\"Vamos descobrir qual o antecessor e o sucessor deste número\")\n",
    "\n",
    "ant = int(numero) - 1\n",
    "suc = int(numero) + 1\n",
    "\n",
    "print(f'O sucessor de {numero} é {suc} e o antecessor é {ant}')"
   ]
  }
 ],
 "metadata": {
  "kernelspec": {
   "display_name": "Python 3",
   "language": "python",
   "name": "python3"
  },
  "language_info": {
   "codemirror_mode": {
    "name": "ipython",
    "version": 3
   },
   "file_extension": ".py",
   "mimetype": "text/x-python",
   "name": "python",
   "nbconvert_exporter": "python",
   "pygments_lexer": "ipython3",
   "version": "3.9.0"
  }
 },
 "nbformat": 4,
 "nbformat_minor": 2
}
