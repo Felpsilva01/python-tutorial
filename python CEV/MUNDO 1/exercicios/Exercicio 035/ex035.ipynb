{
 "cells": [
  {
   "cell_type": "code",
   "execution_count": null,
   "metadata": {},
   "outputs": [],
   "source": [
    "\"\"\"\n",
    "Exercício Python 035: \n",
    "\n",
    "Desenvolva um programa que leia o comprimento de três retas e diga ao usuário se elas podem ou não formar um triângulo.\n",
    "\"\"\""
   ]
  },
  {
   "cell_type": "code",
   "execution_count": 6,
   "metadata": {},
   "outputs": [
    {
     "name": "stdout",
     "output_type": "stream",
     "text": [
      "As retas são: 2.0cm, 4.0cm e 9.0cm\n",
      "É impossível criar um programa com essas retas!\n"
     ]
    }
   ],
   "source": [
    "retaUm = float(input(\"Digite o valor da primeira reta\"))\n",
    "retaDois = float(input(\"Digite o valor da segunda reta\"))\n",
    "retaTres = float(input(\"Digite o valor da terceira reta\"))\n",
    "verificadorUm = retaUm + retaDois\n",
    "verificadorDois = retaDois + retaTres\n",
    "verificadorTres = retaTres + retaUm\n",
    "\n",
    "print(f\"As retas são: {retaUm}cm, {retaDois}cm e {retaTres}cm\")\n",
    "\n",
    "if verificadorUm > retaTres and verificadorDois > retaUm and verificadorTres > retaDois:\n",
    "    print(\"É possível criar um triângulo com essas retas!\")\n",
    "else:\n",
    "    print(\"É impossível criar um triângulo com essas retas!\")\n",
    "\n"
   ]
  },
  {
   "cell_type": "code",
   "execution_count": 7,
   "metadata": {},
   "outputs": [
    {
     "name": "stdout",
     "output_type": "stream",
     "text": [
      "Os lados fornecidos não podem formar um triângulo.\n"
     ]
    }
   ],
   "source": [
    "def forma_triangulo(a, b, c):\n",
    "    return a + b > c and b + c > a and c + a > b\n",
    "\n",
    "# Solicita os comprimentos dos lados ao usuário\n",
    "lado1 = float(input(\"Digite o comprimento do primeiro lado: \"))\n",
    "lado2 = float(input(\"Digite o comprimento do segundo lado: \"))\n",
    "lado3 = float(input(\"Digite o comprimento do terceiro lado: \"))\n",
    "\n",
    "# Verifica se os lados formam um triângulo\n",
    "if forma_triangulo(lado1, lado2, lado3):\n",
    "    print(\"Os lados fornecidos podem formar um triângulo.\")\n",
    "else:\n",
    "    print(\"Os lados fornecidos não podem formar um triângulo.\")\n"
   ]
  }
 ],
 "metadata": {
  "kernelspec": {
   "display_name": "Python 3",
   "language": "python",
   "name": "python3"
  },
  "language_info": {
   "codemirror_mode": {
    "name": "ipython",
    "version": 3
   },
   "file_extension": ".py",
   "mimetype": "text/x-python",
   "name": "python",
   "nbconvert_exporter": "python",
   "pygments_lexer": "ipython3",
   "version": "3.9.0"
  }
 },
 "nbformat": 4,
 "nbformat_minor": 2
}
