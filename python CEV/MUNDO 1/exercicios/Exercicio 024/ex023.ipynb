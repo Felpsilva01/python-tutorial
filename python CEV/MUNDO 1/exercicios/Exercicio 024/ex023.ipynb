{
 "cells": [
  {
   "cell_type": "markdown",
   "metadata": {},
   "source": [
    "Crie um programa que leia o nome de uma cidade diga se ela começa ou não com o nome \"SANTO\".\n"
   ]
  },
  {
   "cell_type": "code",
   "execution_count": 14,
   "metadata": {},
   "outputs": [
    {
     "name": "stdout",
     "output_type": "stream",
     "text": [
      "A cidade Santo andre começa com \"Santo\"\n"
     ]
    }
   ],
   "source": [
    "cidade = str(input(\"Digite o nome da sua cidade: \"))\n",
    "cidade = cidade.upper()\n",
    "cidade = cidade.strip()\n",
    "\n",
    "if cidade.startswith(\"SANTO\"):\n",
    "    cidade = cidade.lower()\n",
    "    cidade = cidade.capitalize()\n",
    "    print(f'A cidade {cidade} começa com \"Santo\"')\n",
    "else:\n",
    "    print(f'A cidade {cidade} não começa com \"Santo\"')"
   ]
  }
 ],
 "metadata": {
  "kernelspec": {
   "display_name": "Python 3",
   "language": "python",
   "name": "python3"
  },
  "language_info": {
   "codemirror_mode": {
    "name": "ipython",
    "version": 3
   },
   "file_extension": ".py",
   "mimetype": "text/x-python",
   "name": "python",
   "nbconvert_exporter": "python",
   "pygments_lexer": "ipython3",
   "version": "3.9.0"
  }
 },
 "nbformat": 4,
 "nbformat_minor": 2
}
