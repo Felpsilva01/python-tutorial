{
 "cells": [
  {
   "cell_type": "markdown",
   "metadata": {},
   "source": [
    "Um professor quer sortear um dos seus quatro alunos para apagar o quadro. Faça um programa que ajude ele, lendo o nome dos alunos e escrevendo na tela o nome do escolhido.\n"
   ]
  },
  {
   "cell_type": "code",
   "execution_count": 22,
   "metadata": {},
   "outputs": [
    {
     "name": "stdout",
     "output_type": "stream",
     "text": [
      "Lista de Alunos\n",
      "Mr. Jesse Wood\n",
      "Madison Bell\n",
      "Benjamin Smith\n",
      "Brian Estrada\n",
      "Noah Lamb\n",
      "Tina Sandoval\n",
      "Anna Anderson\n",
      "Theresa Dorsey\n",
      "-=-=--=-=--=-=--=-=--=-=--=-=--=-=--=-=--=-=--=-=--=-=--=-=--=-=--=-=--=-=--=-=--=-=--=-=--=-=--=-=--=-=--=-=--=-=--=-=--=-=--=-=--=-=--=-=--=-=--=-=--=-=--=-=--=-=--=-=--=-=-\n",
      "Escolinha do NeyNey\n",
      "Os alunos que apagarão o quadro negro esta semana serão: Anna Anderson e Mr. Jesse Wood\n"
     ]
    }
   ],
   "source": [
    "from faker import Faker\n",
    "import random\n",
    "\n",
    "fake = Faker()\n",
    "\n",
    "nomesGerados= []\n",
    "print('Lista de Alunos')\n",
    "for _ in range(8):\n",
    "    nome = fake.name()\n",
    "    nomesGerados.append(nome)\n",
    "    print(nome)\n",
    "\n",
    "\n",
    "print('-=-=-' * 35)\n",
    "print('Escolinha do NeyNey')\n",
    "print(f'Os alunos que apagarão o quadro negro esta semana serão: {random.choice(nomesGerados)} e {random.choice(nomesGerados)}')\n"
   ]
  }
 ],
 "metadata": {
  "kernelspec": {
   "display_name": "Python 3",
   "language": "python",
   "name": "python3"
  },
  "language_info": {
   "codemirror_mode": {
    "name": "ipython",
    "version": 3
   },
   "file_extension": ".py",
   "mimetype": "text/x-python",
   "name": "python",
   "nbconvert_exporter": "python",
   "pygments_lexer": "ipython3",
   "version": "3.9.0"
  }
 },
 "nbformat": 4,
 "nbformat_minor": 2
}
