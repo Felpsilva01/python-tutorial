{
 "cells": [
  {
   "cell_type": "code",
   "execution_count": null,
   "metadata": {},
   "outputs": [],
   "source": [
    "for i in range(10, 0, -1):\n",
    "    print(i)"
   ]
  },
  {
   "cell_type": "code",
   "execution_count": null,
   "metadata": {},
   "outputs": [],
   "source": [
    "n = int(input(\"INICIO: \"))\n",
    "f = int(input(\"FIM: \"))\n",
    "p = int(input(\"PASSO \"))\n",
    "\n",
    "for c in range(n, f, p):\n",
    "    print(c)"
   ]
  },
  {
   "cell_type": "code",
   "execution_count": null,
   "metadata": {},
   "outputs": [],
   "source": [
    "for i in range(46, 57):\n",
    "    print(f'md \"Exercicio 0{i}\"')"
   ]
  },
  {
   "cell_type": "code",
   "execution_count": null,
   "metadata": {},
   "outputs": [],
   "source": [
    "'''\n",
    "Curso Python #014 - \n",
    "Estrutura de repetição while\n",
    "'''"
   ]
  },
  {
   "cell_type": "code",
   "execution_count": null,
   "metadata": {},
   "outputs": [],
   "source": [
    "c = 1\n",
    "while c < 10:\n",
    "    print(c)\n",
    "    c += 1\n"
   ]
  },
  {
   "cell_type": "code",
   "execution_count": null,
   "metadata": {},
   "outputs": [],
   "source": [
    "n = 1\n",
    "while n != 0:\n",
    "    n = int(input(\"Digite um valor: \"))\n",
    "    print(n)"
   ]
  },
  {
   "cell_type": "code",
   "execution_count": 14,
   "metadata": {},
   "outputs": [
    {
     "name": "stdout",
     "output_type": "stream",
     "text": [
      "Acabou\n",
      "Você digitou 2 numeros pares e 2 numeros impares\n"
     ]
    }
   ],
   "source": [
    "n = 1\n",
    "somaImpar= 0\n",
    "somaPar = 0\n",
    "while n != 0:\n",
    "    n = int(input(\"Digite um valor: \"))\n",
    "    if n != 0:\n",
    "        if n % 2 == 0:\n",
    "            somaPar += 1\n",
    "        if n % 2 == 1:\n",
    "            somaImpar += 1\n",
    "print(\"Acabou\")\n",
    "print(f\"Você digitou {somaPar} numeros pares e {somaImpar} numeros impares\")"
   ]
  },
  {
   "cell_type": "code",
   "execution_count": 3,
   "metadata": {},
   "outputs": [
    {
     "name": "stdout",
     "output_type": "stream",
     "text": [
      "[1, 2, 3, 4, 5, 6, 7, 8, 9, 10]\n",
      "Acabou\n"
     ]
    }
   ],
   "source": [
    "cont = 1\n",
    "listaCont = []\n",
    "while cont <= 10:\n",
    "    listaCont.append(cont)\n",
    "    cont += 1\n",
    "print(listaCont)\n",
    "print(\"Acabou\")"
   ]
  },
  {
   "cell_type": "code",
   "execution_count": 8,
   "metadata": {},
   "outputs": [
    {
     "name": "stdout",
     "output_type": "stream",
     "text": [
      "[5, 4, 6, 8]\n",
      "A soma vale 23\n"
     ]
    }
   ],
   "source": [
    "n = float(\"-inf\")\n",
    "s = 0\n",
    "lsitaN = []\n",
    "while True:\n",
    "    n = int(input(\"Digite um numero: \"))\n",
    "    if n == 999:\n",
    "        break\n",
    "    lsitaN.append(n)\n",
    "    s += n\n",
    "print(lsitaN)\n",
    "print(f\"A soma vale {s}\")\n",
    "\n"
   ]
  }
 ],
 "metadata": {
  "kernelspec": {
   "display_name": "Python 3",
   "language": "python",
   "name": "python3"
  },
  "language_info": {
   "codemirror_mode": {
    "name": "ipython",
    "version": 3
   },
   "file_extension": ".py",
   "mimetype": "text/x-python",
   "name": "python",
   "nbconvert_exporter": "python",
   "pygments_lexer": "ipython3",
   "version": "3.9.0"
  }
 },
 "nbformat": 4,
 "nbformat_minor": 2
}
