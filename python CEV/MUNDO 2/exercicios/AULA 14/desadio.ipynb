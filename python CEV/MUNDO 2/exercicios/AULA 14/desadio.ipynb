{
 "cells": [
  {
   "cell_type": "code",
   "execution_count": 5,
   "metadata": {},
   "outputs": [
    {
     "name": "stdout",
     "output_type": "stream",
     "text": [
      "Gerador de P.A\n",
      "-=-=-=-=-=-=-=-=-=-=\n",
      "2\n",
      "7\n",
      "12\n",
      "17\n",
      "22\n",
      "27\n",
      "32\n",
      "37\n",
      "42\n",
      "47\n"
     ]
    }
   ],
   "source": [
    "print(\"Gerador de P.A\")\n",
    "print(\"-=\" * 10)\n",
    "primeiroTermo = int(input(\"Digite o primeiro termo: \"))\n",
    "razao = int(input(\"Digite a razão da PA: \"))\n",
    "i = 1\n",
    "aMais = 10\n",
    "while aMais != 0:\n",
    "    while i <= aMais:\n",
    "        termo = primeiroTermo + (i - 1) * razao\n",
    "        print(termo)\n",
    "        i += 1\n",
    "    aMais = int(input(\"Deseja mostrar mais termos? \"))\n",
    "print(\"fim\")"
   ]
  }
 ],
 "metadata": {
  "kernelspec": {
   "display_name": "Python 3",
   "language": "python",
   "name": "python3"
  },
  "language_info": {
   "codemirror_mode": {
    "name": "ipython",
    "version": 3
   },
   "file_extension": ".py",
   "mimetype": "text/x-python",
   "name": "python",
   "nbconvert_exporter": "python",
   "pygments_lexer": "ipython3",
   "version": "3.9.0"
  }
 },
 "nbformat": 4,
 "nbformat_minor": 2
}
