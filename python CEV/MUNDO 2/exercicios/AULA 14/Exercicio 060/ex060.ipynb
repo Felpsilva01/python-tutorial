{
 "cells": [
  {
   "cell_type": "code",
   "execution_count": null,
   "metadata": {},
   "outputs": [],
   "source": [
    "'''\n",
    "Exercício Python 060: \n",
    "Faça um programa que leia um número qualquer e mostre o seu fatorial.\n",
    "\n",
    "Ex: 5! = 5 x 4 x 3 x 2 x 1 = 120'''"
   ]
  },
  {
   "cell_type": "code",
   "execution_count": 1,
   "metadata": {},
   "outputs": [
    {
     "name": "stdout",
     "output_type": "stream",
     "text": [
      "NUMEROS FATORIAIS PYTHON\n",
      "O faotorial de 5 é 120\n"
     ]
    }
   ],
   "source": [
    "print(\"NUMEROS FATORIAIS PYTHON\")\n",
    "\n",
    "numFatorial = int(input(\"Digite seu numero: \"))\n",
    "\n",
    "if numFatorial < 0:\n",
    "    print(\"Não é possivel calcular o fatorial de numero negativo\")\n",
    "else:\n",
    "    fatorial = 1\n",
    "    contador = 1\n",
    "\n",
    "    while contador <= numFatorial:\n",
    "        fatorial *= contador\n",
    "        contador += 1\n",
    "    \n",
    "    print(f\"O faotorial de {numFatorial} é {fatorial}\")\n"
   ]
  }
 ],
 "metadata": {
  "kernelspec": {
   "display_name": "Python 3",
   "language": "python",
   "name": "python3"
  },
  "language_info": {
   "codemirror_mode": {
    "name": "ipython",
    "version": 3
   },
   "file_extension": ".py",
   "mimetype": "text/x-python",
   "name": "python",
   "nbconvert_exporter": "python",
   "pygments_lexer": "ipython3",
   "version": "3.9.0"
  }
 },
 "nbformat": 4,
 "nbformat_minor": 2
}
