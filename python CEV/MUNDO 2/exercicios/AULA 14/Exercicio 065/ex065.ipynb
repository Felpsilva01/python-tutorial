{
 "cells": [
  {
   "cell_type": "code",
   "execution_count": null,
   "metadata": {},
   "outputs": [],
   "source": [
    "'''\n",
    "Exercício Python 065: \n",
    "Crie um programa que leia vários números inteiros pelo teclado. No final da execução, \n",
    "mostre a média entre todos os valores e qual foi o maior e o menor valores lidos. \n",
    "O programa deve perguntar ao usuário se ele quer ou não continuar a digitar valores.\n",
    "'''"
   ]
  },
  {
   "cell_type": "code",
   "execution_count": 8,
   "metadata": {},
   "outputs": [
    {
     "name": "stdout",
     "output_type": "stream",
     "text": [
      "Você digitou 5 números e a média foi 21.40\n",
      "Os numeros foram: [8, 9, 80, 4, 6]\n",
      "O maior valor foi 80 e o menor foi 4 \n"
     ]
    }
   ],
   "source": [
    "\n",
    "soma = contador = 0\n",
    "maior = float(\"-inf\")\n",
    "menor = float(\"inf\")\n",
    "listaNumeros = []\n",
    "continua = str()\n",
    "while True:\n",
    "    numero = int(input(\"Digite um numero: \"))\n",
    "    listaNumeros.append(numero)\n",
    "    soma += numero \n",
    "    contador += 1\n",
    "\n",
    "    if numero > maior:\n",
    "        maior = numero\n",
    "    if numero < menor:\n",
    "        menor = numero\n",
    "\n",
    "    continua = str(input(\"Quer continuar [S/N]: \")).strip().lower()\n",
    "\n",
    "    if continua != 's':\n",
    "        break\n",
    "\n",
    "media = soma / contador   \n",
    "print(f\"Você digitou {contador} números e a média foi {media:.2f}\")\n",
    "print(\"Os numeros foram:\", listaNumeros)\n",
    "print(f\"O maior valor foi {maior} e o menor foi {menor} \")"
   ]
  }
 ],
 "metadata": {
  "kernelspec": {
   "display_name": "Python 3",
   "language": "python",
   "name": "python3"
  },
  "language_info": {
   "codemirror_mode": {
    "name": "ipython",
    "version": 3
   },
   "file_extension": ".py",
   "mimetype": "text/x-python",
   "name": "python",
   "nbconvert_exporter": "python",
   "pygments_lexer": "ipython3",
   "version": "3.9.0"
  }
 },
 "nbformat": 4,
 "nbformat_minor": 2
}
