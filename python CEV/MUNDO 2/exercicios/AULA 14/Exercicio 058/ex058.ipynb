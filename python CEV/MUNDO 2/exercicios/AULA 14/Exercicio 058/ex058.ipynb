{
 "cells": [
  {
   "cell_type": "code",
   "execution_count": null,
   "metadata": {},
   "outputs": [],
   "source": [
    "'''\n",
    "Exercício Python 058: Melhore o jogo do DESAFIO 028 onde o computador vai \"pensar\" em um número entre 0 e 10. \n",
    "Só que agora o jogador vai tentar adivinhar até acertar, mostrando no final quantos palpites foram necessários para vencer.\n",
    "'''"
   ]
  },
  {
   "cell_type": "code",
   "execution_count": 1,
   "metadata": {},
   "outputs": [
    {
     "name": "stdout",
     "output_type": "stream",
     "text": [
      "JOGO DO NUMERO SECRETO\n",
      "Chute entre 0 e 100\n",
      "Pensei um um numero maior que 20\n",
      "Pensei um um numero maior que 20\n",
      "Pensei um um numero menor que 80\n",
      "Pensei um um numero maior que 50\n",
      "Pensei um um numero maior que 59\n",
      "Pensei um um numero maior que 65\n",
      "Pensei um um numero maior que 72\n",
      "Pensei um um numero menor que 80\n",
      "Pensei um um numero menor que 82\n",
      "Você descobriu o numero 75 com 10 tentativas\n"
     ]
    }
   ],
   "source": [
    "import random\n",
    "print(\"JOGO DO NUMERO SECRETO\")\n",
    "numeroLimite = 100\n",
    "print(f\"Chute entre 0 e {numeroLimite}\")\n",
    "numeroSecreto = random.randint(0, numeroLimite)\n",
    "chute = int(input(\"Digite seu chute!\"))\n",
    "contador = 1\n",
    "while chute != numeroSecreto:\n",
    "    if chute < numeroSecreto:\n",
    "        print(f\"Pensei um um numero maior que {chute}\")\n",
    "    if chute > numeroSecreto:\n",
    "        print(f\"Pensei um um numero menor que {chute}\")\n",
    "    chute = int(input(\"Digite seu chute!\"))\n",
    "    contador += 1\n",
    "palavraTentativa = 'tentativa'\n",
    "if contador > 1:\n",
    "    palavraTentativa = \"tentativas\"\n",
    "print(f\"Você descobriu o numero {numeroSecreto} com {contador} {palavraTentativa}\")"
   ]
  }
 ],
 "metadata": {
  "kernelspec": {
   "display_name": "Python 3",
   "language": "python",
   "name": "python3"
  },
  "language_info": {
   "codemirror_mode": {
    "name": "ipython",
    "version": 3
   },
   "file_extension": ".py",
   "mimetype": "text/x-python",
   "name": "python",
   "nbconvert_exporter": "python",
   "pygments_lexer": "ipython3",
   "version": "3.9.0"
  }
 },
 "nbformat": 4,
 "nbformat_minor": 2
}
