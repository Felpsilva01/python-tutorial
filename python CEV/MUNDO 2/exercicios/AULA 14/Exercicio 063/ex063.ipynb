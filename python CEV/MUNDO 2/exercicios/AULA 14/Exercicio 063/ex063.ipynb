{
 "cells": [
  {
   "cell_type": "code",
   "execution_count": null,
   "metadata": {},
   "outputs": [],
   "source": [
    "'''\n",
    "Exercício Python 063: \n",
    "Escreva um programa que leia um número N inteiro qualquer e mostre na tela os N primeiros elementos de uma Sequência de Fibonacci. \n",
    "'''"
   ]
  },
  {
   "cell_type": "code",
   "execution_count": 11,
   "metadata": {},
   "outputs": [
    {
     "name": "stdout",
     "output_type": "stream",
     "text": [
      "Os 10 primeiros elementos da Sequência de Fibonacci são:\n",
      "0 1 1 2 3 5 8 13 21 34 FIM\n"
     ]
    }
   ],
   "source": [
    "'''n = int(input(\"Digite um número inteiro para a sequência de Fibonacci: \"))\n",
    "    \n",
    "a, b = 0, 1\n",
    "count = 0\n",
    "\n",
    "print(f\"Os {n} primeiros elementos da Sequência de Fibonacci são:\")\n",
    "    \n",
    "while count < n:\n",
    "    print(a, end=' ')\n",
    "    a, b = b, a + b\n",
    "    count += 1\n",
    "print(\"FIM\")'''"
   ]
  },
  {
   "cell_type": "code",
   "execution_count": 16,
   "metadata": {},
   "outputs": [
    {
     "name": "stdout",
     "output_type": "stream",
     "text": [
      "Os 10 primeiros elementos da Sequência de Fibonacci são:\n",
      "0 >> 1 >> 1 >> 2 >> 3 >> 5 >> 8 >> 13 >> 21 >> 34 >> FIM\n"
     ]
    }
   ],
   "source": [
    "n = int(input(\"Digite um número inteiro para a sequência de Fibonacci: \"))\n",
    "print(f\"Os {n} primeiros elementos da Sequência de Fibonacci são:\")\n",
    "\n",
    "t1 = 0\n",
    "t2 = 1\n",
    "print(f\"{t1} >> {t2}\", end= '')\n",
    "contador = 3\n",
    "while contador <= n:\n",
    "    t3 = t1 + t2\n",
    "    print(f\" >> {t3}\", end='')\n",
    "    t1 = t2\n",
    "    t2 = t3\n",
    "    contador += 1\n",
    "print(\" >> FIM\")"
   ]
  }
 ],
 "metadata": {
  "kernelspec": {
   "display_name": "Python 3",
   "language": "python",
   "name": "python3"
  },
  "language_info": {
   "codemirror_mode": {
    "name": "ipython",
    "version": 3
   },
   "file_extension": ".py",
   "mimetype": "text/x-python",
   "name": "python",
   "nbconvert_exporter": "python",
   "pygments_lexer": "ipython3",
   "version": "3.9.0"
  }
 },
 "nbformat": 4,
 "nbformat_minor": 2
}
