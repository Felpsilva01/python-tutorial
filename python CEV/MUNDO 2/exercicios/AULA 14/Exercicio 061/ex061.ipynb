{
 "cells": [
  {
   "cell_type": "code",
   "execution_count": null,
   "metadata": {},
   "outputs": [],
   "source": [
    "'''Exercício Python 061: Refaça o DESAFIO 051, \n",
    "lendo o primeiro termo e a razão de uma PA, mostrando os 10 primeiros termos da progressão usando a estrutura while.\n",
    "'''"
   ]
  },
  {
   "cell_type": "code",
   "execution_count": 8,
   "metadata": {},
   "outputs": [
    {
     "name": "stdout",
     "output_type": "stream",
     "text": [
      "Os 10 primeiros termos da PA são:\n",
      "[5, 7, 9, 11, 13, 15, 17, 19, 21]\n"
     ]
    }
   ],
   "source": [
    "primeiroTermo = int(input(\"Digite o primeiro termo da PA: \"))\n",
    "razao = int(input(\"Digite a razão da PA: \"))\n",
    "listaPA = []\n",
    "i = 1\n",
    "\n",
    "print(\"Os 10 primeiros termos da PA são:\")\n",
    "while i < 10:\n",
    "    termo = primeiroTermo + (i - 1) * razao\n",
    "    listaPA.append(termo)\n",
    "    i += 1\n",
    "print(listaPA)"
   ]
  }
 ],
 "metadata": {
  "kernelspec": {
   "display_name": "Python 3",
   "language": "python",
   "name": "python3"
  },
  "language_info": {
   "codemirror_mode": {
    "name": "ipython",
    "version": 3
   },
   "file_extension": ".py",
   "mimetype": "text/x-python",
   "name": "python",
   "nbconvert_exporter": "python",
   "pygments_lexer": "ipython3",
   "version": "3.9.0"
  }
 },
 "nbformat": 4,
 "nbformat_minor": 2
}
