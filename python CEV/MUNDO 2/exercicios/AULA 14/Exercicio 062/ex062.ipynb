{
 "cells": [
  {
   "cell_type": "code",
   "execution_count": null,
   "metadata": {},
   "outputs": [],
   "source": [
    "'''\n",
    "Exercício Python 062: Melhore o DESAFIO 061, \n",
    "perguntando para o usuário se ele quer mostrar mais alguns termos. \n",
    "O programa encerrará quando ele disser que quer mostrar 0 termos.\n",
    "'''"
   ]
  },
  {
   "cell_type": "code",
   "execution_count": 6,
   "metadata": {},
   "outputs": [
    {
     "name": "stdout",
     "output_type": "stream",
     "text": [
      "Os 10 primeiros termos da PA são:\n",
      "[5, 10, 15, 20, 25, 30, 35, 40, 45]\n",
      "pausa...\n",
      "[5, 10, 15, 20, 25, 30, 35, 40, 45, 50, 55]\n",
      "pausa...\n",
      "[5, 10, 15, 20, 25, 30, 35, 40, 45, 50, 55, 60, 65, 70, 75, 80, 85, 90, 95, 100, 105]\n",
      "pausa...\n",
      "[5, 10, 15, 20, 25, 30, 35, 40, 45, 50, 55, 60, 65, 70, 75, 80, 85, 90, 95, 100, 105, 110, 115, 120, 125, 130, 135, 140, 145, 150, 155, 160, 165, 170, 175, 180, 185, 190, 195, 200, 205, 210, 215, 220, 225, 230, 235, 240, 245, 250, 255, 260, 265, 270, 275, 280, 285, 290, 295, 300, 305, 310, 315, 320, 325, 330, 335, 340, 345, 350, 355]\n",
      "pausa...\n",
      "FIM\n"
     ]
    }
   ],
   "source": [
    "primeiroTermo = int(input(\"Digite o primeiro termo da PA: \"))\n",
    "razao = int(input(\"Digite a razão da PA: \"))\n",
    "listaPA = []\n",
    "i = 1\n",
    "total = 0\n",
    "mais = 10\n",
    "termo = 0\n",
    "print(\"Os 10 primeiros termos da PA são:\")\n",
    "while mais != 0:\n",
    "        total += mais\n",
    "        while i < total:\n",
    "            termo = primeiroTermo + (i - 1) * razao\n",
    "            listaPA.append(termo)\n",
    "            i += 1\n",
    "        print(listaPA)\n",
    "        print(\"pausa...\")\n",
    "        mais = int(input(\"Quantos termos você quer mostrar a mais? \"))\n",
    "print(\"FIM\")"
   ]
  },
  {
   "cell_type": "code",
   "execution_count": null,
   "metadata": {},
   "outputs": [],
   "source": []
  }
 ],
 "metadata": {
  "kernelspec": {
   "display_name": "Python 3",
   "language": "python",
   "name": "python3"
  },
  "language_info": {
   "codemirror_mode": {
    "name": "ipython",
    "version": 3
   },
   "file_extension": ".py",
   "mimetype": "text/x-python",
   "name": "python",
   "nbconvert_exporter": "python",
   "pygments_lexer": "ipython3",
   "version": "3.9.0"
  }
 },
 "nbformat": 4,
 "nbformat_minor": 2
}
