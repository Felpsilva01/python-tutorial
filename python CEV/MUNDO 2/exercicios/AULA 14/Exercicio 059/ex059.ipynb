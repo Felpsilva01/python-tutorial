{
 "cells": [
  {
   "cell_type": "code",
   "execution_count": null,
   "metadata": {},
   "outputs": [],
   "source": [
    "'''\n",
    "Exercício Python 059: Crie um programa que leia dois valores e mostre um menu na tela:\n",
    "[ 1 ] somar\n",
    "[ 2 ] multiplicar\n",
    "[ 3 ] maior\n",
    "[ 4 ] novos números\n",
    "[ 5 ] sair do programa\n",
    "Seu programa deverá realizar a operação solicitada em cada caso.'''"
   ]
  },
  {
   "cell_type": "code",
   "execution_count": 1,
   "metadata": {},
   "outputs": [
    {
     "name": "stdout",
     "output_type": "stream",
     "text": [
      "Calculadora Python\n",
      "Suas opções:\n",
      "[ 1 ] somar\n",
      "[ 2 ] multiplicar\n",
      "[ 3 ] maior\n",
      "[ 4 ] novos números\n",
      "[ 5 ] sair do programa\n",
      "Opção inválida!\n",
      "Opção inválida!\n",
      "Opção inválida!\n",
      "FIM\n"
     ]
    }
   ],
   "source": [
    "print(\"Calculadora Python\")\n",
    "\n",
    "num01 = int(input(\"Digite um valor: \"))\n",
    "num02 = int(input(\"Digite outro valro: \"))\n",
    "print('''Suas opções:\n",
    "[ 1 ] somar\n",
    "[ 2 ] multiplicar\n",
    "[ 3 ] maior\n",
    "[ 4 ] novos números\n",
    "[ 5 ] sair do programa''')\n",
    "\n",
    "opcao = int(input(\"Digite sua opção: \"))\n",
    "\n",
    "while opcao != 5:\n",
    "    if opcao == 1:\n",
    "        print(f\"A soma de {num01} e {num02} é: {num01+num02}\")\n",
    "        print(\"=-=\" * 15)\n",
    "        opcao = int(input(\"Digite sua opção: \"))\n",
    "    if opcao == 2:\n",
    "        print(f\"A multiplicação entre {num01} e {num02} é: {num01*num02}\")\n",
    "        print(\"=-=\" * 15)\n",
    "        opcao = int(input(\"Digite sua opção: \"))\n",
    "    if opcao == 3:\n",
    "        if num01 > num02:\n",
    "            print(f\"{num01} é maior que {num02}\")\n",
    "        elif num01 < num02:\n",
    "            print(f\"{num02} é maior que {num01}\")\n",
    "        else:\n",
    "            print(\"Os números são iguais\")\n",
    "        print(\"=-=\" * 15)\n",
    "        opcao = int(input(\"Digite sua opção: \"))\n",
    "    if opcao == 4:\n",
    "        print(\"Escolha numeros novos\")\n",
    "        num01 = int(input(\"Digite um valor: \"))\n",
    "        num02 = int(input(\"Digite outro valro: \"))\n",
    "        opcao = int(input(\"Digite sua opção: \"))\n",
    "    if opcao > 5:\n",
    "        print(\"Opção inválida!\")\n",
    "        opcao = int(input(\"Digite sua opção: \"))\n",
    "\n",
    "print(\"FIM\")\n",
    "\n"
   ]
  }
 ],
 "metadata": {
  "kernelspec": {
   "display_name": "Python 3",
   "language": "python",
   "name": "python3"
  },
  "language_info": {
   "codemirror_mode": {
    "name": "ipython",
    "version": 3
   },
   "file_extension": ".py",
   "mimetype": "text/x-python",
   "name": "python",
   "nbconvert_exporter": "python",
   "pygments_lexer": "ipython3",
   "version": "3.9.0"
  }
 },
 "nbformat": 4,
 "nbformat_minor": 2
}
