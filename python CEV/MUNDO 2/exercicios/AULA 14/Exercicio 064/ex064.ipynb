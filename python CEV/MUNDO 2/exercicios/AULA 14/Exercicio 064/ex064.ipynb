{
 "cells": [
  {
   "cell_type": "code",
   "execution_count": 5,
   "metadata": {},
   "outputs": [
    {
     "name": "stdout",
     "output_type": "stream",
     "text": [
      "Foram digitados 4 números\n",
      "A soma entre eles é: 20\n"
     ]
    }
   ],
   "source": [
    "'''\n",
    "Exercício Python 064: \n",
    "Crie um programa que leia vários números inteiros pelo teclado. O programa só vai parar quando \n",
    "o usuário digitar o valor 999, que é a condição de parada. No final, mostre quantos números foram \n",
    "digitados e qual foi a soma entre eles (desconsiderando o flag).\n",
    "'''\n",
    "soma = 0\n",
    "quantidadeNumeros = 0\n",
    "\n",
    "while True:\n",
    "    numero = int(input(\"Digite um numero: \"))\n",
    "    \n",
    "    if numero == 999:\n",
    "        break\n",
    "\n",
    "    soma += numero\n",
    "    quantidadeNumeros += 1\n",
    "\n",
    "print(f\"Foram digitados {quantidadeNumeros} números\")\n",
    "print(f\"A soma entre eles é: {soma}\")"
   ]
  }
 ],
 "metadata": {
  "kernelspec": {
   "display_name": "Python 3",
   "language": "python",
   "name": "python3"
  },
  "language_info": {
   "codemirror_mode": {
    "name": "ipython",
    "version": 3
   },
   "file_extension": ".py",
   "mimetype": "text/x-python",
   "name": "python",
   "nbconvert_exporter": "python",
   "pygments_lexer": "ipython3",
   "version": "3.9.0"
  }
 },
 "nbformat": 4,
 "nbformat_minor": 2
}
