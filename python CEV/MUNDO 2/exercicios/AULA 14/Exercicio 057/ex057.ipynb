{
 "cells": [
  {
   "cell_type": "code",
   "execution_count": null,
   "metadata": {},
   "outputs": [],
   "source": [
    "'''\n",
    "Exercício Python 057: \n",
    "Faça um programa que leia o sexo de uma pessoa, mas só aceite os valores 'M' ou 'F'. \n",
    "Caso esteja errado, peça a digitação novamente até ter um valor correto.\n",
    "'''"
   ]
  },
  {
   "cell_type": "code",
   "execution_count": 2,
   "metadata": {},
   "outputs": [
    {
     "name": "stdout",
     "output_type": "stream",
     "text": [
      "Sexo feminino registrado!\n"
     ]
    }
   ],
   "source": [
    "sexo = str(input(\"Digite seu sexo [M/F]: \")).strip().upper()\n",
    "\n",
    "while sexo not in 'M F':\n",
    "    sexo = str(input(\"Digite seu sexo novamente [M/F]: \")).strip().upper()\n",
    "if sexo == \"M\":\n",
    "    sexo = \"masculino\"\n",
    "elif sexo == \"F\":\n",
    "    sexo = \"feminino\"\n",
    "print(f'Sexo {sexo} registrado!')"
   ]
  },
  {
   "cell_type": "code",
   "execution_count": null,
   "metadata": {},
   "outputs": [],
   "source": []
  }
 ],
 "metadata": {
  "kernelspec": {
   "display_name": "Python 3",
   "language": "python",
   "name": "python3"
  },
  "language_info": {
   "codemirror_mode": {
    "name": "ipython",
    "version": 3
   },
   "file_extension": ".py",
   "mimetype": "text/x-python",
   "name": "python",
   "nbconvert_exporter": "python",
   "pygments_lexer": "ipython3",
   "version": "3.9.0"
  }
 },
 "nbformat": 4,
 "nbformat_minor": 2
}
