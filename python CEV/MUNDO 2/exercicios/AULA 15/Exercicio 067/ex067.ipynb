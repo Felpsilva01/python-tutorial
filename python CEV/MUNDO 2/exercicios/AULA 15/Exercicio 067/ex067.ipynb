{
 "cells": [
  {
   "cell_type": "code",
   "execution_count": null,
   "metadata": {},
   "outputs": [],
   "source": [
    "'''\n",
    "Exercício Python 067: \n",
    "Faça um programa que mostre a tabuada de vários números, um de cada vez, \n",
    "para cada valor digitado pelo usuário. O programa será interrompido quando o número solicitado for negativo. \n",
    "'''"
   ]
  },
  {
   "cell_type": "code",
   "execution_count": 17,
   "metadata": {},
   "outputs": [
    {
     "name": "stdout",
     "output_type": "stream",
     "text": [
      "Limite menor ou igual a zero não é suportado!\n",
      "------------------------------\n",
      "TABUADA DO 1 até 10\n",
      "01 x 1 = 1\n",
      "02 x 1 = 2\n",
      "03 x 1 = 3\n",
      "04 x 1 = 4\n",
      "05 x 1 = 5\n",
      "06 x 1 = 6\n",
      "07 x 1 = 7\n",
      "08 x 1 = 8\n",
      "09 x 1 = 9\n",
      "10 x 1 = 10\n",
      "------------------------------\n"
     ]
    }
   ],
   "source": [
    "numTabuada = limiteTabuada = 0\n",
    "i = 1\n",
    "while True:\n",
    "    i = 1\n",
    "    numTabuada = int(input(\"Digite o numero que deseja [negativo para] \"))\n",
    "    if numTabuada <= 0:\n",
    "        break\n",
    "    limiteTabuada = int(input(\"Até quando deseja mostrar a tabuada: \"))\n",
    "    if limiteTabuada <= 0:\n",
    "        print(\"Limite menor ou igual a zero não é suportado!\")\n",
    "        continue\n",
    "    print('--' * 15)\n",
    "    print(f\"TABUADA DO {numTabuada} até {limiteTabuada}\")\n",
    "    while i < limiteTabuada + 1:\n",
    "        while i < 10:\n",
    "            print(f\"0{i} x {numTabuada} = {i * numTabuada}\")\n",
    "            i += 1\n",
    "        print(f\"{i} x {numTabuada} = {i * numTabuada}\")\n",
    "        i += 1\n",
    "    print('--' * 15)"
   ]
  }
 ],
 "metadata": {
  "kernelspec": {
   "display_name": "Python 3",
   "language": "python",
   "name": "python3"
  },
  "language_info": {
   "codemirror_mode": {
    "name": "ipython",
    "version": 3
   },
   "file_extension": ".py",
   "mimetype": "text/x-python",
   "name": "python",
   "nbconvert_exporter": "python",
   "pygments_lexer": "ipython3",
   "version": "3.9.0"
  }
 },
 "nbformat": 4,
 "nbformat_minor": 2
}
