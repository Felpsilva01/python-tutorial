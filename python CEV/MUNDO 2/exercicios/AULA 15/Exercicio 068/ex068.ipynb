{
 "cells": [
  {
   "cell_type": "code",
   "execution_count": null,
   "metadata": {},
   "outputs": [],
   "source": [
    "'''\n",
    "Exercício Python 068: \n",
    "Faça um programa que jogue par ou ímpar com o computador. O jogo só será interrompido quando o jogador perder, \n",
    "mostrando o total de vitórias consecutivas que ele conquistou no final do jogo. \n",
    "'''"
   ]
  },
  {
   "cell_type": "code",
   "execution_count": 4,
   "metadata": {},
   "outputs": [
    {
     "name": "stdout",
     "output_type": "stream",
     "text": [
      "escolha inválida\n",
      "Jogador nao venceu nenhuma!\n"
     ]
    }
   ],
   "source": [
    "import random\n",
    "escolha = jogador = computador = soma = contador = 0\n",
    "\n",
    "while True:\n",
    "    computador = random.randint(1, 10)\n",
    "    escolha = str(input(\"Deseja ímpar[I] ou par[P]? \")).strip().upper()\n",
    "    if escolha not in \"PI\":\n",
    "        print(\"escolha inválida\")\n",
    "        break\n",
    "    jogador = int(input(\"Escolha um numero de 1 a 10: \"))\n",
    "    if jogador < 1 or jogador > 10:\n",
    "        print(\"Escolha inválida\")\n",
    "        continue\n",
    "    print(f\"Computador mostrou {computador} e jogador mostrou {jogador}\")\n",
    "    soma = computador + jogador\n",
    "    \n",
    "    if escolha == \"I\":\n",
    "        if soma % 2 == 1:\n",
    "            print(\"JOGADOR VENCEU!\")\n",
    "            contador += 1\n",
    "            continue\n",
    "        else:\n",
    "            print(\"COMPUTADOR VENCEU!\")\n",
    "            break\n",
    "    if escolha == \"P\":\n",
    "        if soma % 2 == 0:\n",
    "            print(\"JOGADOR VENCEU!\")\n",
    "            contador += 1\n",
    "            continue\n",
    "        else:\n",
    "            print(\"COMPUTADOR VENCEU!\")\n",
    "            break\n",
    "if contador == 1:\n",
    "    print(f\"O jogador conseguiu {contador} vitória!\")\n",
    "elif contador > 1:\n",
    "    print(f\"O jogador conseguiu {contador} vitórias consecutivas!\")\n",
    "else:\n",
    "    print(\"Jogador nao venceu nenhuma!\")"
   ]
  },
  {
   "cell_type": "code",
   "execution_count": 5,
   "metadata": {},
   "outputs": [
    {
     "name": "stdout",
     "output_type": "stream",
     "text": [
      "Computador mostrou 2 e jogador mostrou 5\n",
      "COMPUTADOR VENCEU!\n",
      "Jogador não venceu nenhuma!\n"
     ]
    }
   ],
   "source": [
    "# Melhoria sugerida pelo GPT\n",
    "import random\n",
    "\n",
    "contador = 0\n",
    "\n",
    "while True:\n",
    "    computador = random.randint(1, 10)\n",
    "    escolha = str(input(\"Deseja ímpar[I] ou par[P]? \")).strip().upper()\n",
    "    jogador = int(input(\"Escolha um numero de 1 a 10: \"))\n",
    "    \n",
    "    if jogador < 1 or jogador > 10:\n",
    "        print(\"Escolha inválida\")\n",
    "        continue\n",
    "    \n",
    "    print(f\"Computador mostrou {computador} e jogador mostrou {jogador}\")\n",
    "    soma = computador + jogador\n",
    "    \n",
    "    if escolha == \"I\" and soma % 2 == 1 or escolha == \"P\" and soma % 2 == 0:\n",
    "        print(\"JOGADOR VENCEU!\")\n",
    "        contador += 1\n",
    "    else:\n",
    "        print(\"COMPUTADOR VENCEU!\")\n",
    "        break\n",
    "\n",
    "if contador == 1:\n",
    "    print(f\"O jogador conseguiu {contador} vitória!\")\n",
    "elif contador > 1:\n",
    "    print(f\"O jogador conseguiu {contador} vitórias consecutivas!\")\n",
    "else:\n",
    "    print(\"Jogador não venceu nenhuma!\")\n"
   ]
  }
 ],
 "metadata": {
  "kernelspec": {
   "display_name": "Python 3",
   "language": "python",
   "name": "python3"
  },
  "language_info": {
   "codemirror_mode": {
    "name": "ipython",
    "version": 3
   },
   "file_extension": ".py",
   "mimetype": "text/x-python",
   "name": "python",
   "nbconvert_exporter": "python",
   "pygments_lexer": "ipython3",
   "version": "3.9.0"
  }
 },
 "nbformat": 4,
 "nbformat_minor": 2
}
