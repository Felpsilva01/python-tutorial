{
 "cells": [
  {
   "cell_type": "code",
   "execution_count": null,
   "metadata": {},
   "outputs": [],
   "source": [
    "'''\n",
    "Exercício Python 069: \n",
    "Crie um programa que leia a idade e o sexo de várias pessoas. A cada pessoa cadastrada, o programa deverá perguntar se o usuário quer ou não continuar. No final, mostre:\n",
    "A) quantas pessoas tem mais de 18 anos.\n",
    "B) quantos homens foram cadastrados.\n",
    "C) quantas mulheres tem menos de 20 anos. \n",
    "'''"
   ]
  },
  {
   "cell_type": "code",
   "execution_count": 8,
   "metadata": {},
   "outputs": [
    {
     "name": "stdout",
     "output_type": "stream",
     "text": [
      "[{'Idade': 10, 'Sexo': 'M'}, {'Idade': 12, 'Sexo': 'F'}, {'Idade': 30, 'Sexo': 'M'}]\n",
      "Foram cadastradas 1 pessoas maior de idade.\n",
      "Cadastrados 2 homens e 1 mulheres jovens com menos de 20 anos!\n"
     ]
    }
   ],
   "source": [
    "simbolo = contadorHomens = mulheresJovens = maiorIdade = 0\n",
    "pessoas = []\n",
    "while True:\n",
    "    simbolo += 1\n",
    "    idade = int(input(f\"Qual a idade da {simbolo}° pessoa: \"))\n",
    "    sexo = str(input(f\"Digite o sexo [M/F] da {simbolo}° pessoa: \")).strip().upper()\n",
    "    \n",
    "    if idade <= 0:\n",
    "        print(f\"Idade de {idade} anos inválida \")\n",
    "        continue\n",
    "    if sexo not in \"MF\":\n",
    "        print(f\"Sexo {sexo} não identificado!\")\n",
    "        continue\n",
    "    pessoas.append({\"Idade\": idade, \"Sexo\": sexo})\n",
    "    if idade >= 18:\n",
    "        maiorIdade += 1 \n",
    "    if sexo == \"M\":\n",
    "        contadorHomens += 1\n",
    "    if sexo == \"F\" and idade < 20:\n",
    "        mulheresJovens += 1\n",
    "    continuar = str(input(\"Deseja continuar [S/N]: \")).strip().upper()\n",
    "    while continuar not in \"SN\":\n",
    "        continuar = str(input(\"Deseja continuar [S/N]: \")).strip().upper()\n",
    "    if continuar == \"N\":\n",
    "        break\n",
    "print(pessoas)\n",
    "print(f\"Foram cadastradas {maiorIdade} pessoas maior de idade.\\nCadastrados {contadorHomens} homens e {mulheresJovens} mulheres jovens com menos de 20 anos!\")"
   ]
  },
  {
   "cell_type": "code",
   "execution_count": 6,
   "metadata": {},
   "outputs": [
    {
     "name": "stdout",
     "output_type": "stream",
     "text": [
      "[(10, 'F'), (80, 'M'), (12, 'F')]\n",
      "Foram cadastradas 5 pessoas maior de idade.\n",
      "Cadastrados 4 homens e 4 mulheres jovens com menos de 20 anos!\n"
     ]
    }
   ],
   "source": [
    "pessoas = []\n",
    "\n",
    "while True:\n",
    "    idade = int(input(f\"Qual a idade da {len(pessoas) + 1}° pessoa: \"))\n",
    "    sexo = str(input(f\"Digite o sexo [M/F] da {len(pessoas) + 1}° pessoa: \")).strip().upper()\n",
    "    \n",
    "    if idade <= 0:\n",
    "        print(f\"Idade de {idade} anos inválida \")\n",
    "        continue\n",
    "    if sexo not in \"MF\":\n",
    "        print(f\"Sexo {sexo} não identificado!\")\n",
    "        continue\n",
    "\n",
    "    pessoas.append((idade, sexo))\n",
    "\n",
    "    if idade >= 18:\n",
    "        maiorIdade += 1 \n",
    "    if sexo == \"M\":\n",
    "        contadorHomens += 1\n",
    "    if sexo == \"F\" and idade < 20:\n",
    "        mulheresJovens += 1\n",
    "\n",
    "    continuar = input(\"Deseja continuar [S/N]: \").strip().upper()\n",
    "    if continuar != \"S\":\n",
    "        break\n",
    "\n",
    "print(pessoas)\n",
    "print(f\"Foram cadastradas {maiorIdade} pessoas maior de idade.\")\n",
    "print(f\"Cadastrados {contadorHomens} homens e {mulheresJovens} mulheres jovens com menos de 20 anos!\")\n"
   ]
  }
 ],
 "metadata": {
  "kernelspec": {
   "display_name": "Python 3",
   "language": "python",
   "name": "python3"
  },
  "language_info": {
   "codemirror_mode": {
    "name": "ipython",
    "version": 3
   },
   "file_extension": ".py",
   "mimetype": "text/x-python",
   "name": "python",
   "nbconvert_exporter": "python",
   "pygments_lexer": "ipython3",
   "version": "3.9.0"
  }
 },
 "nbformat": 4,
 "nbformat_minor": 2
}
