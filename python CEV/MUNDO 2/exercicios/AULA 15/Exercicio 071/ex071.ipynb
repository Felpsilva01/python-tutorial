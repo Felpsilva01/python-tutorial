{
 "cells": [
  {
   "cell_type": "code",
   "execution_count": null,
   "metadata": {},
   "outputs": [],
   "source": [
    "'''\n",
    "Exercício Python 071: \n",
    "Crie um programa que simule o funcionamento de um caixa eletrônico. \n",
    "No início, pergunte ao usuário qual será o valor a ser sacado (número inteiro) \n",
    "e o programa vai informar quantas cédulas de cada valor serão entregues.\n",
    "OBS: considere que o caixa possui cédulas de R$50, R$20, R$10 e R$1.\n",
    "'''"
   ]
  },
  {
   "cell_type": "code",
   "execution_count": 13,
   "metadata": {},
   "outputs": [
    {
     "name": "stdout",
     "output_type": "stream",
     "text": [
      "====================\n",
      "BANCO FE                      \n",
      "====================\n",
      "SAQUE CONCLUIDO\n",
      "Você recebeu\n",
      "Cédulas de 50: 0\n",
      "Cédulas de 20: 0\n",
      "Cédulas de 10: 0\n",
      "Cédulas de 1: 0\n"
     ]
    }
   ],
   "source": [
    "print(\"==\" * 10)\n",
    "print(f\"{'BANCO FE':30}\")\n",
    "print(\"==\" * 10)\n",
    "while True:\n",
    "    valorSaque = int(input(\"Valor à sacar: \"))\n",
    "    c50 = valorSaque // 50\n",
    "    valorSaque %=  50\n",
    "    c20 = valorSaque // 20\n",
    "    valorSaque %= 20\n",
    "    c10 = valorSaque // 10\n",
    "    valorSaque %= 10\n",
    "    c01 = valorSaque\n",
    "    if valorSaque == c01:\n",
    "        break\n",
    "print(\"SAQUE CONCLUIDO\")\n",
    "print(\"Você recebeu\")\n",
    "print(f\"Cédulas de 50: {c50}\")\n",
    "print(f\"Cédulas de 20: {c20}\")\n",
    "print(f\"Cédulas de 10: {c10}\")\n",
    "print(f\"Cédulas de 1: {c01}\")\n"
   ]
  },
  {
   "cell_type": "code",
   "execution_count": 8,
   "metadata": {},
   "outputs": [
    {
     "name": "stdout",
     "output_type": "stream",
     "text": [
      "Cédulas de 50: 1\n",
      "Cédulas de 20: 0\n",
      "Cédulas de 10: 0\n",
      "Cédulas de 1: 0\n",
      "0\n"
     ]
    }
   ],
   "source": [
    "valor = 50\n",
    "\n",
    "# Calcula o número de cédulas de 50\n",
    "cedulas_50 = valor // 50\n",
    "valor = valor % 50\n",
    "\n",
    "# Calcula o número de cédulas de 20\n",
    "cedulas_20 = valor // 20\n",
    "valor = valor % 20\n",
    "\n",
    "# Calcula o número de cédulas de 10\n",
    "cedulas_10 = valor // 10\n",
    "valor = valor % 10\n",
    "\n",
    "# O restante são cédulas de 1\n",
    "cedulas_1 = valor\n",
    "\n",
    "# Imprime o resultado\n",
    "print(f\"Cédulas de 50: {cedulas_50}\")\n",
    "print(f\"Cédulas de 20: {cedulas_20}\")\n",
    "print(f\"Cédulas de 10: {cedulas_10}\")\n",
    "print(f\"Cédulas de 1: {cedulas_1}\")\n",
    "print(valor)\n"
   ]
  }
 ],
 "metadata": {
  "kernelspec": {
   "display_name": "Python 3",
   "language": "python",
   "name": "python3"
  },
  "language_info": {
   "codemirror_mode": {
    "name": "ipython",
    "version": 3
   },
   "file_extension": ".py",
   "mimetype": "text/x-python",
   "name": "python",
   "nbconvert_exporter": "python",
   "pygments_lexer": "ipython3",
   "version": "3.9.0"
  }
 },
 "nbformat": 4,
 "nbformat_minor": 2
}
