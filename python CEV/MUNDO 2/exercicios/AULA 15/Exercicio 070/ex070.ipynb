{
 "cells": [
  {
   "cell_type": "code",
   "execution_count": null,
   "metadata": {},
   "outputs": [],
   "source": [
    "'''\n",
    "Exercício Python 070: \n",
    "Crie um programa que leia o nome e o preço de vários produtos. O programa deverá perguntar se o usuário vai continuar ou não. No final, mostre:\n",
    "A) qual é o total gasto na compra.\n",
    "B) quantos produtos custam mais de R$1000.\n",
    "C) qual é o nome do produto mais barato. \n",
    "'''"
   ]
  },
  {
   "cell_type": "code",
   "execution_count": 15,
   "metadata": {},
   "outputs": [
    {
     "name": "stdout",
     "output_type": "stream",
     "text": [
      "====================\n",
      "Carrinho:\n",
      "Produto: A\n",
      "Preço: 100\n",
      "Produto: B\n",
      "Preço: 20\n",
      "Você gastou R$:120.00\n",
      "Nenhum produto custa acima de mil reais!\n",
      "O produto mais barato foi B custando R$:20 \n"
     ]
    }
   ],
   "source": [
    "totalGasto = nomebarato = caros = 0\n",
    "precoBarato = float('inf')\n",
    "LisProdutos = []\n",
    "while True:\n",
    "    produto = str(input(\"Produto: \")).strip().lower().capitalize()\n",
    "    preco = int(input(\"Valor: \"))\n",
    "    totalGasto += preco\n",
    "    if preco > 1000:\n",
    "        caros += 1\n",
    "    if preco < precoBarato:\n",
    "        precoBarato = preco\n",
    "        nomebarato = produto\n",
    "    LisProdutos.append({\"Produto\": produto, \"Preço\": preco})\n",
    "    continuar = str(input(\"Deseja continuar[S/N]?\")).strip().upper()\n",
    "    \n",
    "    while continuar not in \"SN\":\n",
    "        continuar = str(input(\"Deseja continuar[S/N]?\")).strip().upper()\n",
    "    if continuar != \"S\":\n",
    "        break\n",
    "print(\"==\" * 10)\n",
    "print(\"Carrinho:\") \n",
    "for produto in LisProdutos:\n",
    "    for chave, valor in produto.items():\n",
    "        print(f\"{chave}: {valor}\")\n",
    "print(f\"Você gastou R$:{totalGasto:.2f}\")\n",
    "\n",
    "if caros == 0:\n",
    "    print(\"Nenhum produto custa acima de mil reais!\")\n",
    "elif caros == 1:\n",
    "    print(\"Apenas um produto custa acima de mil reais\")\n",
    "else:\n",
    "    print(f\"{caros} produtos custam acima de mil reais\")\n",
    "\n",
    "print(f\"O produto mais barato foi {nomebarato} custando R$:{precoBarato} \")"
   ]
  }
 ],
 "metadata": {
  "kernelspec": {
   "display_name": "Python 3",
   "language": "python",
   "name": "python3"
  },
  "language_info": {
   "name": "python",
   "version": "3.9.0"
  }
 },
 "nbformat": 4,
 "nbformat_minor": 2
}
