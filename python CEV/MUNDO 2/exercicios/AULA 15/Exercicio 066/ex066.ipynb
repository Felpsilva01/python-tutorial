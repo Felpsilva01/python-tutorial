{
 "cells": [
  {
   "cell_type": "code",
   "execution_count": null,
   "metadata": {},
   "outputs": [],
   "source": [
    "'''\n",
    "Exercício Python 066: \n",
    "Crie um programa que leia números inteiros pelo teclado. O programa só vai parar quando o usuário digitar o valor 999, \n",
    "que é a condição de parada. No final, mostre quantos números foram digitados e qual foi a soma entre elas (desconsiderando o flag).\n",
    "'''"
   ]
  },
  {
   "cell_type": "code",
   "execution_count": 1,
   "metadata": {},
   "outputs": [
    {
     "name": "stdout",
     "output_type": "stream",
     "text": [
      "[1, 2, 3, 4]\n",
      "A soma dos 4 números é 10\n"
     ]
    }
   ],
   "source": [
    "n = c = s = 0\n",
    "listaNumeros = []\n",
    "while True:\n",
    "    n = int(input(\"Digite um número [999 para]: \"))\n",
    "    if n == 999:\n",
    "        break\n",
    "    listaNumeros.append(n)\n",
    "    c += 1\n",
    "    s += n\n",
    "\n",
    "print(listaNumeros)\n",
    "print(f\"A soma dos {c} números é {s}\")"
   ]
  }
 ],
 "metadata": {
  "kernelspec": {
   "display_name": "Python 3",
   "language": "python",
   "name": "python3"
  },
  "language_info": {
   "codemirror_mode": {
    "name": "ipython",
    "version": 3
   },
   "file_extension": ".py",
   "mimetype": "text/x-python",
   "name": "python",
   "nbconvert_exporter": "python",
   "pygments_lexer": "ipython3",
   "version": "3.9.0"
  }
 },
 "nbformat": 4,
 "nbformat_minor": 2
}
