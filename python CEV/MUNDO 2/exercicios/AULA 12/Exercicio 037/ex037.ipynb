{
 "cells": [
  {
   "cell_type": "code",
   "execution_count": null,
   "metadata": {},
   "outputs": [],
   "source": [
    "'''\n",
    "Escreva um programa em Python que leia um número inteiro qualquer e peça para o usuário\n",
    "escolher qual será a base de conversão: 1 para binário, 2 para octal e 3 para hexadecimal.\n",
    "'''"
   ]
  },
  {
   "cell_type": "code",
   "execution_count": 8,
   "metadata": {},
   "outputs": [
    {
     "name": "stdout",
     "output_type": "stream",
     "text": [
      "Escolha uma das bases para conversão:\n",
      "\n",
      "[1] converter para BINÁRIO\n",
      "[2] converter para OCTAL\n",
      "[3] converter para HEXADECIMAL\n",
      "\n",
      "O número 22 em octal é: 26\n"
     ]
    }
   ],
   "source": [
    "numero = int(input(\"Digite um numero inteiro qualquer: \"))\n",
    "print(\"Escolha uma das bases para conversão:\")\n",
    "print('''\n",
    "[1] converter para BINÁRIO\n",
    "[2] converter para OCTAL\n",
    "[3] converter para HEXADECIMAL\n",
    "''')\n",
    "opcao = int(input(\"Sua opção: \"))\n",
    "\n",
    "if opcao == 1:\n",
    "    print(f\"O numero {numero} em binário é: {bin(numero)[2:]}\")\n",
    "elif opcao == 2:\n",
    "    print(f\"O número {numero} em octal é: {oct(numero)[2:]}\")\n",
    "elif opcao == 3:\n",
    "    print(f\"O número {numero} em hexadecimal é: {hex(numero)[2:]}\")\n",
    "else:\n",
    "    print(\"Opção inválida!\")"
   ]
  }
 ],
 "metadata": {
  "kernelspec": {
   "display_name": "Python 3",
   "language": "python",
   "name": "python3"
  },
  "language_info": {
   "codemirror_mode": {
    "name": "ipython",
    "version": 3
   },
   "file_extension": ".py",
   "mimetype": "text/x-python",
   "name": "python",
   "nbconvert_exporter": "python",
   "pygments_lexer": "ipython3",
   "version": "3.9.0"
  }
 },
 "nbformat": 4,
 "nbformat_minor": 2
}
