{
 "cells": [
  {
   "cell_type": "code",
   "execution_count": null,
   "metadata": {},
   "outputs": [],
   "source": [
    "'''Exercício Python 042: \n",
    "Refaça o DESAFIO 035 dos triângulos, acrescentando o recurso de mostrar que tipo de triângulo será formado:\n",
    "- EQUILÁTERO: todos os lados iguais\n",
    "- ISÓSCELES: dois lados iguais, um diferente\n",
    "- ESCALENO: todos os lados diferentes\n",
    "Desenvolva um programa que leia o comprimento de três retas e diga ao usuário se elas podem ou não formar um triângulo.\n",
    "\n",
    "'''"
   ]
  },
  {
   "cell_type": "code",
   "execution_count": 1,
   "metadata": {},
   "outputs": [
    {
     "name": "stdout",
     "output_type": "stream",
     "text": [
      "Os lados fornecidos formam um triângulo\n",
      "Forma um triângulo equilátero!\n"
     ]
    }
   ],
   "source": [
    "def forma_triangulo(a, b, c):\n",
    "    return a + b > c and b + c > a and c + a > b\n",
    "\n",
    "# Solicita os comprimentos dos lados ao usuário\n",
    "lado1 = float(input(\"Digite o comprimento do primeiro lado: \"))\n",
    "lado2 = float(input(\"Digite o comprimento do segundo lado: \"))\n",
    "lado3 = float(input(\"Digite o comprimento do terceiro lado: \"))\n",
    "\n",
    "if forma_triangulo(lado1, lado2, lado3):\n",
    "    print(\"Os lados fornecidos formam um triângulo\")\n",
    "    if lado1 == lado2 == lado3:\n",
    "        print(\"Forma um triângulo equilátero!\")\n",
    "    elif lado1 != lado2 != lado3:\n",
    "        print(\"Forma um triânguçp escaleno!\")\n",
    "    else:\n",
    "        print(\"Forma um triângulo isosceles!\")\n",
    "else:\n",
    "    print(\"Os lados fornecidos não formam um triângulo.\")"
   ]
  }
 ],
 "metadata": {
  "kernelspec": {
   "display_name": "Python 3",
   "language": "python",
   "name": "python3"
  },
  "language_info": {
   "codemirror_mode": {
    "name": "ipython",
    "version": 3
   },
   "file_extension": ".py",
   "mimetype": "text/x-python",
   "name": "python",
   "nbconvert_exporter": "python",
   "pygments_lexer": "ipython3",
   "version": "3.9.0"
  }
 },
 "nbformat": 4,
 "nbformat_minor": 2
}
