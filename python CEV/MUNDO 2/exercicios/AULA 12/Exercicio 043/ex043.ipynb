{
 "cells": [
  {
   "cell_type": "code",
   "execution_count": null,
   "metadata": {},
   "outputs": [],
   "source": [
    "'''Exercício Python 043: \n",
    "Desenvolva uma lógica que leia o peso e a altura de uma pessoa, calcule seu Índice de Massa Corporal (IMC) e mostre seu status, de acordo com a tabela abaixo:\n",
    "- IMC abaixo de 18,5: Abaixo do Peso\n",
    "- Entre 18,5 e 25: Peso Ideal\n",
    "- 25 até 30: Sobrepeso\n",
    "- 30 até 40: Obesidade\n",
    "- Acima de 40: Obesidade Mórbida\n",
    "'''"
   ]
  },
  {
   "cell_type": "code",
   "execution_count": 7,
   "metadata": {},
   "outputs": [
    {
     "name": "stdout",
     "output_type": "stream",
     "text": [
      "Você pesa 125.00kg e tem 1.68m de altura\n",
      "Seu IMC é de 44.29\n",
      "Obesidade morbida!\n"
     ]
    }
   ],
   "source": [
    "peso = float(input(\"Digite seu peso(kg): \"))\n",
    "altura = float(input(\"Digite sua altura(cm): \"))/100\n",
    "print(f\"Você pesa {peso:.2f}kg e tem {altura}m de altura\")\n",
    "\n",
    "imc = peso/(altura**2)\n",
    "print(f\"Seu IMC é de {imc:.2f}\")\n",
    "if imc < 18.5:\n",
    "    print(\"Abaixo do peso!\")\n",
    "elif imc <= 25:\n",
    "    print(\"Peso ideal!\")\n",
    "elif imc <= 30:\n",
    "    print(\"Sobrepeso!\")\n",
    "elif imc <= 40:\n",
    "    print(\"Obesidade\")\n",
    "else:\n",
    "    print(\"Obesidade morbida!\")"
   ]
  },
  {
   "cell_type": "code",
   "execution_count": null,
   "metadata": {},
   "outputs": [],
   "source": []
  }
 ],
 "metadata": {
  "kernelspec": {
   "display_name": "Python 3",
   "language": "python",
   "name": "python3"
  },
  "language_info": {
   "codemirror_mode": {
    "name": "ipython",
    "version": 3
   },
   "file_extension": ".py",
   "mimetype": "text/x-python",
   "name": "python",
   "nbconvert_exporter": "python",
   "pygments_lexer": "ipython3",
   "version": "3.9.0"
  }
 },
 "nbformat": 4,
 "nbformat_minor": 2
}
