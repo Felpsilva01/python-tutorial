{
 "cells": [
  {
   "cell_type": "code",
   "execution_count": null,
   "metadata": {},
   "outputs": [],
   "source": [
    "'''\n",
    "Escreva um programa que leia dois números inteiros e compare-os. mostrando na tela uma mensagem:\n",
    "- O primeiro valor é maior\n",
    "- O segundo valor é maior\n",
    "- Não existe valor maior, os dois são iguais\n",
    "'''"
   ]
  },
  {
   "cell_type": "code",
   "execution_count": 4,
   "metadata": {},
   "outputs": [
    {
     "name": "stdout",
     "output_type": "stream",
     "text": [
      "Primeiro valor 5 \n",
      "Segundo valor 48\n",
      "O segundo valor é maior\n"
     ]
    }
   ],
   "source": [
    "num01 = int(input(\"Digite o primeiro valor: \"))\n",
    "num02 = int(input(\"Figite o segundo valor: \"))\n",
    "print(f\"Primeiro valor {num01} \\nSegundo valor {num02}\")\n",
    "if num01 > num02:\n",
    "    print(\"O primeiro valor é maior\")\n",
    "elif num01 < num02:\n",
    "    print(\"O segundo valor é maior\")\n",
    "else:\n",
    "    print(\"Não existe valor maior, os dois são iguais\")"
   ]
  }
 ],
 "metadata": {
  "kernelspec": {
   "display_name": "Python 3",
   "language": "python",
   "name": "python3"
  },
  "language_info": {
   "codemirror_mode": {
    "name": "ipython",
    "version": 3
   },
   "file_extension": ".py",
   "mimetype": "text/x-python",
   "name": "python",
   "nbconvert_exporter": "python",
   "pygments_lexer": "ipython3",
   "version": "3.9.0"
  }
 },
 "nbformat": 4,
 "nbformat_minor": 2
}
