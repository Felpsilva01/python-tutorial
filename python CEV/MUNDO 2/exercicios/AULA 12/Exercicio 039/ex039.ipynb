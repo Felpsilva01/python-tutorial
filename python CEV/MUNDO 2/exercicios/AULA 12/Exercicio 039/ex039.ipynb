{
 "cells": [
  {
   "cell_type": "code",
   "execution_count": null,
   "metadata": {},
   "outputs": [],
   "source": [
    "'''\n",
    "Faça um programa que leia o ano de nascimento de um jovem e informe, de acordo com a sua idade, \n",
    "se ele ainda vai se alistar ao serviço militar, se é a hora exata de se alistar ou se já passou \n",
    "do tempo do alistamento. Seu programa também deverá mostrar o tempo que falta ou que passou do prazo.\n",
    "\n",
    "'''"
   ]
  },
  {
   "cell_type": "code",
   "execution_count": 13,
   "metadata": {},
   "outputs": [
    {
     "name": "stdout",
     "output_type": "stream",
     "text": [
      "Você terminará 2024 com 24 anos\n",
      "Ja passou da hora de você se alistar!\n",
      "Você está atrasado 6 ano(s)\n"
     ]
    }
   ],
   "source": [
    "nascimento = int(input(\"Digite o ano de seu nascimento: \"))\n",
    "alistamento = 2024 - 18\n",
    "idade = 2024 - nascimento\n",
    "print(f\"Você terminará 2024 com {idade} anos\")\n",
    "if nascimento == alistamento:\n",
    "    print(f\"Você está no momento exato para se alistar!\")\n",
    "elif nascimento < alistamento:\n",
    "    print(\"Ja passou da hora de você se alistar!\")\n",
    "    print(f\"Você está atrasado {idade - 18} ano(s)\")\n",
    "else:\n",
    "    print(\"Aguarde, sua hora irá chegar!\")\n",
    "    print(f\"Lhe resta {18 - idade} ano(s).\")"
   ]
  }
 ],
 "metadata": {
  "kernelspec": {
   "display_name": "Python 3",
   "language": "python",
   "name": "python3"
  },
  "language_info": {
   "codemirror_mode": {
    "name": "ipython",
    "version": 3
   },
   "file_extension": ".py",
   "mimetype": "text/x-python",
   "name": "python",
   "nbconvert_exporter": "python",
   "pygments_lexer": "ipython3",
   "version": "3.9.0"
  }
 },
 "nbformat": 4,
 "nbformat_minor": 2
}
