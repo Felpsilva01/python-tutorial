{
 "cells": [
  {
   "cell_type": "code",
   "execution_count": null,
   "metadata": {},
   "outputs": [],
   "source": [
    "'''Exercício Python 040: \n",
    "Crie um programa que leia duas notas de um aluno e calcule sua média, mostrando uma mensagem no final, de acordo com a média atingida:\n",
    "- Média abaixo de 5.0: REPROVADO\n",
    "- Média entre 5.0 e 6.9: RECUPERAÇÃO\n",
    "- Média 7.0 ou superior: APROVADO'''"
   ]
  },
  {
   "cell_type": "code",
   "execution_count": 7,
   "metadata": {},
   "outputs": [
    {
     "name": "stdout",
     "output_type": "stream",
     "text": [
      "Media baixa! Aluno de RECUPERAÇÃO\n"
     ]
    }
   ],
   "source": [
    "notaUm = float(input(\"Digite a primeira nota: \"))\n",
    "notaDois = float(input(\"Digite a segunda nota: \"))\n",
    "media = (notaDois + notaUm)/2\n",
    "\n",
    "if media < 5:\n",
    "    print(\"Média baixa! Aluno REPROVADO!!!\")\n",
    "elif 7 > media >= 5:\n",
    "    print(\"Media baixa! Aluno de RECUPERAÇÃO\")\n",
    "elif media >= 7 and media <= 10:\n",
    "    print(\"Media alta! Aluno APROVADO!\")\n",
    "else:\n",
    "    print(\"Notas com valores inválidos!\")"
   ]
  },
  {
   "cell_type": "code",
   "execution_count": null,
   "metadata": {},
   "outputs": [],
   "source": [
    "'''Exercício Python 041: A Confederação Nacional de Natação precisa de um programa que leia o ano de nascimento de um atleta e mostre sua categoria, de acordo com a idade:\n",
    "- Até 9 anos: MIRIM\n",
    "- Até 14 anos: INFANTIL\n",
    "- Até 19 anos: JÚNIOR\n",
    "- Até 25 anos: SÊNIOR\n",
    "- Acima de 25 anos: MASTER'''"
   ]
  }
 ],
 "metadata": {
  "kernelspec": {
   "display_name": "Python 3",
   "language": "python",
   "name": "python3"
  },
  "language_info": {
   "codemirror_mode": {
    "name": "ipython",
    "version": 3
   },
   "file_extension": ".py",
   "mimetype": "text/x-python",
   "name": "python",
   "nbconvert_exporter": "python",
   "pygments_lexer": "ipython3",
   "version": "3.9.0"
  }
 },
 "nbformat": 4,
 "nbformat_minor": 2
}
