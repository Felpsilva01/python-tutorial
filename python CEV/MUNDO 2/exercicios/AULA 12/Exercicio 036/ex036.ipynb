{
 "cells": [
  {
   "cell_type": "code",
   "execution_count": null,
   "metadata": {},
   "outputs": [],
   "source": [
    "'''\n",
    "Escreva um programa para aprovar o empréstimo bancário para a compra de uma casa. \n",
    "Pergunte o valor da casa, o salário do comprador e em quantos anos ele vai pagar. \n",
    "A prestação mensal não pode exceder 30% do salário ou então o empréstimo será negado.\n",
    "'''"
   ]
  },
  {
   "cell_type": "code",
   "execution_count": 7,
   "metadata": {},
   "outputs": [
    {
     "name": "stdout",
     "output_type": "stream",
     "text": [
      "Para pagar uma casa no valor de R$80000.00 em 7 anos\n",
      "A prestação será de R$952.38\n",
      "Emprestimo bancário NEGADO!\n"
     ]
    }
   ],
   "source": [
    "valorCasa = float(input(\"Digite o valor da casa: R$\"))\n",
    "salarioComprador = float(input(\"Qual seu salário mensal: R$\"))\n",
    "prazoPagamento = int(input(\"Em quantos anos deseja pagar: \"))\n",
    "prestacao = valorCasa/(prazoPagamento * 12)\n",
    "\n",
    "print(f\"Para pagar uma casa no valor de R${valorCasa:.2f} em {prazoPagamento} anos\\nA prestação será de R${prestacao:.2f}\")\n",
    "if prestacao <= salarioComprador * 0.3:\n",
    "    print(\"O empréstimo bancário foi LIBERADO!\")\n",
    "else:\n",
    "    print(\"Emprestimo bancário NEGADO!\")"
   ]
  }
 ],
 "metadata": {
  "kernelspec": {
   "display_name": "Python 3",
   "language": "python",
   "name": "python3"
  },
  "language_info": {
   "codemirror_mode": {
    "name": "ipython",
    "version": 3
   },
   "file_extension": ".py",
   "mimetype": "text/x-python",
   "name": "python",
   "nbconvert_exporter": "python",
   "pygments_lexer": "ipython3",
   "version": "3.9.0"
  }
 },
 "nbformat": 4,
 "nbformat_minor": 2
}
