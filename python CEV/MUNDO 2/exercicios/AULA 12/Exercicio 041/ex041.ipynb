{
 "cells": [
  {
   "cell_type": "code",
   "execution_count": null,
   "metadata": {},
   "outputs": [],
   "source": [
    "'''Exercício Python 041: \n",
    "A Confederação Nacional de Natação precisa de um programa que leia o ano de nascimento de um atleta e mostre sua categoria, de acordo com a idade:\n",
    "- Até 9 anos: MIRIM\n",
    "- Até 14 anos: INFANTIL\n",
    "- Até 19 anos: JÚNIOR\n",
    "- Até 25 anos: SÊNIOR\n",
    "- Acima de 25 anos: MASTER\n",
    "'''"
   ]
  },
  {
   "cell_type": "code",
   "execution_count": 27,
   "metadata": {},
   "outputs": [
    {
     "name": "stdout",
     "output_type": "stream",
     "text": [
      "INDICADOR DE CATEGORIA!\n",
      "Sua idade: 64 anos\n",
      "Categoria: APOSENTADO\n"
     ]
    }
   ],
   "source": [
    "from datetime import datetime\n",
    "\n",
    "anoAtual = datetime.now().year\n",
    "anoAtleta = int(input(\"Digite seu ano de nascimento: \"))\n",
    "idade = anoAtual - anoAtleta\n",
    "print(f\"INDICADOR DE CATEGORIA!\\nSua idade: {idade} anos\")\n",
    "if idade <= 9:\n",
    "    print(f\"Categoria: MIRIM\")\n",
    "elif 14 >= idade > 9:\n",
    "    print(f\"Categoria: INFANTIL\")\n",
    "elif 19>= idade > 14:\n",
    "    print(f\"Categoria: JÚNIOR\")\n",
    "elif 25>= idade > 19:\n",
    "    print(f\"Categoria: SÊNIOR\")\n",
    "elif 60 >= idade > 25:\n",
    "    print(f\"Categoria: MASTER\")\n",
    "else:\n",
    "    print(\"Categoria: APOSENTADO\")\n"
   ]
  }
 ],
 "metadata": {
  "kernelspec": {
   "display_name": "Python 3",
   "language": "python",
   "name": "python3"
  },
  "language_info": {
   "codemirror_mode": {
    "name": "ipython",
    "version": 3
   },
   "file_extension": ".py",
   "mimetype": "text/x-python",
   "name": "python",
   "nbconvert_exporter": "python",
   "pygments_lexer": "ipython3",
   "version": "3.9.0"
  }
 },
 "nbformat": 4,
 "nbformat_minor": 2
}
