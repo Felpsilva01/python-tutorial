{
 "cells": [
  {
   "cell_type": "code",
   "execution_count": null,
   "metadata": {},
   "outputs": [],
   "source": [
    "'''Exercício Python 044: \n",
    "Elabore um programa que calcule o valor a ser pago por um produto, considerando o seu preço normal e condição de pagamento:\n",
    "- à vista dinheiro/cheque: 10% de desconto\n",
    "- à vista no cartão: 5% de desconto\n",
    "- em até 2x no cartão: preço formal\n",
    "- 3x ou mais no cartão: 20% de juros\n",
    "'''"
   ]
  },
  {
   "cell_type": "code",
   "execution_count": 12,
   "metadata": {},
   "outputs": [
    {
     "name": "stdout",
     "output_type": "stream",
     "text": [
      "Total da suas compras: R$1000.00\n",
      "FORMAS DE PAGAMENTO\n",
      "[1] à vista dinheiro/cheque\n",
      "[2] à vista cartão\n",
      "[3] 2x no cartão\n",
      "[4] 3x ou mais no cartão\n",
      "Como gostaria de pagar?\n",
      "\n",
      "OPÇÃO INVÁLIDA!!!\n"
     ]
    }
   ],
   "source": [
    "from time import sleep\n",
    "carrinho = float(input(\"Digite o valor das compras: R$\"))\n",
    "desconto = 0\n",
    "print(f\"Total da suas compras: R${carrinho:.2f}\")\n",
    "sleep(1)\n",
    "print('''FORMAS DE PAGAMENTO\n",
    "[1] à vista dinheiro/cheque\n",
    "[2] à vista cartão\n",
    "[3] 2x no cartão\n",
    "[4] 3x ou mais no cartão\n",
    "Como gostaria de pagar?\\n''')\n",
    "opcao = int(input(\"Digite sua opção de pagamento: \"))\n",
    "\n",
    "if opcao == 1:\n",
    "    desconto = carrinho * (10/100)\n",
    "    print(f'''Que maravilha!\n",
    "Você ganhou 10% de desconto!\n",
    "    Total: R$:{(carrinho-desconto):.2f}''')\n",
    "elif opcao == 2:\n",
    "    desconto = carrinho * (5/100)\n",
    "    print(f'''Excelente!\n",
    "Você ganhou 5% de desconto!\n",
    "    Total: R$:{(carrinho - desconto):.2f} ''')\n",
    "elif opcao == 4:\n",
    "    juros = carrinho * (20/100)\n",
    "    print(f'''Você não terá desconto!\n",
    "Sua compra terá acrescimo de 20% de juros\n",
    "    Total: R$:{(carrinho + juros):.2f}''')\n",
    "elif opcao == 3:\n",
    "    print(f\"Você pagara o valor comum!\")\n",
    "    print(f\"Total: R$:{carrinho:.2f}\")\n",
    "else:\n",
    "    print(\"OPÇÃO INVÁLIDA!!!\")"
   ]
  }
 ],
 "metadata": {
  "kernelspec": {
   "display_name": "Python 3",
   "language": "python",
   "name": "python3"
  },
  "language_info": {
   "codemirror_mode": {
    "name": "ipython",
    "version": 3
   },
   "file_extension": ".py",
   "mimetype": "text/x-python",
   "name": "python",
   "nbconvert_exporter": "python",
   "pygments_lexer": "ipython3",
   "version": "3.9.0"
  }
 },
 "nbformat": 4,
 "nbformat_minor": 2
}
