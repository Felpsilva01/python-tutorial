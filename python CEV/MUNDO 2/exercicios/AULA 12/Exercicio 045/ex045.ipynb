{
 "cells": [
  {
   "cell_type": "code",
   "execution_count": null,
   "metadata": {},
   "outputs": [],
   "source": [
    "'''Exercício Python 045: \n",
    "Crie um programa que faça o computador jogar Jokenpô com você.\n",
    "'''"
   ]
  },
  {
   "cell_type": "code",
   "execution_count": 24,
   "metadata": {},
   "outputs": [
    {
     "name": "stdout",
     "output_type": "stream",
     "text": [
      "Suas opções:\n",
      "[0] PEDRA\n",
      "[1] PAPEL\n",
      "[2] TESOURA\n",
      "\n",
      "Computador escolheu Pedra\n"
     ]
    },
    {
     "ename": "IndexError",
     "evalue": "tuple index out of range",
     "output_type": "error",
     "traceback": [
      "\u001b[1;31m---------------------------------------------------------------------------\u001b[0m",
      "\u001b[1;31mIndexError\u001b[0m                                Traceback (most recent call last)",
      "Cell \u001b[1;32mIn[24], line 12\u001b[0m\n\u001b[0;32m      9\u001b[0m jogador \u001b[38;5;241m=\u001b[39m \u001b[38;5;28mint\u001b[39m(\u001b[38;5;28minput\u001b[39m(\u001b[38;5;124m\"\u001b[39m\u001b[38;5;124mSua opção: \u001b[39m\u001b[38;5;124m\"\u001b[39m))\n\u001b[0;32m     11\u001b[0m \u001b[38;5;28mprint\u001b[39m(\u001b[38;5;124mf\u001b[39m\u001b[38;5;124m\"\u001b[39m\u001b[38;5;124mComputador escolheu \u001b[39m\u001b[38;5;132;01m{\u001b[39;00mitens[computador]\u001b[38;5;132;01m}\u001b[39;00m\u001b[38;5;124m\"\u001b[39m)\n\u001b[1;32m---> 12\u001b[0m \u001b[38;5;28mprint\u001b[39m(\u001b[38;5;124mf\u001b[39m\u001b[38;5;124m\"\u001b[39m\u001b[38;5;124mJogador jogou \u001b[39m\u001b[38;5;132;01m{\u001b[39;00mitens[jogador]\u001b[38;5;132;01m}\u001b[39;00m\u001b[38;5;124m\"\u001b[39m)\n\u001b[0;32m     14\u001b[0m \u001b[38;5;28;01mif\u001b[39;00m computador \u001b[38;5;241m==\u001b[39m \u001b[38;5;241m0\u001b[39m:\n\u001b[0;32m     15\u001b[0m     \u001b[38;5;28;01mif\u001b[39;00m jogador \u001b[38;5;241m==\u001b[39m \u001b[38;5;241m0\u001b[39m:\n",
      "\u001b[1;31mIndexError\u001b[0m: tuple index out of range"
     ]
    }
   ],
   "source": [
    "import random\n",
    "\n",
    "itens = ('Pedra', 'Papel', 'Tesoura')\n",
    "computador = random.randint(0, 2)\n",
    "print('''Suas opções:\n",
    "[0] PEDRA\n",
    "[1] PAPEL\n",
    "[2] TESOURA\\n''')\n",
    "jogador = int(input(\"Sua opção: \"))\n",
    "\n",
    "print(f\"Computador escolheu {itens[computador]}\")\n",
    "print(f\"Jogador jogou {itens[jogador]}\")\n",
    "\n",
    "if computador == 0:\n",
    "    if jogador == 0:\n",
    "        print(\"EMPATE\")\n",
    "    elif jogador == 1:\n",
    "        print(\"Jogador VENCEU\")\n",
    "    elif jogador == 2:\n",
    "        print(\"Computador VENCEU\")\n",
    "    else:\n",
    "        print(\"jogada inválida\")\n",
    "elif computador == 1:\n",
    "    if jogador == 1:\n",
    "        print(\"EMPATE\")\n",
    "    elif jogador == 2:\n",
    "        print(\"Jogador VENCEU\")\n",
    "    elif jogador == 0:\n",
    "        print(\"Computador VENCEU\")\n",
    "    else:\n",
    "        print(\"jogada inválida\")\n",
    "elif computador == 2:\n",
    "    if jogador == 2:\n",
    "        print(\"EMPATE\")\n",
    "    elif jogador == 0:\n",
    "        print(\"Jogador VENCEU\")\n",
    "    elif jogador == 1:\n",
    "        print(\"Computador VENCEU\")\n",
    "    else:\n",
    "        print(\"jogada inválida\")"
   ]
  },
  {
   "cell_type": "code",
   "execution_count": 16,
   "metadata": {},
   "outputs": [
    {
     "name": "stdout",
     "output_type": "stream",
     "text": [
      "Bem-vindo ao Jokenpô!\n",
      "Você escolheu: pedra\n",
      "Computador escolheu: tesoura\n",
      "Você venceu!\n"
     ]
    }
   ],
   "source": [
    "import random\n",
    "\n",
    "def jogar_jokenpo(jogador):\n",
    "    opcoes = [\"pedra\", \"papel\", \"tesoura\"]\n",
    "    computador = random.choice(opcoes)\n",
    "\n",
    "    print(f\"Você escolheu: {jogador}\")\n",
    "    print(f\"Computador escolheu: {computador}\")\n",
    "\n",
    "    if jogador == computador:\n",
    "        print(\"Empate!\")\n",
    "    elif (jogador == \"pedra\" and computador == \"tesoura\") or \\\n",
    "         (jogador == \"papel\" and computador == \"pedra\") or \\\n",
    "         (jogador == \"tesoura\" and computador == \"papel\"):\n",
    "        print(\"Você venceu!\")\n",
    "    else:\n",
    "        print(\"Você perdeu!\")\n",
    "\n",
    "if __name__ == \"__main__\":\n",
    "    print(\"Bem-vindo ao Jokenpô!\")\n",
    "    escolha_do_jogador = input(\"Escolha entre pedra, papel ou tesoura: \").lower()\n",
    "\n",
    "    if escolha_do_jogador in [\"pedra\", \"papel\", \"tesoura\"]:\n",
    "        jogar_jokenpo(escolha_do_jogador)\n",
    "    else:\n",
    "        print(\"Escolha inválida. Por favor, escolha entre pedra, papel ou tesoura.\")\n"
   ]
  }
 ],
 "metadata": {
  "kernelspec": {
   "display_name": "Python 3",
   "language": "python",
   "name": "python3"
  },
  "language_info": {
   "name": "python",
   "version": "3.9.0"
  }
 },
 "nbformat": 4,
 "nbformat_minor": 2
}
