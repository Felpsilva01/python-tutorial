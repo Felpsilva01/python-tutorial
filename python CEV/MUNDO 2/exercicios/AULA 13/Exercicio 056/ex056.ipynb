{
 "cells": [
  {
   "cell_type": "code",
   "execution_count": null,
   "metadata": {},
   "outputs": [],
   "source": [
    "'''\n",
    "Exercício Python 056: \n",
    "Desenvolva um programa que leia o nome, idade e sexo de 4 pessoas. No final do programa, mostre: \n",
    "a média de idade do grupo, qual é o nome do homem mais velho e quantas mulheres têm menos de 20 anos.\n",
    "'''"
   ]
  },
  {
   "cell_type": "code",
   "execution_count": 14,
   "metadata": {},
   "outputs": [
    {
     "name": "stdout",
     "output_type": "stream",
     "text": [
      "A média de idade do grupo é de 16.5 anos\n",
      "O homem mais velho tem 22 anos e se chama Kluis\n",
      "Ao todo são 2 com menos de 20 anos\n"
     ]
    }
   ],
   "source": [
    "mediaIdade = 0\n",
    "maisVelhoNome = 0\n",
    "maisVelhoIdade = 0\n",
    "somaIdades = 0\n",
    "quantidadeMulheres = 0\n",
    "for i in range(1, 5):\n",
    "    nome = str(input(f\"Digite o nome da {i}° pessoa: \")).title()\n",
    "    idade = int(input(f\"Digite a idade da {i}° pessoa: \"))\n",
    "    sexo = str(input(f\"Digite o sexo(M/F) {i} pessoa: \")).strip().lower()\n",
    "    \n",
    "    somaIdades += idade\n",
    "    \n",
    "    if sexo == 'm' and idade > maisVelhoIdade:\n",
    "        maisVelhoNome = nome\n",
    "        maisVelhoIdade = idade\n",
    "    if sexo == 'f' and idade < 20:\n",
    "        quantidadeMulheres += 1\n",
    "mediaIdade = somaIdades / 4\n",
    "print(f\"A média de idade do grupo é de {mediaIdade:.1f} anos\")\n",
    "print(f\"O homem mais velho tem {maisVelhoIdade} anos e se chama {maisVelhoNome.title()}\")\n",
    "print(f\"Ao todo são {quantidadeMulheres} com menos de 20 anos\")"
   ]
  }
 ],
 "metadata": {
  "kernelspec": {
   "display_name": "Python 3",
   "language": "python",
   "name": "python3"
  },
  "language_info": {
   "codemirror_mode": {
    "name": "ipython",
    "version": 3
   },
   "file_extension": ".py",
   "mimetype": "text/x-python",
   "name": "python",
   "nbconvert_exporter": "python",
   "pygments_lexer": "ipython3",
   "version": "3.9.0"
  }
 },
 "nbformat": 4,
 "nbformat_minor": 2
}
