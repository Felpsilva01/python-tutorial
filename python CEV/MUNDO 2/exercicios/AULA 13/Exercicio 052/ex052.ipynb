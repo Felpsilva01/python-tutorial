{
 "cells": [
  {
   "cell_type": "code",
   "execution_count": null,
   "metadata": {},
   "outputs": [],
   "source": [
    "'''\n",
    "Exercício Python 052: \n",
    "Faça um programa que leia um número inteiro e diga se ele é ou não um número primo.\n",
    "'''"
   ]
  },
  {
   "cell_type": "code",
   "execution_count": 15,
   "metadata": {},
   "outputs": [
    {
     "name": "stdout",
     "output_type": "stream",
     "text": [
      "13 é PRIMO\n"
     ]
    }
   ],
   "source": [
    "#minha solução\n",
    "num = int(input(\"Digite um numero: \"))\n",
    "\n",
    "if num > 1:\n",
    "    for i in range(2, num):\n",
    "        if num % i == 0:\n",
    "            print(f\"{num} não é PRIMO\")\n",
    "            break\n",
    "    else:\n",
    "        print(f\"{num} é PRIMO\")\n",
    "else:\n",
    "   print(f\"{num} é PRIMO\")"
   ]
  },
  {
   "cell_type": "code",
   "execution_count": 12,
   "metadata": {},
   "outputs": [
    {
     "name": "stdout",
     "output_type": "stream",
     "text": [
      "3 é um número primo.\n"
     ]
    }
   ],
   "source": [
    "# ajuda chatGPT\n",
    "def is_prime(n):\n",
    "    if n <= 1:\n",
    "        return False\n",
    "    elif n == 2:\n",
    "        return True\n",
    "    elif n % 2 == 0:\n",
    "        return False\n",
    "\n",
    "    # Iterar de 3 até a raiz quadrada de n, com passo 2 para verificar apenas números ímpares\n",
    "    for i in range(3, int(n**0.5) + 1, 2):\n",
    "        if n % i == 0:\n",
    "            return False  # n é divisível por i, não é um número primo\n",
    "\n",
    "    return True  # Se nenhum divisor foi encontrado, n é um número primo\n",
    "\n",
    "# Solicitar ao usuário para inserir um número inteiro\n",
    "numero = int(input(\"Digite um número inteiro: \"))\n",
    "\n",
    "# Verificar se o número é primo\n",
    "if is_prime(numero):\n",
    "    print(f\"{numero} é um número primo.\")\n",
    "else:\n",
    "    print(f\"{numero} não é um número primo.\")\n"
   ]
  },
  {
   "cell_type": "code",
   "execution_count": 29,
   "metadata": {},
   "outputs": [
    {
     "name": "stdout",
     "output_type": "stream",
     "text": [
      "\u001b[33m 1 \u001b[31m 2 \u001b[31m 3 \u001b[31m 4 \u001b[33m 5 \u001b[31m 6 \u001b[31m 7 \u001b[31m 8 \u001b[31m 9 \u001b[31m 10 \u001b[31m 11 \u001b[31m 12 \u001b[31m 13 \u001b[31m 14 \u001b[31m 15 \u001b[31m 16 \u001b[31m 17 \u001b[31m 18 \u001b[31m 19 \u001b[31m 20 \u001b[31m 21 \u001b[31m 22 \u001b[31m 23 \u001b[31m 24 \u001b[33m 25 \n",
      "\u001b[mO número 25 foi divido 3 vezes\n",
      "Ele não é primo\n"
     ]
    }
   ],
   "source": [
    "# Guanabara solutions\n",
    "\n",
    "num = int(input(\"Digite um número: \"))\n",
    "tot = 0\n",
    "for c in range(1, num+1):\n",
    "    if num % c == 0:\n",
    "        print('\\033[33m', end=' ')\n",
    "        tot += 1\n",
    "    else:\n",
    "        print('\\033[31m', end=' ')\n",
    "    print(f\"{c}\", end=' ')\n",
    "print(f\"\\n\\033[mO número {num} foi divido {tot} vezes\")\n",
    "if tot == 2:\n",
    "    print(\"Ele é primo\")\n",
    "else:\n",
    "    print(\"Ele não é primo\")"
   ]
  }
 ],
 "metadata": {
  "kernelspec": {
   "display_name": "Python 3",
   "language": "python",
   "name": "python3"
  },
  "language_info": {
   "codemirror_mode": {
    "name": "ipython",
    "version": 3
   },
   "file_extension": ".py",
   "mimetype": "text/x-python",
   "name": "python",
   "nbconvert_exporter": "python",
   "pygments_lexer": "ipython3",
   "version": "3.9.0"
  }
 },
 "nbformat": 4,
 "nbformat_minor": 2
}
