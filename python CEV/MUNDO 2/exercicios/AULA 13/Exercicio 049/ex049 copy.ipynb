{
 "cells": [
  {
   "cell_type": "code",
   "execution_count": null,
   "metadata": {},
   "outputs": [],
   "source": [
    "'''\n",
    "Exercício Python 049: \n",
    "Refaça o DESAFIO 009, mostrando a tabuada de um número que o usuário escolher, só que agora utilizando um laço for.\n",
    "'''"
   ]
  },
  {
   "cell_type": "code",
   "execution_count": 1,
   "metadata": {},
   "outputs": [
    {
     "name": "stdout",
     "output_type": "stream",
     "text": [
      "01 x 10 = 10\n",
      "02 x 10 = 20\n",
      "03 x 10 = 30\n",
      "04 x 10 = 40\n",
      "05 x 10 = 50\n",
      "06 x 10 = 60\n",
      "07 x 10 = 70\n",
      "08 x 10 = 80\n",
      "09 x 10 = 90\n",
      "10 x 10 = 100\n"
     ]
    }
   ],
   "source": [
    "num = int(input(\"Digite o numero que deseja obter a tabuada: \"))\n",
    "for i in range(1, 11):\n",
    "    print(f\"{i:02d} x {num} = {i*num}\")"
   ]
  }
 ],
 "metadata": {
  "kernelspec": {
   "display_name": "Python 3",
   "language": "python",
   "name": "python3"
  },
  "language_info": {
   "codemirror_mode": {
    "name": "ipython",
    "version": 3
   },
   "file_extension": ".py",
   "mimetype": "text/x-python",
   "name": "python",
   "nbconvert_exporter": "python",
   "pygments_lexer": "ipython3",
   "version": "3.9.0"
  }
 },
 "nbformat": 4,
 "nbformat_minor": 2
}
