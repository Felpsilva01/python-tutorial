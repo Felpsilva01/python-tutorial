{
 "cells": [
  {
   "cell_type": "code",
   "execution_count": null,
   "metadata": {},
   "outputs": [],
   "source": [
    "'''\n",
    "Exercício Python 049: \n",
    "Refaça o DESAFIO 009, mostrando a tabuada de um número que o usuário escolher, só que agora utilizando um laço for.\n",
    "'''"
   ]
  },
  {
   "cell_type": "code",
   "execution_count": 9,
   "metadata": {},
   "outputs": [
    {
     "name": "stdout",
     "output_type": "stream",
     "text": [
      "01 x 1 = 1\n",
      "02 x 1 = 2\n",
      "03 x 1 = 3\n",
      "04 x 1 = 4\n",
      "05 x 1 = 5\n",
      "06 x 1 = 6\n",
      "07 x 1 = 7\n",
      "08 x 1 = 8\n",
      "09 x 1 = 9\n",
      "10 x 1 = 10\n",
      "11 x 1 = 11\n",
      "12 x 1 = 12\n",
      "13 x 1 = 13\n",
      "14 x 1 = 14\n",
      "15 x 1 = 15\n",
      "16 x 1 = 16\n",
      "17 x 1 = 17\n",
      "18 x 1 = 18\n",
      "19 x 1 = 19\n",
      "20 x 1 = 20\n",
      "21 x 1 = 21\n",
      "22 x 1 = 22\n",
      "23 x 1 = 23\n",
      "24 x 1 = 24\n",
      "25 x 1 = 25\n"
     ]
    }
   ],
   "source": [
    "numUsuario= int(input(\"Qual tabuada deseja: \"))\n",
    "limiteTabuada = int(input(\"Até qual numero deseja obter a tabuada: \"))\n",
    "\n",
    "for tabuada in range(1, limiteTabuada+1):\n",
    "    if tabuada < 10:\n",
    "        print(f\"0{tabuada} x {numUsuario} = {tabuada*numUsuario}\")\n",
    "    else:\n",
    "        print(f\"{tabuada} x {numUsuario} = {tabuada*numUsuario}\")\n"
   ]
  }
 ],
 "metadata": {
  "kernelspec": {
   "display_name": "Python 3",
   "language": "python",
   "name": "python3"
  },
  "language_info": {
   "codemirror_mode": {
    "name": "ipython",
    "version": 3
   },
   "file_extension": ".py",
   "mimetype": "text/x-python",
   "name": "python",
   "nbconvert_exporter": "python",
   "pygments_lexer": "ipython3",
   "version": "3.9.0"
  }
 },
 "nbformat": 4,
 "nbformat_minor": 2
}
