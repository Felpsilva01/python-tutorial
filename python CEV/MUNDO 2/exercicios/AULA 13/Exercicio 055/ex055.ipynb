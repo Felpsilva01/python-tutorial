{
 "cells": [
  {
   "cell_type": "code",
   "execution_count": null,
   "metadata": {},
   "outputs": [],
   "source": [
    "'''\n",
    "Exercício Python 055: \n",
    "Faça um programa que leia o peso de cinco pessoas. No final, mostre qual foi o maior e o menor peso lidos.\n",
    "'''"
   ]
  },
  {
   "cell_type": "code",
   "execution_count": 21,
   "metadata": {},
   "outputs": [
    {
     "name": "stdout",
     "output_type": "stream",
     "text": [
      "O maior peso foi 90.0kg\n",
      "O menor peso foi 5.0kg\n"
     ]
    }
   ],
   "source": [
    "pesoMaior = float('-inf')\n",
    "pesoMenor = float('inf')\n",
    "\n",
    "for i in range(1, 6):\n",
    "    peso = float(input(f\"Digite o peso da {i}º pessoa: \"))\n",
    "\n",
    "    if peso > pesoMaior:\n",
    "        pesoMaior = peso    \n",
    "    if peso < pesoMenor:\n",
    "        pesoMenor = peso\n",
    "\n",
    "print(f'O maior peso foi {pesoMaior:.1f}kg\\nO menor peso foi {pesoMenor:.1f}kg')"
   ]
  },
  {
   "cell_type": "code",
   "execution_count": 13,
   "metadata": {},
   "outputs": [
    {
     "name": "stdout",
     "output_type": "stream",
     "text": [
      "\n",
      "Maior peso: 50.0\n",
      "Menor peso: 10.0\n"
     ]
    }
   ],
   "source": [
    "# Inicializando as variáveis para armazenar o maior e menor peso\n",
    "maior_peso = float('-inf')  # Inicializando com o menor valor possível\n",
    "menor_peso = float('inf')   # Inicializando com o maior valor possível\n",
    "\n",
    "# Loop para ler o peso de cinco pessoas\n",
    "for i in range(1, 6):\n",
    "    peso = float(input(f\"Digite o peso da pessoa {i}: \"))\n",
    "\n",
    "    # Verificando se o peso é o maior ou menor até agora\n",
    "    if peso > maior_peso:\n",
    "        maior_peso = peso\n",
    "\n",
    "    if peso < menor_peso:\n",
    "        menor_peso = peso\n",
    "\n",
    "# Mostrando o maior e menor peso\n",
    "print(\"\\nMaior peso:\", maior_peso)\n",
    "print(\"Menor peso:\", menor_peso)\n"
   ]
  }
 ],
 "metadata": {
  "kernelspec": {
   "display_name": "Python 3",
   "language": "python",
   "name": "python3"
  },
  "language_info": {
   "codemirror_mode": {
    "name": "ipython",
    "version": 3
   },
   "file_extension": ".py",
   "mimetype": "text/x-python",
   "name": "python",
   "nbconvert_exporter": "python",
   "pygments_lexer": "ipython3",
   "version": "3.9.0"
  }
 },
 "nbformat": 4,
 "nbformat_minor": 2
}
