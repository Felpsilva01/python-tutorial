{
 "cells": [
  {
   "cell_type": "code",
   "execution_count": null,
   "metadata": {},
   "outputs": [],
   "source": [
    "'''\n",
    "Exercício Python 053: \n",
    "Crie um programa que leia uma frase qualquer e diga se ela é um palíndromo, desconsiderando os espaços.\n",
    "'''"
   ]
  },
  {
   "cell_type": "code",
   "execution_count": 21,
   "metadata": {},
   "outputs": [
    {
     "name": "stdout",
     "output_type": "stream",
     "text": [
      "O inverso de Arara é Arara\n",
      "E é um palíndromo\n"
     ]
    }
   ],
   "source": [
    "frase = str(input(\"Digite sua frase: \")).strip()\n",
    "fraseTratada = frase.replace(\" \", \"\").lower().strip()\n",
    "testeFrase = fraseTratada[::-1]\n",
    "\n",
    "print(f\"O inverso de {frase.capitalize()} é {frase[::-1].capitalize()}\")\n",
    "\n",
    "if fraseTratada == testeFrase:\n",
    "    print(\"E é um palíndromo\")\n",
    "else:\n",
    "    print(\"E não é um palíndromo\")"
   ]
  }
 ],
 "metadata": {
  "kernelspec": {
   "display_name": "Python 3",
   "language": "python",
   "name": "python3"
  },
  "language_info": {
   "codemirror_mode": {
    "name": "ipython",
    "version": 3
   },
   "file_extension": ".py",
   "mimetype": "text/x-python",
   "name": "python",
   "nbconvert_exporter": "python",
   "pygments_lexer": "ipython3",
   "version": "3.9.0"
  }
 },
 "nbformat": 4,
 "nbformat_minor": 2
}
