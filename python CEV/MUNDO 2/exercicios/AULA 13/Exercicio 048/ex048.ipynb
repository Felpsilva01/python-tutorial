{
 "cells": [
  {
   "cell_type": "code",
   "execution_count": null,
   "metadata": {},
   "outputs": [],
   "source": [
    "'''\n",
    "Exercício Python 048: \n",
    "Faça um programa que calcule a soma entre todos os números que \n",
    "são múltiplos de três e que se encontram no intervalo de 1 até 500.\n",
    "'''"
   ]
  },
  {
   "cell_type": "code",
   "execution_count": 22,
   "metadata": {},
   "outputs": [
    {
     "name": "stdout",
     "output_type": "stream",
     "text": [
      "A soma dos multiplos de 3 que são ímpar (83) valores dentro de 1 a 500 é: 20667\n"
     ]
    }
   ],
   "source": [
    "soma = 0\n",
    "contador = 0\n",
    "for i in range(1, 501):\n",
    "    if i % 3 == 0 and i % 2 == 1:\n",
    "        soma += i\n",
    "        contador += 1\n",
    "print(f\"A soma dos multiplos de 3 que são ímpar ({contador}) valores dentro de 1 a 500 é: {soma}\")\n"
   ]
  }
 ],
 "metadata": {
  "kernelspec": {
   "display_name": "Python 3",
   "language": "python",
   "name": "python3"
  },
  "language_info": {
   "codemirror_mode": {
    "name": "ipython",
    "version": 3
   },
   "file_extension": ".py",
   "mimetype": "text/x-python",
   "name": "python",
   "nbconvert_exporter": "python",
   "pygments_lexer": "ipython3",
   "version": "3.9.0"
  }
 },
 "nbformat": 4,
 "nbformat_minor": 2
}
