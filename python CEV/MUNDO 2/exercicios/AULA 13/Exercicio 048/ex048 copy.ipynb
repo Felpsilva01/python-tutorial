{
 "cells": [
  {
   "cell_type": "code",
   "execution_count": null,
   "metadata": {},
   "outputs": [],
   "source": [
    "'''\n",
    "Exercício Python 048: \n",
    "Faça um programa que calcule a soma entre todos os números que \n",
    "são múltiplos de três e que se encontram no intervalo de 1 até 500.\n",
    "'''"
   ]
  },
  {
   "cell_type": "code",
   "execution_count": 11,
   "metadata": {},
   "outputs": [
    {
     "name": "stdout",
     "output_type": "stream",
     "text": [
      "Esses são os multiplos de 3 no intervalo de 1 a 500\n",
      "[3, 6, 9, 12, 15, 18, 21, 24, 27, 30, 33, 36, 39, 42, 45, 48, 51, 54, 57, 60, 63, 66, 69, 72, 75, 78, 81, 84, 87, 90, 93, 96, 99, 102, 105, 108, 111, 114, 117, 120, 123, 126, 129, 132, 135, 138, 141, 144, 147, 150, 153, 156, 159, 162, 165, 168, 171, 174, 177, 180, 183, 186, 189, 192, 195, 198, 201, 204, 207, 210, 213, 216, 219, 222, 225, 228, 231, 234, 237, 240, 243, 246, 249, 252, 255, 258, 261, 264, 267, 270, 273, 276, 279, 282, 285, 288, 291, 294, 297, 300, 303, 306, 309, 312, 315, 318, 321, 324, 327, 330, 333, 336, 339, 342, 345, 348, 351, 354, 357, 360, 363, 366, 369, 372, 375, 378, 381, 384, 387, 390, 393, 396, 399, 402, 405, 408, 411, 414, 417, 420, 423, 426, 429, 432, 435, 438, 441, 444, 447, 450, 453, 456, 459, 462, 465, 468, 471, 474, 477, 480, 483, 486, 489, 492, 495, 498]\n",
      "São 166 numeros, sua soma é 41583 com uma média de 250.5\n"
     ]
    }
   ],
   "source": [
    "soma = media = quant = 0\n",
    "numeros = []\n",
    "intervalo = int(input(\"Digite o intervalo maximo: \"))\n",
    "for i in range(1, intervalo + 1):\n",
    "    if i % 3 == 0:\n",
    "        numeros.append(i)\n",
    "        soma += i\n",
    "        quant += 1\n",
    "print(f\"Esses são os multiplos de 3 no intervalo de 1 a {intervalo}\")\n",
    "print(numeros)\n",
    "print(f\"São {quant} numeros, sua soma é {soma} com uma média de {soma/quant}\")\n"
   ]
  }
 ],
 "metadata": {
  "kernelspec": {
   "display_name": "Python 3",
   "language": "python",
   "name": "python3"
  },
  "language_info": {
   "codemirror_mode": {
    "name": "ipython",
    "version": 3
   },
   "file_extension": ".py",
   "mimetype": "text/x-python",
   "name": "python",
   "nbconvert_exporter": "python",
   "pygments_lexer": "ipython3",
   "version": "3.9.0"
  }
 },
 "nbformat": 4,
 "nbformat_minor": 2
}
