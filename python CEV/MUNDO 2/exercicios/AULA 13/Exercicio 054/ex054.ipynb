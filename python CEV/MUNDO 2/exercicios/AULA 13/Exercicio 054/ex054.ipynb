{
 "cells": [
  {
   "cell_type": "code",
   "execution_count": null,
   "metadata": {},
   "outputs": [],
   "source": [
    "'''\n",
    "Exercício Python 054: \n",
    "Crie um programa que leia o ano de nascimento de sete pessoas. No final, \n",
    "mostre quantas pessoas ainda não atingiram a maioridade e quantas já são maiores.\n",
    "'''"
   ]
  },
  {
   "cell_type": "code",
   "execution_count": 21,
   "metadata": {},
   "outputs": [
    {
     "name": "stdout",
     "output_type": "stream",
     "text": [
      "2024\n",
      "Esses foram os anos informados: [2000, 2015, 2022, 2021, 2001, 1980, 1981]\n",
      "Esxite 3 menores de idade;\n",
      "Existe 4 maiores de idade.\n"
     ]
    }
   ],
   "source": [
    "anoAtual = 2024\n",
    "print(anoAtual)\n",
    "contadorMen = 0\n",
    "contadorMai = 0\n",
    "lista = []\n",
    "for i in range(1, 8):\n",
    "    anoNascimento = int(input(f\"Digite o ano de nascimento do {i}°: \"))\n",
    "    idade = anoAtual - anoNascimento\n",
    "    lista.append(anoNascimento)\n",
    "    if idade < 18:\n",
    "        contadorMen += 1\n",
    "    else:\n",
    "        contadorMai += 1\n",
    "print(f\"Esses foram os anos informados: {lista}\")\n",
    "print(f\"Esxite {contadorMen} menores de idade;\")\n",
    "print(f\"Existe {contadorMai} maiores de idade.\")"
   ]
  }
 ],
 "metadata": {
  "kernelspec": {
   "display_name": "Python 3",
   "language": "python",
   "name": "python3"
  },
  "language_info": {
   "codemirror_mode": {
    "name": "ipython",
    "version": 3
   },
   "file_extension": ".py",
   "mimetype": "text/x-python",
   "name": "python",
   "nbconvert_exporter": "python",
   "pygments_lexer": "ipython3",
   "version": "3.9.0"
  }
 },
 "nbformat": 4,
 "nbformat_minor": 2
}
