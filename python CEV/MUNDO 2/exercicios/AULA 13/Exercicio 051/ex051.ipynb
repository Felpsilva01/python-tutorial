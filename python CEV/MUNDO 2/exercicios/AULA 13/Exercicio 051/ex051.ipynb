{
 "cells": [
  {
   "cell_type": "code",
   "execution_count": null,
   "metadata": {},
   "outputs": [],
   "source": [
    "'''\n",
    "Exercício Python 051: \n",
    "Desenvolva um programa que leia o primeiro termo e a razão de uma PA. No final, mostre os 10 primeiros termos dessa progressão.\n",
    "\n",
    "'''"
   ]
  },
  {
   "cell_type": "code",
   "execution_count": 6,
   "metadata": {},
   "outputs": [
    {
     "name": "stdout",
     "output_type": "stream",
     "text": [
      "====================\n",
      "10 TERMOS DE UMA PA\n",
      "====================\n",
      "[2, 5, 8, 11, 14, 17, 20, 23, 26, 29]\n"
     ]
    }
   ],
   "source": [
    "print('=' *20)\n",
    "print(\"10 TERMOS DE UMA PA\")\n",
    "print('=' *20)\n",
    "\n",
    "termo = int(input(\"Digite o termo: \"))\n",
    "razao = int(input(\"Digite a razão agora: \"))\n",
    "listaPA = list()\n",
    "\n",
    "for i in range(1,11):\n",
    "    pa = termo + (i - 1) * razao\n",
    "    listaPA.append(pa)\n",
    "print(listaPA)"
   ]
  }
 ],
 "metadata": {
  "kernelspec": {
   "display_name": "Python 3",
   "language": "python",
   "name": "python3"
  },
  "language_info": {
   "codemirror_mode": {
    "name": "ipython",
    "version": 3
   },
   "file_extension": ".py",
   "mimetype": "text/x-python",
   "name": "python",
   "nbconvert_exporter": "python",
   "pygments_lexer": "ipython3",
   "version": "3.9.0"
  }
 },
 "nbformat": 4,
 "nbformat_minor": 2
}
