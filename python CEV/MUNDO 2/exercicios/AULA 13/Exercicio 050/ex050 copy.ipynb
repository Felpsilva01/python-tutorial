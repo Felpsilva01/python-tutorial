{
 "cells": [
  {
   "cell_type": "code",
   "execution_count": null,
   "metadata": {},
   "outputs": [],
   "source": [
    "'''\n",
    "Exercício Python 050: \n",
    "Desenvolva um programa que leia seis números inteiros e mostre a soma apenas \n",
    "daqueles que forem pares. Se o valor digitado for ímpar, desconsidere-o.\n",
    "\n",
    "'''"
   ]
  },
  {
   "cell_type": "code",
   "execution_count": 4,
   "metadata": {},
   "outputs": [
    {
     "name": "stdout",
     "output_type": "stream",
     "text": [
      "Aqui estão os numeros digitados: [1, 2, 3, 4, 5, 6]\n",
      "A soma dos numeros pares é 12\n"
     ]
    }
   ],
   "source": [
    "c = soma = 0\n",
    "numlist = []\n",
    "while True: \n",
    "    numero = int(input(\"Digite um numero\"))\n",
    "    c += 1\n",
    "    numlist.append(numero)\n",
    "    if numero % 2 == 1:\n",
    "        continue\n",
    "    soma += numero\n",
    "    if c == 6:\n",
    "        break\n",
    "print(f\"Aqui estão os numeros digitados: {numlist}\")\n",
    "print(f\"A soma dos numeros pares é {soma}\")"
   ]
  }
 ],
 "metadata": {
  "kernelspec": {
   "display_name": "Python 3",
   "language": "python",
   "name": "python3"
  },
  "language_info": {
   "codemirror_mode": {
    "name": "ipython",
    "version": 3
   },
   "file_extension": ".py",
   "mimetype": "text/x-python",
   "name": "python",
   "nbconvert_exporter": "python",
   "pygments_lexer": "ipython3",
   "version": "3.9.0"
  }
 },
 "nbformat": 4,
 "nbformat_minor": 2
}
