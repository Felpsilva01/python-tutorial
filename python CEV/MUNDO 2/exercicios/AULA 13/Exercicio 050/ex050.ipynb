{
 "cells": [
  {
   "cell_type": "code",
   "execution_count": null,
   "metadata": {},
   "outputs": [],
   "source": [
    "'''\n",
    "Exercício Python 050: \n",
    "Desenvolva um programa que leia seis números inteiros e mostre a soma apenas \n",
    "daqueles que forem pares. Se o valor digitado for ímpar, desconsidere-o.\n",
    "\n",
    "'''"
   ]
  },
  {
   "cell_type": "code",
   "execution_count": 2,
   "metadata": {},
   "outputs": [
    {
     "name": "stdout",
     "output_type": "stream",
     "text": [
      "Números digitados: [5, 4, 6, 23, 2, 10]\n",
      "A soma dos números pares que escolheu é: 22\n"
     ]
    }
   ],
   "source": [
    "# Inicialize a lista para armazenar os números\n",
    "numeros = []\n",
    "\n",
    "# Inicialize a variável de soma\n",
    "soma = 0\n",
    "\n",
    "# Loop para receber 6 números do usuário\n",
    "for i in range(6):\n",
    "    numUsuario = int(input(\"Digite um numero inteiro: \"))\n",
    "    numeros.append(numUsuario)  # Adiciona o número à lista\n",
    "\n",
    "    if numUsuario % 2 == 0:\n",
    "        soma += numUsuario\n",
    "\n",
    "print(f\"Números digitados: {numeros}\")\n",
    "\n",
    "# Verifique se há números pares na lista\n",
    "if soma > 0:\n",
    "    print(f\"A soma dos números pares que escolheu é: {soma}\")\n",
    "else:\n",
    "    print(\"Você não digitou nenhum número par.\")\n"
   ]
  }
 ],
 "metadata": {
  "kernelspec": {
   "display_name": "Python 3",
   "language": "python",
   "name": "python3"
  },
  "language_info": {
   "codemirror_mode": {
    "name": "ipython",
    "version": 3
   },
   "file_extension": ".py",
   "mimetype": "text/x-python",
   "name": "python",
   "nbconvert_exporter": "python",
   "pygments_lexer": "ipython3",
   "version": "3.9.0"
  }
 },
 "nbformat": 4,
 "nbformat_minor": 2
}
