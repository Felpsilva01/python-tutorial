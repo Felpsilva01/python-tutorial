{
 "cells": [
  {
   "cell_type": "code",
   "execution_count": 1,
   "metadata": {},
   "outputs": [
    {
     "name": "stdout",
     "output_type": "stream",
     "text": [
      "5\n",
      "jhon\n"
     ]
    }
   ],
   "source": [
    "n1 = 5\n",
    "nome = 'jhon'\n",
    "print( n1 )\n",
    "print(nome)"
   ]
  },
  {
   "cell_type": "code",
   "execution_count": 2,
   "metadata": {},
   "outputs": [
    {
     "data": {
      "text/plain": [
       "str"
      ]
     },
     "execution_count": 2,
     "metadata": {},
     "output_type": "execute_result"
    }
   ],
   "source": [
    "x = 4       # x é do tipo int\n",
    "x = 'Sally' # x é do tipo str agora\n",
    "type(x)"
   ]
  },
  {
   "cell_type": "code",
   "execution_count": 3,
   "metadata": {},
   "outputs": [],
   "source": [
    "x = str(3)      # será '3'\n",
    "y = int(3)      # será  3\n",
    "z = float(3)    # será 3.0"
   ]
  },
  {
   "cell_type": "code",
   "execution_count": 5,
   "metadata": {},
   "outputs": [
    {
     "name": "stdout",
     "output_type": "stream",
     "text": [
      "<class 'int'> <class 'str'> <class 'str'> <class 'float'>\n"
     ]
    }
   ],
   "source": [
    "a = 5\n",
    "b = 'Luis'\n",
    "c = '0.5'\n",
    "C = 0.5\n",
    "\n",
    "print(type(a), type(b), type(c), type(C))"
   ]
  },
  {
   "cell_type": "code",
   "execution_count": 7,
   "metadata": {},
   "outputs": [
    {
     "ename": "SyntaxError",
     "evalue": "invalid syntax (2185399839.py, line 1)",
     "output_type": "error",
     "traceback": [
      "\u001b[1;36m  Cell \u001b[1;32mIn[7], line 1\u001b[1;36m\u001b[0m\n\u001b[1;33m    2myvar = \"John\"\u001b[0m\n\u001b[1;37m     ^\u001b[0m\n\u001b[1;31mSyntaxError\u001b[0m\u001b[1;31m:\u001b[0m invalid syntax\n"
     ]
    }
   ],
   "source": [
    "2myvar = \"John\"\n",
    "my-var = \"John\"\n",
    "my var = \"John\""
   ]
  },
  {
   "cell_type": "code",
   "execution_count": 1,
   "metadata": {},
   "outputs": [
    {
     "name": "stdout",
     "output_type": "stream",
     "text": [
      "Orange\n",
      "Banana\n",
      "Cherry\n"
     ]
    }
   ],
   "source": [
    "x, y, z = \"Orange\", \"Banana\", \"Cherry\"\n",
    "print(x)\n",
    "print(y)\n",
    "print(z)"
   ]
  },
  {
   "cell_type": "code",
   "execution_count": 2,
   "metadata": {},
   "outputs": [
    {
     "name": "stdout",
     "output_type": "stream",
     "text": [
      "Orange\n",
      "Orange\n",
      "Orange\n"
     ]
    }
   ],
   "source": [
    "x = y = z = \"Orange\"\n",
    "print(x)\n",
    "print(y)\n",
    "print(z)"
   ]
  },
  {
   "cell_type": "code",
   "execution_count": 3,
   "metadata": {},
   "outputs": [
    {
     "name": "stdout",
     "output_type": "stream",
     "text": [
      "Maça Banana Mamão\n"
     ]
    }
   ],
   "source": [
    "frutas = [\"Maça\", \"Banana\", \"Mamão\"]\n",
    "x, y, z = frutas\n",
    "print(x, y, z)"
   ]
  },
  {
   "cell_type": "code",
   "execution_count": 4,
   "metadata": {},
   "outputs": [
    {
     "name": "stdout",
     "output_type": "stream",
     "text": [
      "Python é incrivel!\n"
     ]
    }
   ],
   "source": [
    "x = 'Python é incrivel!'\n",
    "print(x)"
   ]
  },
  {
   "cell_type": "code",
   "execution_count": 5,
   "metadata": {},
   "outputs": [
    {
     "name": "stdout",
     "output_type": "stream",
     "text": [
      "Valor da variável global dentro da função 10\n",
      "Valor da variável global fora da função 10\n"
     ]
    }
   ],
   "source": [
    "# Variável global\n",
    "global_variable = 10\n",
    "\n",
    "def minha_funcao():\n",
    "    # Acessando a variável global dentro da função\n",
    "    print(\"Valor da variável global dentro da função\", global_variable)\n",
    "\n",
    "# Chamando a função\n",
    "minha_funcao()\n",
    "\n",
    "# Acessando a variável global fora da função\n",
    "\n",
    "print(\"Valor da variável global fora da função\", global_variable)"
   ]
  },
  {
   "cell_type": "code",
   "execution_count": 7,
   "metadata": {},
   "outputs": [
    {
     "name": "stdout",
     "output_type": "stream",
     "text": [
      "Python é Fantástico\n",
      "Python é Incrivél\n"
     ]
    }
   ],
   "source": [
    "x = 'Incrivél'\n",
    "\n",
    "def MinhaFuncao():\n",
    "    x = 'Fantástico'\n",
    "    print('Python é ' + x)\n",
    "\n",
    "MinhaFuncao()\n",
    "\n",
    "print('Python é ' + x)"
   ]
  },
  {
   "cell_type": "code",
   "execution_count": 8,
   "metadata": {},
   "outputs": [
    {
     "name": "stdout",
     "output_type": "stream",
     "text": [
      "Valor da variável global dentro da função: 10\n",
      "Valor da variável global fora da função: 20\n"
     ]
    }
   ],
   "source": [
    "# Variável global\n",
    "global_variable = 10\n",
    "\n",
    "def minha_funcao():\n",
    "    # Utilizando a palavra-chave global para acessar a variável global dentro da função\n",
    "    global global_variable\n",
    "    print(\"Valor da variável global dentro da função:\", global_variable)\n",
    "\n",
    "    # Modificando o valor da variável global dentro da função\n",
    "    global_variable = 20\n",
    "\n",
    "# Chamando a função\n",
    "minha_funcao()\n",
    "\n",
    "# Acessando a variável global fora da função\n",
    "print(\"Valor da variável global fora da função:\", global_variable)\n"
   ]
  }
 ],
 "metadata": {
  "kernelspec": {
   "display_name": "Python 3",
   "language": "python",
   "name": "python3"
  },
  "language_info": {
   "codemirror_mode": {
    "name": "ipython",
    "version": 3
   },
   "file_extension": ".py",
   "mimetype": "text/x-python",
   "name": "python",
   "nbconvert_exporter": "python",
   "pygments_lexer": "ipython3",
   "version": "3.9.0"
  }
 },
 "nbformat": 4,
 "nbformat_minor": 2
}
