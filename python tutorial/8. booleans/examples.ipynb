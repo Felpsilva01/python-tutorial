{
 "cells": [
  {
   "cell_type": "code",
   "execution_count": 1,
   "metadata": {},
   "outputs": [
    {
     "name": "stdout",
     "output_type": "stream",
     "text": [
      "True\n",
      "False\n",
      "False\n"
     ]
    }
   ],
   "source": [
    "print(10 > 9)\n",
    "print(10 == 9)\n",
    "print(10 < 9)"
   ]
  },
  {
   "cell_type": "code",
   "execution_count": 3,
   "metadata": {},
   "outputs": [
    {
     "name": "stdout",
     "output_type": "stream",
     "text": [
      "False\n",
      "True\n",
      "False\n"
     ]
    }
   ],
   "source": [
    "a = 5\n",
    "b = 10\n",
    "\n",
    "# Igualdade\n",
    "print(a == b)  # False\n",
    "\n",
    "# Desigualdade\n",
    "print(a != b)  # True\n",
    "\n",
    "# Maior que\n",
    "print(a > b)  # False\n"
   ]
  },
  {
   "cell_type": "code",
   "execution_count": 10,
   "metadata": {},
   "outputs": [
    {
     "name": "stdout",
     "output_type": "stream",
     "text": [
      "Seu primeiro número é 50 e seu segundo é 100\n",
      "O número 100 é maior que 50 \n",
      "A sua diferença é de 50\n",
      "A sua soma é de 150\n"
     ]
    }
   ],
   "source": [
    "num01 = int(input(\"Digite um número inteiro: \"))\n",
    "num02 = int(input('Digute outro número inteiro: '))\n",
    "print('Seu primeiro número é {} e seu segundo é {}' .format(num01, num02))\n",
    "\n",
    "if num01 > num02:\n",
    "    diferença = num01 - num02\n",
    "    print(f\"O número {num01} é maior que {num02} \")\n",
    "    print(f'A sua diferença é de {diferença}')\n",
    "    print(f'A sua soma é de {num01+num02}')\n",
    "\n",
    "else:\n",
    "    diferença = num02 - num01\n",
    "    print(f\"O número {num02} é maior que {num01} \")\n",
    "    print(f'A sua diferença é de {diferença}')\n",
    "    print(f'A sua soma é de {num01+num02}')"
   ]
  },
  {
   "cell_type": "code",
   "execution_count": 13,
   "metadata": {},
   "outputs": [
    {
     "name": "stdout",
     "output_type": "stream",
     "text": [
      "True\n",
      "False\n",
      "True\n",
      "False\n"
     ]
    }
   ],
   "source": [
    "# Avalia a booleanidade da string\n",
    "print(bool(\"Hello\")) #Saída: True\n",
    "print(bool(\"\")) #Saída: False\n",
    "\n",
    "# Avalia a booleanidade do número inteiro\n",
    "print(bool(15)) #Saída: True\n",
    "print(bool(0)) #Saída: False"
   ]
  },
  {
   "cell_type": "code",
   "execution_count": null,
   "metadata": {},
   "outputs": [],
   "source": [
    "# Números vazios\n",
    "print(bool(0))      # False\n",
    "print(bool(0.0))    # False\n",
    "print(bool(0j))     # False (número complexo zero)\n",
    "# Sequências vazias\n",
    "print(bool(\"\"))     # False (string vazia)\n",
    "print(bool([]))     # False (lista vazia)\n",
    "print(bool(()))     # False (tupla vazia)\n",
    "print(bool({}))     # False (dicionário vazio)\n",
    "print(bool(set()))  # False (conjunto vazio)\n",
    "# Valor especial 'None'\n",
    "print(bool(None))   # False\n",
    "# Valor boolean False\n",
    "print(bool(False))  # False\n"
   ]
  }
 ],
 "metadata": {
  "kernelspec": {
   "display_name": "Python 3",
   "language": "python",
   "name": "python3"
  },
  "language_info": {
   "codemirror_mode": {
    "name": "ipython",
    "version": 3
   },
   "file_extension": ".py",
   "mimetype": "text/x-python",
   "name": "python",
   "nbconvert_exporter": "python",
   "pygments_lexer": "ipython3",
   "version": "3.9.0"
  }
 },
 "nbformat": 4,
 "nbformat_minor": 2
}
