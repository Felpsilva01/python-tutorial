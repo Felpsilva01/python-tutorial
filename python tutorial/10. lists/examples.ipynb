{
 "cells": [
  {
   "cell_type": "code",
   "execution_count": 2,
   "metadata": {},
   "outputs": [
    {
     "name": "stdout",
     "output_type": "stream",
     "text": [
      "True\n"
     ]
    }
   ],
   "source": [
    "minha_lista = [1, 2, 3, 'texto', 4.5, True]\n",
    "print(minha_lista[-1])"
   ]
  },
  {
   "cell_type": "code",
   "execution_count": 4,
   "metadata": {},
   "outputs": [
    {
     "name": "stdout",
     "output_type": "stream",
     "text": [
      "1 2 True\n"
     ]
    }
   ],
   "source": [
    "primeiro_elemento = minha_lista[0]\n",
    "segundo_elemento = minha_lista[1]\n",
    "ultimo_elemento = minha_lista[-1]  # Último elemento\n",
    "\n",
    "print(primeiro_elemento, segundo_elemento, ultimo_elemento)"
   ]
  },
  {
   "cell_type": "code",
   "execution_count": 7,
   "metadata": {},
   "outputs": [
    {
     "name": "stdout",
     "output_type": "stream",
     "text": [
      "5 5\n"
     ]
    }
   ],
   "source": [
    "lista_numeros_iguais = [5, 5, 5, 4, 4]\n",
    "print(lista_numeros_iguais[0], lista_numeros_iguais[2])\n"
   ]
  },
  {
   "cell_type": "code",
   "execution_count": 8,
   "metadata": {},
   "outputs": [
    {
     "name": "stdout",
     "output_type": "stream",
     "text": [
      "olá olá oi\n"
     ]
    }
   ],
   "source": [
    "lista_strings_iguais = ['olá', 'olá', 'olá', 'oi', 'oi']\n",
    "print(lista_strings_iguais[0], lista_strings_iguais[2], lista_strings_iguais[-1])"
   ]
  },
  {
   "cell_type": "code",
   "execution_count": 9,
   "metadata": {},
   "outputs": [
    {
     "name": "stdout",
     "output_type": "stream",
     "text": [
      "['hello', 'hello', 42, 42, True, True]\n"
     ]
    }
   ],
   "source": [
    "lista_mista_iguais = ['hello', 'hello', 42, 42, True, True]\n",
    "print(lista_mista_iguais)"
   ]
  },
  {
   "cell_type": "code",
   "execution_count": 10,
   "metadata": {},
   "outputs": [
    {
     "name": "stdout",
     "output_type": "stream",
     "text": [
      "A minha lista tem um total de 6 itens\n",
      "Esses itens são:\n",
      "1\n",
      "2\n",
      "3\n",
      "texto\n",
      "4.5\n",
      "True\n"
     ]
    }
   ],
   "source": [
    "print(f\"A minha lista tem um total de {len(minha_lista)} itens\\nEsses itens são:\")\n",
    "for itens in minha_lista:\n",
    "    print(itens)"
   ]
  },
  {
   "cell_type": "code",
   "execution_count": 12,
   "metadata": {},
   "outputs": [
    {
     "name": "stdout",
     "output_type": "stream",
     "text": [
      "<class 'list'>\n"
     ]
    }
   ],
   "source": [
    "mylist = [\"apple\", \"banana\", \"cherry\"]\n",
    "print(type(mylist))"
   ]
  },
  {
   "cell_type": "code",
   "execution_count": 14,
   "metadata": {},
   "outputs": [
    {
     "name": "stdout",
     "output_type": "stream",
     "text": [
      "(1, 2, 3) [1, 2, 3]\n"
     ]
    }
   ],
   "source": [
    "minha_tupla = (1,2,3)\n",
    "lista_convertida = list(minha_tupla)\n",
    "print(minha_tupla, lista_convertida)"
   ]
  },
  {
   "cell_type": "code",
   "execution_count": 17,
   "metadata": {},
   "outputs": [
    {
     "name": "stdout",
     "output_type": "stream",
     "text": [
      "['a', 'b', 'c', 'a', 'b', 'c', 'a', 'b', 'c']\n"
     ]
    }
   ],
   "source": [
    "valores_repetidos = list(\"abc\" * 3)\n",
    "print(valores_repetidos)\n",
    "# Saída: ['a', 'b', 'c', 'a', 'b', 'c', 'a', 'b', 'c']\n"
   ]
  },
  {
   "cell_type": "code",
   "execution_count": 9,
   "metadata": {},
   "outputs": [],
   "source": [
    "minha_lista.sort()\n"
   ]
  }
 ],
 "metadata": {
  "kernelspec": {
   "display_name": "Python 3",
   "language": "python",
   "name": "python3"
  },
  "language_info": {
   "codemirror_mode": {
    "name": "ipython",
    "version": 3
   },
   "file_extension": ".py",
   "mimetype": "text/x-python",
   "name": "python",
   "nbconvert_exporter": "python",
   "pygments_lexer": "ipython3",
   "version": "3.9.0"
  }
 },
 "nbformat": 4,
 "nbformat_minor": 2
}
