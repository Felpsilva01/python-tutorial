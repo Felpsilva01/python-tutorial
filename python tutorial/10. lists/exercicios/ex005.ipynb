{
 "cells": [
  {
   "cell_type": "markdown",
   "metadata": {},
   "source": [
    "Dada a lista [10, 20, 30, 40, 50], remova o elemento 30 e imprima a lista resultante.\n",
    "\n"
   ]
  },
  {
   "cell_type": "code",
   "execution_count": 5,
   "metadata": {},
   "outputs": [
    {
     "name": "stdout",
     "output_type": "stream",
     "text": [
      "Essa é a lista original [10, 20, 40, 50]\n",
      "Esta é a lista alterada None\n"
     ]
    }
   ],
   "source": [
    "lista = [10,20,30,40,50]\n",
    "elemento_remove = 30\n",
    "listaNova = lista.remove(elemento_remove)\n",
    "print(f\"Essa é a lista original {lista}\\nEsta é a lista alterada {listaNova}\")"
   ]
  },
  {
   "cell_type": "code",
   "execution_count": 6,
   "metadata": {},
   "outputs": [
    {
     "name": "stdout",
     "output_type": "stream",
     "text": [
      "Elemento 30 removido. Lista resultante: [10, 20, 40, 50]\n"
     ]
    }
   ],
   "source": [
    "# Exercício 5: Remoção de Elementos (Maneira 1)\n",
    "lista_numeros = [10, 20, 30, 40, 50]\n",
    "elemento_a_remover = 30\n",
    "\n",
    "if elemento_a_remover in lista_numeros:\n",
    "    lista_numeros.remove(elemento_a_remover)\n",
    "    print(f\"Elemento {elemento_a_remover} removido. Lista resultante: {lista_numeros}\")\n",
    "else:\n",
    "    print(f\"Elemento {elemento_a_remover} não encontrado na lista.\")\n"
   ]
  }
 ],
 "metadata": {
  "kernelspec": {
   "display_name": "Python 3",
   "language": "python",
   "name": "python3"
  },
  "language_info": {
   "codemirror_mode": {
    "name": "ipython",
    "version": 3
   },
   "file_extension": ".py",
   "mimetype": "text/x-python",
   "name": "python",
   "nbconvert_exporter": "python",
   "pygments_lexer": "ipython3",
   "version": "3.9.0"
  }
 },
 "nbformat": 4,
 "nbformat_minor": 2
}
