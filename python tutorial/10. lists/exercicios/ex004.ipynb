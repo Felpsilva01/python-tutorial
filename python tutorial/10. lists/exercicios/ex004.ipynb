{
 "cells": [
  {
   "cell_type": "markdown",
   "metadata": {},
   "source": [
    "Crie uma lista que contenha cinco palavras e, em seguida, imprima cada palavra em uma linha separada.\n",
    "\n"
   ]
  },
  {
   "cell_type": "code",
   "execution_count": 1,
   "metadata": {},
   "outputs": [
    {
     "name": "stdout",
     "output_type": "stream",
     "text": [
      "Python\n",
      "Programação\n",
      "Lista\n",
      "Exercicios\n",
      "Prática\n"
     ]
    }
   ],
   "source": [
    "lista_palavras = [\"Python\", \"Programação\", \"Lista\", \"Exercicios\", \"Prática\"]\n",
    "for palavra in lista_palavras:\n",
    "    print(palavra)"
   ]
  },
  {
   "cell_type": "markdown",
   "metadata": {},
   "source": [
    "Aqui, temos uma lista de palavras e usamos um loop for para imprimir cada palavra em uma linha separada.\n",
    "\n"
   ]
  },
  {
   "cell_type": "code",
   "execution_count": 3,
   "metadata": {},
   "outputs": [
    {
     "name": "stdout",
     "output_type": "stream",
     "text": [
      "Python\n",
      "Programação\n",
      "Lista\n",
      "Exercicios\n",
      "Prática\n"
     ]
    }
   ],
   "source": [
    "lista_palavras = [\"Python\", \"Programação\", \"Lista\", \"Exercicios\", \"Prática\"]\n",
    "print('\\n'.join(lista_palavras))"
   ]
  },
  {
   "cell_type": "markdown",
   "metadata": {},
   "source": [
    "Neste caso, '\\n'.join(lista_palavras) cria uma string onde as palavras são concatenadas usando a quebra de linha ('\\n') como separador. Então, ao imprimir essa string, as palavras são exibidas em linhas separadas.\n",
    "\n",
    "\n",
    "\n",
    "\n",
    "\n"
   ]
  }
 ],
 "metadata": {
  "kernelspec": {
   "display_name": "Python 3",
   "language": "python",
   "name": "python3"
  },
  "language_info": {
   "codemirror_mode": {
    "name": "ipython",
    "version": 3
   },
   "file_extension": ".py",
   "mimetype": "text/x-python",
   "name": "python",
   "nbconvert_exporter": "python",
   "pygments_lexer": "ipython3",
   "version": "3.9.0"
  }
 },
 "nbformat": 4,
 "nbformat_minor": 2
}
