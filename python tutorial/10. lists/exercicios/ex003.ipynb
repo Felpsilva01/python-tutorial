{
 "cells": [
  {
   "cell_type": "markdown",
   "metadata": {},
   "source": [
    "Inverta a ordem dos elementos na lista [1, 2, 3, 4, 5] e imprima a lista resultante."
   ]
  },
  {
   "cell_type": "code",
   "execution_count": 1,
   "metadata": {},
   "outputs": [
    {
     "name": "stdout",
     "output_type": "stream",
     "text": [
      "[5, 4, 3, 2, 1]\n"
     ]
    }
   ],
   "source": [
    "lista_ordenada = [1,2,3,4,5]\n",
    "lista_aoContrario = lista_ordenada[::-1]\n",
    "print(lista_aoContrario)"
   ]
  },
  {
   "cell_type": "code",
   "execution_count": 2,
   "metadata": {},
   "outputs": [
    {
     "name": "stdout",
     "output_type": "stream",
     "text": [
      "Lista original: [1, 2, 3, 4, 5]\n",
      "Lista invertida: [5, 4, 3, 2, 1]\n"
     ]
    }
   ],
   "source": [
    "lista_ordenada = [1,2,3,4,5]\n",
    "lista_invertida = list(reversed(lista_ordenada))\n",
    "print(f\"Lista original: {lista_ordenada}\\nLista invertida: {lista_invertida}\")"
   ]
  },
  {
   "cell_type": "markdown",
   "metadata": {},
   "source": [
    "Neste exercício, usamos a função reversed() para inverter a ordem dos elementos na lista original. A função reversed() retorna um objeto reverso, que é convertido de volta para uma lista usando list().\n",
    "\n"
   ]
  }
 ],
 "metadata": {
  "kernelspec": {
   "display_name": "Python 3",
   "language": "python",
   "name": "python3"
  },
  "language_info": {
   "codemirror_mode": {
    "name": "ipython",
    "version": 3
   },
   "file_extension": ".py",
   "mimetype": "text/x-python",
   "name": "python",
   "nbconvert_exporter": "python",
   "pygments_lexer": "ipython3",
   "version": "3.9.0"
  }
 },
 "nbformat": 4,
 "nbformat_minor": 2
}
