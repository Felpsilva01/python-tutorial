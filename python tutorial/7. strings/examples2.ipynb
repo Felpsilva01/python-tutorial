{
 "cells": [
  {
   "cell_type": "code",
   "execution_count": 2,
   "metadata": {},
   "outputs": [
    {
     "name": "stdout",
     "output_type": "stream",
     "text": [
      "Não é o rosto que faz de alguém um monstro, são as escolhas que elas fazem para as suas vidas.\n",
      "NÃO É O ROSTO QUE FAZ DE ALGUÉM UM MONSTRO, SÃO AS ESCOLHAS QUE ELAS FAZEM PARA AS SUAS VIDAS.\n"
     ]
    }
   ],
   "source": [
    "frase = \"Não é o rosto que faz de alguém um monstro, são as escolhas que elas fazem para as suas vidas.\"\n",
    "print(frase)\n",
    "\n",
    "frase_maiuscula = frase.upper()\n",
    "\n",
    "print(frase_maiuscula)"
   ]
  },
  {
   "cell_type": "code",
   "execution_count": 6,
   "metadata": {},
   "outputs": [
    {
     "name": "stdout",
     "output_type": "stream",
     "text": [
      "não é o rosto que faz de alguém um monstro, são as escolhas que elas fazem para as suas vidas.\n"
     ]
    }
   ],
   "source": [
    "frase_minuscula = frase_maiuscula.lower()\n",
    "\n",
    "print(frase_minuscula)\n"
   ]
  },
  {
   "cell_type": "code",
   "execution_count": 8,
   "metadata": {},
   "outputs": [
    {
     "name": "stdout",
     "output_type": "stream",
     "text": [
      " Se você não gosta do seu destino, não o aceite. Em vez disso, tenha a coragem de mudá-lo do jeito que você quer que ele seja. \n",
      "Se você não gosta do seu destino, não o aceite. Em vez disso, tenha a coragem de mudá-lo do jeito que você quer que ele seja.\n"
     ]
    }
   ],
   "source": [
    "frase = \" Se você não gosta do seu destino, não o aceite. Em vez disso, tenha a coragem de mudá-lo do jeito que você quer que ele seja. \"\n",
    "print(frase)\n",
    "\n",
    "no_space_frase = frase.strip()\n",
    "\n",
    "print(no_space_frase)"
   ]
  },
  {
   "cell_type": "code",
   "execution_count": 13,
   "metadata": {},
   "outputs": [
    {
     "name": "stdout",
     "output_type": "stream",
     "text": [
      "As bananas que uma pessoa tem quando ama alguém, nunca vão deixar que seus corações se tornem negros!\n",
      "Os sentimentos que uma pessoa tem quando ama alguém, nunca vão deixar que seus corações se tornem maus!\n"
     ]
    }
   ],
   "source": [
    "frase = \"Os sentimentos que uma pessoa tem quando ama alguém, nunca vão deixar que seus corações se tornem negros!\"\n",
    "print(frase.replace(\"Os sentimentos\", \"As bananas\"))\n",
    "\n",
    "nova_frase = frase.replace(\"negros\", \"maus\")\n",
    "print(nova_frase)"
   ]
  },
  {
   "cell_type": "code",
   "execution_count": 18,
   "metadata": {},
   "outputs": [
    {
     "name": "stdout",
     "output_type": "stream",
     "text": [
      "Quando eu não tinha nada nem ninguém, eu tinha a dor.\n",
      "['Quando', 'eu', 'não', 'tinha', 'nada', 'nem', 'ninguém,', 'eu', 'tinha', 'a', 'dor.']\n",
      "['Quando eu não tinha nada nem ninguém', ' eu tinha a dor.']\n"
     ]
    }
   ],
   "source": [
    "frase = \"Quando eu não tinha nada nem ninguém, eu tinha a dor.\"\n",
    "print(frase)\n",
    "\n",
    "print(frase.split())\n",
    "\n",
    "print(frase.split(','))\n"
   ]
  },
  {
   "cell_type": "code",
   "execution_count": 24,
   "metadata": {},
   "outputs": [
    {
     "name": "stdout",
     "output_type": "stream",
     "text": [
      "2\n"
     ]
    }
   ],
   "source": [
    "frase = \"Olá, olá, olá, mundo!\"\n",
    "contagem = frase.count(\"olá\")\n",
    "\n",
    "print(contagem)\n",
    "# Saída: 2\n"
   ]
  },
  {
   "cell_type": "code",
   "execution_count": 27,
   "metadata": {},
   "outputs": [
    {
     "name": "stdout",
     "output_type": "stream",
     "text": [
      "Olá, meu nome é Felipe e tenho atualmente 22 anos\n",
      "Olá, meu nome é Felipe e tenho atualmente 22 anos\n"
     ]
    }
   ],
   "source": [
    "nome = \"Felipe\"\n",
    "idade = 22\n",
    "\n",
    "print(\"Olá, meu nome é {} e tenho atualmente {} anos\" .format(nome, idade))\n",
    "\n",
    "print(f'Olá, meu nome é {nome} e tenho atualmente {idade} anos')"
   ]
  },
  {
   "cell_type": "code",
   "execution_count": 32,
   "metadata": {},
   "outputs": [
    {
     "name": "stdout",
     "output_type": "stream",
     "text": [
      "Unicode: Ω\n"
     ]
    }
   ],
   "source": [
    "print(\"Unicode: \\u03A9\")  # Exemplo: Letra grega maiúscula Omega\n"
   ]
  }
 ],
 "metadata": {
  "kernelspec": {
   "display_name": "Python 3",
   "language": "python",
   "name": "python3"
  },
  "language_info": {
   "codemirror_mode": {
    "name": "ipython",
    "version": 3
   },
   "file_extension": ".py",
   "mimetype": "text/x-python",
   "name": "python",
   "nbconvert_exporter": "python",
   "pygments_lexer": "ipython3",
   "version": "3.9.0"
  }
 },
 "nbformat": 4,
 "nbformat_minor": 2
}
