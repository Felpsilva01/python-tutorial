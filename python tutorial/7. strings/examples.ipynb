{
 "cells": [
  {
   "cell_type": "code",
   "execution_count": 2,
   "metadata": {},
   "outputs": [
    {
     "name": "stdout",
     "output_type": "stream",
     "text": [
      "Aqueles que estão no topo determinam o que está errado e o que está certo! \n",
      "Este lugar é muito neutro!\n",
      "Você acha que a justiça vai prevalecer?\n",
      "Mas é claro que vai!\n",
      "Quem vencer esta guerra vai se tornar a justiça! \n"
     ]
    }
   ],
   "source": [
    "a = \"\"\"Aqueles que estão no topo determinam o que está errado e o que está certo! \n",
    "Este lugar é muito neutro!\n",
    "Você acha que a justiça vai prevalecer?\n",
    "Mas é claro que vai!\n",
    "Quem vencer esta guerra vai se tornar a justiça! \"\"\"\n",
    "print (a)"
   ]
  },
  {
   "cell_type": "code",
   "execution_count": 2,
   "metadata": {},
   "outputs": [
    {
     "name": "stdout",
     "output_type": "stream",
     "text": [
      "S\n",
      "e\n",
      "r\n",
      " \n",
      "f\n",
      "e\n",
      "l\n",
      "i\n",
      "z\n",
      " \n",
      "s\n",
      "e\n",
      "m\n",
      " \n",
      "m\n",
      "o\n",
      "t\n",
      "i\n",
      "v\n",
      "o\n",
      " \n",
      "é\n",
      " \n",
      "a\n",
      " \n",
      "m\n",
      "a\n",
      "i\n",
      "s\n",
      " \n",
      "a\n",
      "u\n",
      "t\n",
      "ê\n",
      "n\n",
      "t\n",
      "i\n",
      "c\n",
      "a\n",
      " \n",
      "f\n",
      "o\n",
      "r\n",
      "m\n",
      "a\n",
      " \n",
      "d\n",
      "e\n",
      " \n",
      "f\n",
      "e\n",
      "l\n",
      "i\n",
      "c\n",
      "i\n",
      "d\n",
      "a\n",
      "d\n",
      "e\n",
      ".\n"
     ]
    }
   ],
   "source": [
    "minha_string = \"Ser feliz sem motivo é a mais autêntica forma de felicidade.\"\n",
    "\n",
    "for caractere in minha_string:\n",
    "    print(caractere)\n"
   ]
  },
  {
   "cell_type": "code",
   "execution_count": 3,
   "metadata": {},
   "outputs": [
    {
     "name": "stdout",
     "output_type": "stream",
     "text": [
      "É bem difícil descobrir o que gera a felicidade; pobreza e riqueza falharam nisso.\n",
      "82\n"
     ]
    }
   ],
   "source": [
    "elbert = \"É bem difícil descobrir o que gera a felicidade; pobreza e riqueza falharam nisso.\"\n",
    "print(elbert)\n",
    "print(len(elbert))\n"
   ]
  },
  {
   "cell_type": "code",
   "execution_count": 5,
   "metadata": {},
   "outputs": [
    {
     "name": "stdout",
     "output_type": "stream",
     "text": [
      "Sim, \"ama\" está presente na frase\n"
     ]
    }
   ],
   "source": [
    "frase = \"Quando você ama, há o risco de odiar.\"\n",
    "\n",
    "if \"ama\" in frase:\n",
    "    print('Sim, \"ama\" está presente na frase')"
   ]
  },
  {
   "cell_type": "code",
   "execution_count": 6,
   "metadata": {},
   "outputs": [
    {
     "name": "stdout",
     "output_type": "stream",
     "text": [
      "ódio não está presente nessa frase!\n"
     ]
    }
   ],
   "source": [
    "frase = \"\"\"Uma vez me disseram que o lugar em que alguém está pensando em você\n",
    "é o lugar para onde você deve voltar.\"\"\"\n",
    "\n",
    "if \"ódio\" not in frase:\n",
    "    print('ódio não está presente nessa frase!')"
   ]
  },
  {
   "cell_type": "code",
   "execution_count": 1,
   "metadata": {},
   "outputs": [
    {
     "name": "stdout",
     "output_type": "stream",
     "text": [
      "Trabalho duro é inútil para aqueles que não acreditam em si mesmos\n",
      "Trabalho duro \n"
     ]
    }
   ],
   "source": [
    "frase = \"Trabalho duro é inútil para aqueles que não acreditam em si mesmos\"\n",
    "\n",
    "print(frase)\n",
    "\n",
    "sub_frase = frase[0:14]\n",
    "print(sub_frase)"
   ]
  },
  {
   "cell_type": "code",
   "execution_count": 2,
   "metadata": {},
   "outputs": [
    {
     "name": "stdout",
     "output_type": "stream",
     "text": [
      "Trabalho duro é inútil para aqueles que não acreditam em si mesmos\n",
      "Taah uoéiúi aaaulsqenoardtme imso\n"
     ]
    }
   ],
   "source": [
    "frase = \"Trabalho duro é inútil para aqueles que não acreditam em si mesmos\"\n",
    "\n",
    "print(frase)\n",
    "\n",
    "sub_frase = frase[::2]\n",
    "print(sub_frase)"
   ]
  },
  {
   "cell_type": "code",
   "execution_count": 6,
   "metadata": {},
   "outputs": [
    {
     "name": "stdout",
     "output_type": "stream",
     "text": [
      "Trabalho duro é inútil para aqueles que não acreditam em si mesmos\n",
      "somsem is me matiderca oãn euq seleuqa arap litúni é orud ohlabarT\n"
     ]
    }
   ],
   "source": [
    "frase = \"Trabalho duro é inútil para aqueles que não acreditam em si mesmos\"\n",
    "\n",
    "print(frase)\n",
    "\n",
    "sub_frase = frase[::-1]\n",
    "print(sub_frase)"
   ]
  }
 ],
 "metadata": {
  "kernelspec": {
   "display_name": "Python 3",
   "language": "python",
   "name": "python3"
  },
  "language_info": {
   "codemirror_mode": {
    "name": "ipython",
    "version": 3
   },
   "file_extension": ".py",
   "mimetype": "text/x-python",
   "name": "python",
   "nbconvert_exporter": "python",
   "pygments_lexer": "ipython3",
   "version": "3.9.0"
  }
 },
 "nbformat": 4,
 "nbformat_minor": 2
}
