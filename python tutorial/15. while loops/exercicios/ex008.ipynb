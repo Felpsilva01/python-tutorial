{
 "cells": [
  {
   "cell_type": "code",
   "execution_count": null,
   "metadata": {},
   "outputs": [],
   "source": [
    "'''\n",
    "Exercício 5: Média de Notas\n",
    "Peça ao usuário para inserir suas notas. Continue pedindo notas até que o usuário \n",
    "insira um valor negativo. Em seguida, calcule e imprima a média das notas inseridas.\n",
    "'''"
   ]
  },
  {
   "cell_type": "code",
   "execution_count": 1,
   "metadata": {},
   "outputs": [
    {
     "name": "stdout",
     "output_type": "stream",
     "text": [
      "[10, 10, 5, 9, 2]\n",
      "Você declarou 5 notas, sua média é 7.2\n"
     ]
    }
   ],
   "source": [
    "somaNota = i = 0\n",
    "listaNotas = []\n",
    "while True:\n",
    "    nota = int(input(\"Insira sua nota (nota negativa interrompe): \"))\n",
    "    if nota < 0:\n",
    "        break\n",
    "    i += 1\n",
    "    somaNota += nota\n",
    "    listaNotas.append(nota)\n",
    "print(listaNotas)\n",
    "media = somaNota / i\n",
    "print(f\"Você declarou {i} notas, sua média é {media}\")"
   ]
  }
 ],
 "metadata": {
  "kernelspec": {
   "display_name": "Python 3",
   "language": "python",
   "name": "python3"
  },
  "language_info": {
   "codemirror_mode": {
    "name": "ipython",
    "version": 3
   },
   "file_extension": ".py",
   "mimetype": "text/x-python",
   "name": "python",
   "nbconvert_exporter": "python",
   "pygments_lexer": "ipython3",
   "version": "3.9.0"
  }
 },
 "nbformat": 4,
 "nbformat_minor": 2
}
