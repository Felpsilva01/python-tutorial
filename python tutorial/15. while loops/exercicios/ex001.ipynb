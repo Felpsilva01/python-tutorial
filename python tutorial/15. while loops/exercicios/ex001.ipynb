{
 "cells": [
  {
   "cell_type": "code",
   "execution_count": null,
   "metadata": {},
   "outputs": [],
   "source": [
    "'''\n",
    "Escreva um programa que solicite ao usuário um número inteiro positivo e, em seguida, use um while loop para fazer uma contagem regressiva desse número até 0. Exiba cada número durante a contagem.\n",
    "\n",
    "'''"
   ]
  },
  {
   "cell_type": "code",
   "execution_count": 4,
   "metadata": {},
   "outputs": [
    {
     "name": "stdout",
     "output_type": "stream",
     "text": [
      "5\n",
      "4\n",
      "3\n",
      "2\n",
      "1\n",
      "Contagem regressiva concluida!\n"
     ]
    }
   ],
   "source": [
    "from time import sleep\n",
    "numUsuario = int(input(\"Digite um numero inteio: \"))\n",
    "\n",
    "while numUsuario > 0:\n",
    "    print(numUsuario)\n",
    "    sleep(0.75)\n",
    "    numUsuario -= 1\n",
    "\n",
    "print(\"Contagem regressiva concluida!\")"
   ]
  }
 ],
 "metadata": {
  "kernelspec": {
   "display_name": "Python 3",
   "language": "python",
   "name": "python3"
  },
  "language_info": {
   "codemirror_mode": {
    "name": "ipython",
    "version": 3
   },
   "file_extension": ".py",
   "mimetype": "text/x-python",
   "name": "python",
   "nbconvert_exporter": "python",
   "pygments_lexer": "ipython3",
   "version": "3.9.0"
  }
 },
 "nbformat": 4,
 "nbformat_minor": 2
}
