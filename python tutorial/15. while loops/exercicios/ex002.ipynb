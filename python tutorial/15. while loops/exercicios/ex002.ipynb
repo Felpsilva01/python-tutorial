{
 "cells": [
  {
   "cell_type": "code",
   "execution_count": null,
   "metadata": {},
   "outputs": [],
   "source": [
    "'''\n",
    "Exercício 2: Soma de Números Pares\n",
    "\n",
    "Escreva um programa que solicite ao usuário um número inteiro positivo e use um while loop para calcular a soma dos números pares de 1 até o número fornecido.\n",
    "\n",
    "'''"
   ]
  },
  {
   "cell_type": "code",
   "execution_count": 3,
   "metadata": {},
   "outputs": [
    {
     "name": "stdout",
     "output_type": "stream",
     "text": [
      "A soma dos números pares de 1 a 100 é: 2550\n"
     ]
    }
   ],
   "source": [
    "numUsuario = int(input(\"Digite um numero inteiro: \"))\n",
    "soma = 0\n",
    "contador = 1\n",
    "\n",
    "while contador <= numUsuario:\n",
    "    if contador % 2 == 0:\n",
    "        soma += contador\n",
    "    contador += 1\n",
    "print(f\"A soma dos números pares de 1 a {numUsuario} é: {soma}\")\n"
   ]
  }
 ],
 "metadata": {
  "kernelspec": {
   "display_name": "Python 3",
   "language": "python",
   "name": "python3"
  },
  "language_info": {
   "codemirror_mode": {
    "name": "ipython",
    "version": 3
   },
   "file_extension": ".py",
   "mimetype": "text/x-python",
   "name": "python",
   "nbconvert_exporter": "python",
   "pygments_lexer": "ipython3",
   "version": "3.9.0"
  }
 },
 "nbformat": 4,
 "nbformat_minor": 2
}
