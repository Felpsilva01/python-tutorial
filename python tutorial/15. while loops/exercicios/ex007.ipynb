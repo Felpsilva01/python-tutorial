{
 "cells": [
  {
   "cell_type": "code",
   "execution_count": null,
   "metadata": {},
   "outputs": [],
   "source": [
    "'''\n",
    "Exercício 4: Tabuada\n",
    "Solicite ao usuário um número e imprima a tabuada desse número usando um loop while. \n",
    "A tabuada deve ir de 1 a 10.\n",
    "'''"
   ]
  },
  {
   "cell_type": "code",
   "execution_count": null,
   "metadata": {},
   "outputs": [],
   "source": [
    "numTabuada = int(input(\"Digite o numero para tabuada: \"))\n",
    "i = 1\n",
    "while True:\n",
    "    if i == 11:\n",
    "        break\n",
    "    if i < 10:\n",
    "        print(f\"0{i} x {numTabuada} = {i*numTabuada}\")\n",
    "    elif i == 10:\n",
    "        print(f\"{i} x {numTabuada} = {i*numTabuada}\")\n",
    "    i += 1"
   ]
  },
  {
   "cell_type": "code",
   "execution_count": 3,
   "metadata": {},
   "outputs": [
    {
     "name": "stdout",
     "output_type": "stream",
     "text": [
      "01 x 10 = 10\n",
      "02 x 10 = 20\n",
      "03 x 10 = 30\n",
      "04 x 10 = 40\n",
      "05 x 10 = 50\n",
      "06 x 10 = 60\n",
      "07 x 10 = 70\n",
      "08 x 10 = 80\n",
      "09 x 10 = 90\n",
      "10 x 10 = 100\n"
     ]
    }
   ],
   "source": [
    "numTabuada = int(input(\"Digite o número para a tabuada: \"))\n",
    "i = 1\n",
    "\n",
    "while i <= 10:\n",
    "    resultado = numTabuada * i\n",
    "    print(f\"{i:02d} x {numTabuada} = {resultado}\")\n",
    "    i += 1\n"
   ]
  }
 ],
 "metadata": {
  "kernelspec": {
   "display_name": "Python 3",
   "language": "python",
   "name": "python3"
  },
  "language_info": {
   "codemirror_mode": {
    "name": "ipython",
    "version": 3
   },
   "file_extension": ".py",
   "mimetype": "text/x-python",
   "name": "python",
   "nbconvert_exporter": "python",
   "pygments_lexer": "ipython3",
   "version": "3.9.0"
  }
 },
 "nbformat": 4,
 "nbformat_minor": 2
}
