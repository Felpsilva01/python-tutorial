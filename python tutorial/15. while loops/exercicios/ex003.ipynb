{
 "cells": [
  {
   "cell_type": "code",
   "execution_count": null,
   "metadata": {},
   "outputs": [],
   "source": [
    "'''\n",
    "Exercício 3: Adivinhação de Número\n",
    "\n",
    "Crie um jogo em que o programa escolhe um número aleatório entre 1 e 100, e o usuário tenta adivinhar o número. \n",
    "O programa deve fornecer dicas se o número fornecido pelo usuário é muito alto ou muito baixo. \n",
    "Use um while loop para permitir que o usuário continue adivinhando até acertar.\n",
    "'''"
   ]
  },
  {
   "cell_type": "code",
   "execution_count": 3,
   "metadata": {},
   "outputs": [
    {
     "name": "stdout",
     "output_type": "stream",
     "text": [
      "Tente um numero maior\n",
      "Tente um numero maior\n",
      "Tente um numero maior\n",
      "Tente um numero maior\n",
      "Tente um numero maior\n",
      "Tente um numero maior\n",
      "Tente um numero menor\n",
      "Tente um numero maior\n",
      "Tente um numero menor\n",
      "Tente um numero menor\n",
      "Tente um numero menor\n",
      "Tente um numero maior\n",
      "Parabéns! Você acertou o numero com 13 tentativas\n"
     ]
    }
   ],
   "source": [
    "import random\n",
    "\n",
    "numeroSecreto = random.randint(1, 100)\n",
    "tentativas = 0\n",
    "\n",
    "while True:\n",
    "    palpite = int(input(\"Tente adivinhar o numero entre 1 e 100: \"))\n",
    "    tentativas += 1\n",
    "\n",
    "    if palpite == numeroSecreto:\n",
    "        print(f\"Parabéns! Você acertou o numero com {tentativas} tentativas\")\n",
    "        break\n",
    "    elif palpite < numeroSecreto:\n",
    "        print(\"Tente um numero maior\")\n",
    "    else:\n",
    "        print(\"Tente um numero menor\")"
   ]
  }
 ],
 "metadata": {
  "kernelspec": {
   "display_name": "Python 3",
   "language": "python",
   "name": "python3"
  },
  "language_info": {
   "codemirror_mode": {
    "name": "ipython",
    "version": 3
   },
   "file_extension": ".py",
   "mimetype": "text/x-python",
   "name": "python",
   "nbconvert_exporter": "python",
   "pygments_lexer": "ipython3",
   "version": "3.9.0"
  }
 },
 "nbformat": 4,
 "nbformat_minor": 2
}
