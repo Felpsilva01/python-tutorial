{
 "cells": [
  {
   "cell_type": "code",
   "execution_count": null,
   "metadata": {},
   "outputs": [],
   "source": [
    "'''\n",
    "Exercício 2: Soma dos Números Pares\n",
    "Solicite ao usuário um número inteiro positivo. Em seguida, use um loop while para calcular a soma dos números pares de 2 até o número fornecido pelo usuário.'''"
   ]
  },
  {
   "cell_type": "code",
   "execution_count": 3,
   "metadata": {},
   "outputs": [
    {
     "name": "stdout",
     "output_type": "stream",
     "text": [
      "A soma dos numeros pares até 20(excluso) é 90\n"
     ]
    }
   ],
   "source": [
    "numeroUsuario = int(input(\"Digite um numero inteiro positivo\"))\n",
    "soma = i = 0\n",
    "\n",
    "while True:\n",
    "    if i == numeroUsuario:\n",
    "        break\n",
    "    if i % 2 == 1:\n",
    "        i += 1\n",
    "        continue\n",
    "    soma += i\n",
    "    i += 1\n",
    "print(f\"A soma dos numeros pares até {numeroUsuario}(excluso) é {soma}\")"
   ]
  }
 ],
 "metadata": {
  "kernelspec": {
   "display_name": "Python 3",
   "language": "python",
   "name": "python3"
  },
  "language_info": {
   "codemirror_mode": {
    "name": "ipython",
    "version": 3
   },
   "file_extension": ".py",
   "mimetype": "text/x-python",
   "name": "python",
   "nbconvert_exporter": "python",
   "pygments_lexer": "ipython3",
   "version": "3.9.0"
  }
 },
 "nbformat": 4,
 "nbformat_minor": 2
}
