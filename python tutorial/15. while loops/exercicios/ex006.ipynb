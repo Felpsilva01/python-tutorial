{
 "cells": [
  {
   "cell_type": "code",
   "execution_count": null,
   "metadata": {},
   "outputs": [],
   "source": [
    "'''\n",
    "Exercício 3: Adivinhação de Número\n",
    "Crie um programa que gera um número aleatório entre 1 e 10 e pede ao usuário \n",
    "para adivinhar o número. O programa deve continuar pedindo até que o usuário adivinhe corretamente.'''"
   ]
  },
  {
   "cell_type": "code",
   "execution_count": 2,
   "metadata": {},
   "outputs": [
    {
     "name": "stdout",
     "output_type": "stream",
     "text": [
      "Numero secreto é menor\n",
      "Acertou!\n"
     ]
    }
   ],
   "source": [
    "import random\n",
    "numSecreto = random.randint(1, 10)\n",
    "#print(numSecreto)\n",
    "escolha = int(input(\"Digite um numero entre 1 e 10\"))\n",
    "while escolha != numSecreto:\n",
    "    if escolha > numSecreto:\n",
    "        print(\"Numero secreto é menor\")\n",
    "    elif escolha < numSecreto:\n",
    "        print(\"Numero secreto é maior\")\n",
    "    escolha = int(input(\"Digite um numero entre 1 e 10\"))\n",
    "print(\"Acertou!\")\n"
   ]
  }
 ],
 "metadata": {
  "kernelspec": {
   "display_name": "Python 3",
   "language": "python",
   "name": "python3"
  },
  "language_info": {
   "codemirror_mode": {
    "name": "ipython",
    "version": 3
   },
   "file_extension": ".py",
   "mimetype": "text/x-python",
   "name": "python",
   "nbconvert_exporter": "python",
   "pygments_lexer": "ipython3",
   "version": "3.9.0"
  }
 },
 "nbformat": 4,
 "nbformat_minor": 2
}
