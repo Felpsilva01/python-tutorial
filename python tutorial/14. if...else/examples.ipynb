{
 "cells": [
  {
   "cell_type": "code",
   "execution_count": 1,
   "metadata": {},
   "outputs": [
    {
     "name": "stdout",
     "output_type": "stream",
     "text": [
      "Você é maior de idade!\n"
     ]
    }
   ],
   "source": [
    "idade = 18\n",
    "\n",
    "if idade >= 18:\n",
    "    print(\"Você é maior de idade!\")"
   ]
  },
  {
   "cell_type": "code",
   "execution_count": 2,
   "metadata": {},
   "outputs": [
    {
     "name": "stdout",
     "output_type": "stream",
     "text": [
      "Faltam 3 anos para você se tornar maior de idade!\n"
     ]
    }
   ],
   "source": [
    "idade = 15\n",
    "\n",
    "if idade >= 18:\n",
    "    print(\"Você é maior de idade!\")\n",
    "else:\n",
    "    print(f\"Faltam {18 - idade} anos para você se tornar maior de idade!\")"
   ]
  },
  {
   "cell_type": "code",
   "execution_count": 6,
   "metadata": {},
   "outputs": [
    {
     "name": "stdout",
     "output_type": "stream",
     "text": [
      "Você é uma criança!\n"
     ]
    }
   ],
   "source": [
    "idade = int(input(\"Digite sua idade: \"))\n",
    "\n",
    "if idade >= 18:\n",
    "    print(\"Você é maior de idade!\")\n",
    "elif idade >= 13:\n",
    "    print(f\"Você é um adolescente!\\nFaltam {18 - idade} anos para você se tornar um adulto\")\n",
    "else:\n",
    "    print(\"Você é uma criança!\")"
   ]
  },
  {
   "cell_type": "code",
   "execution_count": 1,
   "metadata": {},
   "outputs": [
    {
     "name": "stdout",
     "output_type": "stream",
     "text": [
      "Carro velho\n",
      "--FIM--\n"
     ]
    }
   ],
   "source": [
    "tempo = int(input(\"Quantos anos tem seu carro: \"))\n",
    "\n",
    "if tempo <= 3:\n",
    "    print(\"Carro novo\")\n",
    "else:\n",
    "    print(\"Carro velho\")\n",
    "print('--FIM--')"
   ]
  }
 ],
 "metadata": {
  "kernelspec": {
   "display_name": "Python 3",
   "language": "python",
   "name": "python3"
  },
  "language_info": {
   "codemirror_mode": {
    "name": "ipython",
    "version": 3
   },
   "file_extension": ".py",
   "mimetype": "text/x-python",
   "name": "python",
   "nbconvert_exporter": "python",
   "pygments_lexer": "ipython3",
   "version": "3.9.0"
  }
 },
 "nbformat": 4,
 "nbformat_minor": 2
}
