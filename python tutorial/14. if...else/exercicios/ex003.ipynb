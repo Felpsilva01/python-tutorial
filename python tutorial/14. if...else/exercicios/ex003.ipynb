{
 "cells": [
  {
   "cell_type": "code",
   "execution_count": null,
   "metadata": {},
   "outputs": [],
   "source": [
    "'''\n",
    "Peça ao usuário para inserir os comprimentos dos três lados de um triângulo. \n",
    "Seu programa deve classificar o triângulo como equilátero, isósceles ou escaleno\n",
    "com base nos comprimentos dos lados.\n",
    "\n",
    "'''"
   ]
  },
  {
   "cell_type": "code",
   "execution_count": 4,
   "metadata": {},
   "outputs": [
    {
     "name": "stdout",
     "output_type": "stream",
     "text": [
      "Os lados fornecidos não formam um triângulo.\n"
     ]
    }
   ],
   "source": [
    "def forma_triangulo(a, b, c):\n",
    "    return a + b > c and b + c > a and c + a > b\n",
    "\n",
    "# Solicita os comprimentos dos lados ao usuário\n",
    "lado1 = float(input(\"Digite o comprimento do primeiro lado: \"))\n",
    "lado2 = float(input(\"Digite o comprimento do segundo lado: \"))\n",
    "lado3 = float(input(\"Digite o comprimento do terceiro lado: \"))\n",
    "\n",
    "if forma_triangulo(lado1, lado2, lado3):\n",
    "    print(\"Os lados fornecidos formam um triângulo.\")\n",
    "    if lado1 == lado2 == lado3:\n",
    "        print(\"Forma um triângulo equilátero!\")\n",
    "    elif lado1 != lado2 != lado3:\n",
    "        print(\"Forma um triângulo escaleno!!!\")\n",
    "    else:\n",
    "        print(\"O triângulo é isósceles!!!!!\")\n",
    "else:\n",
    "    print(\"Os lados fornecidos não formam um triângulo.\")"
   ]
  }
 ],
 "metadata": {
  "kernelspec": {
   "display_name": "Python 3",
   "language": "python",
   "name": "python3"
  },
  "language_info": {
   "codemirror_mode": {
    "name": "ipython",
    "version": 3
   },
   "file_extension": ".py",
   "mimetype": "text/x-python",
   "name": "python",
   "nbconvert_exporter": "python",
   "pygments_lexer": "ipython3",
   "version": "3.9.0"
  }
 },
 "nbformat": 4,
 "nbformat_minor": 2
}
