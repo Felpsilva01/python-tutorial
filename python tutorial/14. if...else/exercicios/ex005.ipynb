{
 "cells": [
  {
   "cell_type": "code",
   "execution_count": null,
   "metadata": {},
   "outputs": [],
   "source": [
    "'''\n",
    "Escreva um programa que solicita ao usuário para inserir um número inteiro. \n",
    "O programa deve verificar se o número é um número primo ou não. \n",
    "Um número primo é aquele que é divisível apenas por 1 e por ele mesmo.\n",
    "\n",
    "'''"
   ]
  },
  {
   "cell_type": "code",
   "execution_count": 4,
   "metadata": {},
   "outputs": [
    {
     "name": "stdout",
     "output_type": "stream",
     "text": [
      "5 é um número primo.\n"
     ]
    }
   ],
   "source": [
    "def is_prime(n):\n",
    "    if n <= 1:\n",
    "        return False\n",
    "    elif n == 2:\n",
    "        return True\n",
    "    elif n % 2 == 0:\n",
    "        return False\n",
    "\n",
    "    # Iterar de 3 até a raiz quadrada de n, com passo 2 para verificar apenas números ímpares\n",
    "    for i in range(3, int(n**0.5) + 1, 2):\n",
    "        if n % i == 0:\n",
    "            return False  # n é divisível por i, não é um número primo\n",
    "\n",
    "    return True  # Se nenhum divisor foi encontrado, n é um número primo\n",
    "\n",
    "# Solicitar ao usuário para inserir um número inteiro\n",
    "numero = int(input(\"Digite um número inteiro: \"))\n",
    "\n",
    "# Verificar se o número é primo\n",
    "if is_prime(numero):\n",
    "    print(f\"{numero} é um número primo.\")\n",
    "else:\n",
    "    print(f\"{numero} não é um número primo.\")\n"
   ]
  }
 ],
 "metadata": {
  "kernelspec": {
   "display_name": "Python 3",
   "language": "python",
   "name": "python3"
  },
  "language_info": {
   "codemirror_mode": {
    "name": "ipython",
    "version": 3
   },
   "file_extension": ".py",
   "mimetype": "text/x-python",
   "name": "python",
   "nbconvert_exporter": "python",
   "pygments_lexer": "ipython3",
   "version": "3.9.0"
  }
 },
 "nbformat": 4,
 "nbformat_minor": 2
}
