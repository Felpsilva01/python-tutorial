{
 "cells": [
  {
   "cell_type": "code",
   "execution_count": null,
   "metadata": {},
   "outputs": [],
   "source": [
    "'''\n",
    "Escreva um programa que pede ao usuário para inserir seu peso (em quilogramas)\n",
    "e altura (em metros). O programa deve calcular o Índice de Massa Corporal (IMC) usando a fórmula:\n",
    "'''"
   ]
  },
  {
   "cell_type": "code",
   "execution_count": 14,
   "metadata": {},
   "outputs": [
    {
     "name": "stdout",
     "output_type": "stream",
     "text": [
      "Seu IMC é de: 38.08\n",
      "Obesidade!\n"
     ]
    }
   ],
   "source": [
    "peso = float(input(\"Digite seu peso(kg): \"))\n",
    "altura = float(input(\"Digite sua altura(cm): \"))/100\n",
    "imc = peso/(altura**2)\n",
    "print(f\"Seu IMC é de: {imc:.2f}\")\n",
    "if imc < 18.5:\n",
    "    print(f\"Abaixo do peso!\")\n",
    "elif imc >= 18.5 and imc <= 24.9:\n",
    "    print(\"Peso normal!!\")\n",
    "elif imc > 25 and imc <= 29.9:\n",
    "    print(\"Sobrepeso\")\n",
    "else:\n",
    "    print(\"Obesidade!\")"
   ]
  }
 ],
 "metadata": {
  "kernelspec": {
   "display_name": "Python 3",
   "language": "python",
   "name": "python3"
  },
  "language_info": {
   "codemirror_mode": {
    "name": "ipython",
    "version": 3
   },
   "file_extension": ".py",
   "mimetype": "text/x-python",
   "name": "python",
   "nbconvert_exporter": "python",
   "pygments_lexer": "ipython3",
   "version": "3.9.0"
  }
 },
 "nbformat": 4,
 "nbformat_minor": 2
}
