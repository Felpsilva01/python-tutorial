{
 "cells": [
  {
   "cell_type": "code",
   "execution_count": null,
   "metadata": {},
   "outputs": [],
   "source": [
    "'''\n",
    "Crie um programa que pede ao usuário para inserir uma palavra. \n",
    "O programa deve verificar se a palavra é um palíndromo \n",
    "(uma palavra que se lê da mesma forma de trás para frente). \n",
    "Imprima uma mensagem indicando se a palavra é um palíndromo ou não.\n",
    "\n",
    "'''\n"
   ]
  },
  {
   "cell_type": "code",
   "execution_count": 5,
   "metadata": {},
   "outputs": [
    {
     "name": "stdout",
     "output_type": "stream",
     "text": [
      "A palavra 'Reinier' é um palíndromo!\n"
     ]
    }
   ],
   "source": [
    "palavra = str(input(\"Digite a palavra que deseja: \")).strip().lower()\n",
    "if palavra == palavra[::-1]:\n",
    "    print(f\"A palavra '{palavra.capitalize()}' é um palíndromo!\")\n",
    "else:\n",
    "    print(f\"'{palavra.capitalize}' não é um palíndromo!!!\")"
   ]
  }
 ],
 "metadata": {
  "kernelspec": {
   "display_name": "Python 3",
   "language": "python",
   "name": "python3"
  },
  "language_info": {
   "codemirror_mode": {
    "name": "ipython",
    "version": 3
   },
   "file_extension": ".py",
   "mimetype": "text/x-python",
   "name": "python",
   "nbconvert_exporter": "python",
   "pygments_lexer": "ipython3",
   "version": "3.9.0"
  }
 },
 "nbformat": 4,
 "nbformat_minor": 2
}
