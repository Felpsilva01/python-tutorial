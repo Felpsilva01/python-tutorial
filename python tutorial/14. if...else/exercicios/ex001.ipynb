{
 "cells": [
  {
   "cell_type": "code",
   "execution_count": null,
   "metadata": {},
   "outputs": [],
   "source": [
    "'''\n",
    "Escreva um programa que solicita ao usuário para inserir um número inteiro. \n",
    "O programa deve então verificar se o número é positivo, negativo ou zero, e imprimir uma mensagem apropriada.\n",
    "\n",
    "'''"
   ]
  },
  {
   "cell_type": "code",
   "execution_count": 3,
   "metadata": {},
   "outputs": [
    {
     "name": "stdout",
     "output_type": "stream",
     "text": [
      "-1 é NEGATIVO!\n"
     ]
    }
   ],
   "source": [
    "numeroUsuario = int(input(\"Digite o numero que desejar: \"))\n",
    "\n",
    "if numeroUsuario > 0:\n",
    "    print(f\"{numeroUsuario} é POSITIVO!\")\n",
    "elif numeroUsuario < 0:\n",
    "    print(f\"{numeroUsuario} é NEGATIVO!\")\n",
    "else:\n",
    "    print(f\"{numeroUsuario} é ZERO!\")"
   ]
  }
 ],
 "metadata": {
  "kernelspec": {
   "display_name": "Python 3",
   "language": "python",
   "name": "python3"
  },
  "language_info": {
   "codemirror_mode": {
    "name": "ipython",
    "version": 3
   },
   "file_extension": ".py",
   "mimetype": "text/x-python",
   "name": "python",
   "nbconvert_exporter": "python",
   "pygments_lexer": "ipython3",
   "version": "3.9.0"
  }
 },
 "nbformat": 4,
 "nbformat_minor": 2
}
