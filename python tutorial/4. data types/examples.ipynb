{
 "cells": [
  {
   "cell_type": "code",
   "execution_count": 3,
   "metadata": {},
   "outputs": [],
   "source": [
    "#str //Sequencia de caracteres\n",
    "texto = \"Olá\"\n",
    "\n",
    "#int //Números inteiros\n",
    "num_inteiro = 20\n",
    "\n",
    "#float //Números decimais\n",
    "num_flutuante = 20.5\n",
    "\n",
    "#complex //Números complexos\n",
    "numero_complexo = 3 + 2j\n",
    "\n",
    "#list //Coleções mutáveis e ordenadas de itens\n",
    "lista = ['Maçã', 'Banana', 'Coco']\n",
    "\n",
    "#tuple //Coleções imutáveis e ordenadas de itens\n",
    "tupla = ('maça', 'banana', 'coco')\n",
    "\n",
    "#range //Representa uma sequência imutável de números\n",
    "sequencia = range(6)\n",
    "\n",
    "#dict //Coleções de pares chave-valor\n",
    "dicionario = {\"Nome\" : \"Felipe\", \"Idade\" : \"22\"}\n",
    "\n",
    "#set //Coleções não ordenadas de elementos únicos.\n",
    "conjunto_animais = {\"Cachorro\", \"Gato\", \"Ovelha\"}\n",
    "\n",
    "#frozenset //Coleções não ordenadas de elementos únicos não modificavél.\n",
    "conjunto_permanente = {\"Cachorro\", \"Gato\", \"Ovelha\"}\n",
    "\n",
    "#bool //Valores lógicos verdadeiro ou falso\n",
    "booleano = True\n",
    "\n",
    "#bytes //Sequências de bytes imutáveis\n",
    "dados_bytes = b\"exemplo\"\n",
    "\n",
    "#bytearray //Sequências mutáveis de bytes\n",
    "dados_bytearray = bytearray(b\"exemplo\")\n",
    "\n",
    "#memoryview //Objeto que fornece uma visualização direta dos bytes\n",
    "mem_view = memoryview(dados_bytes)\n",
    "\n",
    "#None //Representa a ausência de valor ou nulo\n",
    "nada = None"
   ]
  },
  {
   "cell_type": "code",
   "execution_count": 4,
   "metadata": {},
   "outputs": [
    {
     "name": "stdout",
     "output_type": "stream",
     "text": [
      "<class 'tuple'>\n",
      "<class 'list'>\n"
     ]
    }
   ],
   "source": [
    "tuplinha = (\"apple\", \"banana\", \"cherry\")\n",
    "print(type(tuplinha))\n",
    "print(type(tupla))"
   ]
  }
 ],
 "metadata": {
  "kernelspec": {
   "display_name": "Python 3",
   "language": "python",
   "name": "python3"
  },
  "language_info": {
   "codemirror_mode": {
    "name": "ipython",
    "version": 3
   },
   "file_extension": ".py",
   "mimetype": "text/x-python",
   "name": "python",
   "nbconvert_exporter": "python",
   "pygments_lexer": "ipython3",
   "version": "3.9.0"
  }
 },
 "nbformat": 4,
 "nbformat_minor": 2
}
