{
 "cells": [
  {
   "cell_type": "code",
   "execution_count": 16,
   "metadata": {},
   "outputs": [],
   "source": [
    "# Criando um diocionário vazio\n",
    "meuDicionario = {}\n",
    "\n",
    "# Dicionário com alguns valores\n",
    "dicPessoa = {\n",
    "    'nome': 'joão',\n",
    "    'idade': 25,\n",
    "    'cidade': 'São Paulo'\n",
    "}"
   ]
  },
  {
   "cell_type": "code",
   "execution_count": 12,
   "metadata": {},
   "outputs": [
    {
     "name": "stdout",
     "output_type": "stream",
     "text": [
      "joão\n",
      "25\n"
     ]
    }
   ],
   "source": [
    "print(dicPessoa['nome'])\n",
    "print(dicPessoa['idade'])"
   ]
  },
  {
   "cell_type": "code",
   "execution_count": 25,
   "metadata": {},
   "outputs": [
    {
     "data": {
      "text/plain": [
       "'São Paulo'"
      ]
     },
     "execution_count": 25,
     "metadata": {},
     "output_type": "execute_result"
    }
   ],
   "source": [
    "# Adicionando um novo par chave-valor\n",
    "dicPessoa['profissao'] = 'Engenheiro'\n",
    "\n",
    "# Atualizando o valor de uma chave existente\n",
    "dicPessoa['idade'] = 26\n",
    "\n",
    "dicPessoa.pop('cidade')  # Remove a chave 'cidade' e seu valor\n"
   ]
  },
  {
   "cell_type": "code",
   "execution_count": 14,
   "metadata": {},
   "outputs": [
    {
     "name": "stdout",
     "output_type": "stream",
     "text": [
      "True\n",
      "False\n"
     ]
    }
   ],
   "source": [
    "print('idade' in dicPessoa)  # Saída: True\n",
    "print('altura' in dicPessoa)  # Saída: False\n"
   ]
  },
  {
   "cell_type": "code",
   "execution_count": 26,
   "metadata": {},
   "outputs": [
    {
     "name": "stdout",
     "output_type": "stream",
     "text": [
      "nome\n",
      "idade\n",
      "profissao\n",
      "joão\n",
      "26\n",
      "Engenheiro\n",
      "nome: joão\n",
      "idade: 26\n",
      "profissao: Engenheiro\n"
     ]
    }
   ],
   "source": [
    "# iterando sobre chaves\n",
    "for chave in dicPessoa:\n",
    "    print(chave)\n",
    "\n",
    "# iterando sobre valores\n",
    "for valores in dicPessoa.values():\n",
    "    print(valores)\n",
    "\n",
    "# iterando sobre pares\n",
    "for chave, valores in dicPessoa.items():\n",
    "    print(f'{chave}: {valores}')"
   ]
  }
 ],
 "metadata": {
  "kernelspec": {
   "display_name": "Python 3",
   "language": "python",
   "name": "python3"
  },
  "language_info": {
   "codemirror_mode": {
    "name": "ipython",
    "version": 3
   },
   "file_extension": ".py",
   "mimetype": "text/x-python",
   "name": "python",
   "nbconvert_exporter": "python",
   "pygments_lexer": "ipython3",
   "version": "3.9.0"
  }
 },
 "nbformat": 4,
 "nbformat_minor": 2
}
