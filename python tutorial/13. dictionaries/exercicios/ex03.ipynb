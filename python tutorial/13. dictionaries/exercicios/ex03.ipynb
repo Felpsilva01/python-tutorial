{
 "cells": [
  {
   "cell_type": "code",
   "execution_count": null,
   "metadata": {},
   "outputs": [],
   "source": [
    "'''\n",
    "Crie uma função chamada contar_letras que aceita uma string como argumento e retorna um \n",
    "dicionário onde as chaves são letras e os valores são a contagem de cada letra na string. \n",
    "Ignore espaços e faça a contagem ser case-insensitive.\n",
    "\n",
    "Por exemplo, para a string \"Python é uma linguagem de programação\", a função deve retornar:\n",
    "'''\n",
    "'''{\n",
    "    'p': 1, 'y': 1, 't': 2, 'h': 1, 'o': 4, 'n': 3,\n",
    "    'é': 1, 'u': 3, 'm': 2, 'l': 1, 'i': 1, 'g': 2,\n",
    "    'a': 4, 'd': 1, 'e': 2, 'r': 2, 'm': 2, 'ç': 1,\n",
    "    'p': 1, 'g': 1\n",
    "}'''\n"
   ]
  },
  {
   "cell_type": "code",
   "execution_count": 1,
   "metadata": {},
   "outputs": [
    {
     "name": "stdout",
     "output_type": "stream",
     "text": [
      "{'p': 2, 'y': 1, 't': 1, 'h': 1, 'o': 3, 'n': 2, 'é': 1, 'u': 2, 'm': 3, 'a': 4, 'l': 1, 'i': 1, 'g': 3, 'e': 2, 'd': 1, 'r': 2, 'ç': 1, 'ã': 1}\n"
     ]
    }
   ],
   "source": [
    "def contar_letras(frase):\n",
    "    # Inicializar um dicionário para armazenar a contagem de letras\n",
    "    contagem_letras = {}\n",
    "\n",
    "    # Iterar sobre cada caractere na string\n",
    "    for char in frase:\n",
    "        # Ignorar espaços\n",
    "        if char != ' ':\n",
    "            # Tornar a contagem case-insensitive\n",
    "            char = char.lower()\n",
    "\n",
    "            # Atualizar a contagem de letras no dicionário\n",
    "            contagem_letras[char] = contagem_letras.get(char, 0) + 1\n",
    "\n",
    "    return contagem_letras\n",
    "\n",
    "# Exemplo de uso da função\n",
    "frase_exemplo = \"Python é uma linguagem de programação\"\n",
    "resultado = contar_letras(frase_exemplo)\n",
    "\n",
    "# Exibir o resultado\n",
    "print(resultado)\n"
   ]
  }
 ],
 "metadata": {
  "kernelspec": {
   "display_name": "Python 3",
   "language": "python",
   "name": "python3"
  },
  "language_info": {
   "codemirror_mode": {
    "name": "ipython",
    "version": 3
   },
   "file_extension": ".py",
   "mimetype": "text/x-python",
   "name": "python",
   "nbconvert_exporter": "python",
   "pygments_lexer": "ipython3",
   "version": "3.9.0"
  }
 },
 "nbformat": 4,
 "nbformat_minor": 2
}
