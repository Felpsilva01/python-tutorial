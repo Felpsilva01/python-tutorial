{
 "cells": [
  {
   "cell_type": "code",
   "execution_count": null,
   "metadata": {},
   "outputs": [],
   "source": [
    "'''\n",
    "Dado o dicionário abaixo que representa o estoque de produtos em um armazém:\n",
    "Atualize o estoque da seguinte forma:\n",
    "\n",
    "    Adicione 10 unidades de farinha ao estoque.\n",
    "    Reduza o estoque de arroz em 5 unidades.\n",
    "\n",
    "'''"
   ]
  },
  {
   "cell_type": "code",
   "execution_count": 7,
   "metadata": {},
   "outputs": [],
   "source": [
    "estoque = {\n",
    "    'arroz': 50,\n",
    "    'feijao': 30,\n",
    "    'oleo': 20,\n",
    "    'acucar': 40\n",
    "}"
   ]
  },
  {
   "cell_type": "code",
   "execution_count": 8,
   "metadata": {},
   "outputs": [
    {
     "name": "stdout",
     "output_type": "stream",
     "text": [
      "arroz: 45\n",
      "feijao: 30\n",
      "oleo: 20\n",
      "acucar: 40\n",
      "farinha: 10\n"
     ]
    }
   ],
   "source": [
    "estoque['farinha'] = estoque.get('farinha', 0) + 10\n",
    "estoque['arroz'] -= 5\n",
    "\n",
    "for key, value in estoque.items():\n",
    "    print(f'{key}: {value}')"
   ]
  }
 ],
 "metadata": {
  "kernelspec": {
   "display_name": "Python 3",
   "language": "python",
   "name": "python3"
  },
  "language_info": {
   "codemirror_mode": {
    "name": "ipython",
    "version": 3
   },
   "file_extension": ".py",
   "mimetype": "text/x-python",
   "name": "python",
   "nbconvert_exporter": "python",
   "pygments_lexer": "ipython3",
   "version": "3.9.0"
  }
 },
 "nbformat": 4,
 "nbformat_minor": 2
}
