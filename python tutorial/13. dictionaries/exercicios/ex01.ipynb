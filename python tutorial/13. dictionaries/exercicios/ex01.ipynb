{
 "cells": [
  {
   "cell_type": "code",
   "execution_count": null,
   "metadata": {},
   "outputs": [],
   "source": [
    "\n",
    "'''Crie um dicionário chamado aluno com as seguintes informações:\n",
    "\n",
    "Nome: \"Maria\"\n",
    "Idade: 22\n",
    "Curso: \"Ciências da Computação\"\n",
    "Notas: {'matematica': 90, 'ingles': 85, 'historia': 75}\n",
    "Em seguida, adicione a disciplina 'fisica' ao dicionário de notas com a pontuação 88.'''"
   ]
  },
  {
   "cell_type": "code",
   "execution_count": 7,
   "metadata": {},
   "outputs": [
    {
     "name": "stdout",
     "output_type": "stream",
     "text": [
      "Nome: Maria\n",
      "Idade: 22\n",
      "Curso: Ciências da Computação\n",
      "Notas: {'matematica': 90, 'ingles': 85, 'historia': 75, 'fisica': 88}\n"
     ]
    }
   ],
   "source": [
    "dicAluno = {\n",
    "    'Nome': 'Maria',\n",
    "    'Idade': 22,\n",
    "    'Curso': 'Ciências da Computação',\n",
    "    'Notas': {'matematica': 90, 'ingles': 85, 'historia': 75}\n",
    "}\n",
    "dicAluno['Notas']['fisica'] = 88\n",
    "for chave, valor in dicAluno.items():\n",
    "    print(f'{chave}: {valor}')"
   ]
  }
 ],
 "metadata": {
  "kernelspec": {
   "display_name": "Python 3",
   "language": "python",
   "name": "python3"
  },
  "language_info": {
   "codemirror_mode": {
    "name": "ipython",
    "version": 3
   },
   "file_extension": ".py",
   "mimetype": "text/x-python",
   "name": "python",
   "nbconvert_exporter": "python",
   "pygments_lexer": "ipython3",
   "version": "3.9.0"
  }
 },
 "nbformat": 4,
 "nbformat_minor": 2
}
